{
 "cells": [
  {
   "cell_type": "markdown",
   "metadata": {},
   "source": [
    "![header](http://eurogoos.eu/wp-content/uploads/SOCIB-logo.jpg)"
   ]
  },
  {
   "cell_type": "markdown",
   "metadata": {},
   "source": [
    "# SOCIB API TRAINING\n",
    "<div style=\"text-align: right\"><i> 01-Part-one-out-of-01 </i></div>"
   ]
  },
  {
   "cell_type": "markdown",
   "metadata": {},
   "source": [
    "---"
   ]
  },
  {
   "cell_type": "markdown",
   "metadata": {
    "toc": true
   },
   "source": [
    "<h1>Table of Contents<span class=\"tocSkip\"></span></h1>\n",
    "<div class=\"toc\"><ul class=\"toc-item\">\n",
    "    <li><span><a href=\"#Introduction\" data-toc-modified-id=\"Introduction-1\">\n",
    "        <span class=\"toc-item-num\">1&nbsp;&nbsp;</span>Introduction</a></span>\n",
    "    </li>\n",
    "    <li><span><a href=\"#Setup\" data-toc-modified-id=\"Setup-2\">\n",
    "        <span class=\"toc-item-num\">2&nbsp;&nbsp;</span>Setup</a></span>\n",
    "        <ul class=\"toc-item\">\n",
    "            <li>\n",
    "                <span><a href=\"#Importing-modules\" data-toc-modified-id=\"Importing-modules-2.1\">\n",
    "                    <span class=\"toc-item-num\">2.1&nbsp;&nbsp;</span>Importing modules</a></span>\n",
    "            </li>\n",
    "            <li>\n",
    "                <span><a href=\"#API-token\" data-toc-modified-id=\"API-token-2.2\">\n",
    "                    <span class=\"toc-item-num\">2.2&nbsp;&nbsp;</span>API token</a></span>\n",
    "            </li>\n",
    "        </ul>\n",
    "    <li>\n",
    "        <span><a href=\"#Using-SOCIB-API-to-discover-available:\" data-toc-modified-id=\"Using-SOCIB-API-to-discover-available:\"><span class=\"toc-item-num\">3&nbsp;&nbsp;</span>Using SOCIB API to discover available:</a></span>\n",
    "        <ul>\n",
    "            <li><span><a href=\"#Variables\" data-toc-modified-id=\"Variables\"><span class=\"toc-item-num\">3.1&nbsp;&nbsp;</span>Variables</a></span></li>\n",
    "            <li><span><a href=\"#Instrument-types\" data-toc-modified-id=\"Instrument-types\"><span class=\"toc-item-num\">3.2&nbsp;&nbsp;</span>Instrument types</a></span></li>\n",
    "            <li><span><a href=\"#Platform-types\" data-toc-modified-id=\"Platform-types\"><span class=\"toc-item-num\">3.3&nbsp;&nbsp;</span>Platform types</a></span></li>\n",
    "           <li><span><a href=\"#Processing-levels\" data-toc-modified-id=\"Processing-levels\"><span class=\"toc-item-num\">3.4&nbsp;&nbsp;</span>Processing levels</a></span></li>\n",
    "          <li><span><a href=\"#Data-modes\" data-toc-modified-id=\"Data-modes\"><span class=\"toc-item-num\">3.5&nbsp;&nbsp;</span>Data-modes</a></span></li>\n",
    "          <li><span><a href=\"#Feature-types\" data-toc-modified-id=\"Feature-types\"><span class=\"toc-item-num\">3.6&nbsp;&nbsp;</span>Feature-types</a></span></li>\n",
    "            <li><span><a href=\"#Data-entities\" data-toc-modified-id=\"Data-entities\"><span class=\"toc-item-num\">3.7&nbsp;&nbsp;</span>Data-entities</a></span></li>\n",
    "        </ul>\n",
    "     </li>\n",
    "    </ul>\n",
    "</div>"
   ]
  },
  {
   "cell_type": "markdown",
   "metadata": {},
   "source": [
    "---"
   ]
  },
  {
   "cell_type": "markdown",
   "metadata": {},
   "source": [
    "# GETTING STARTED"
   ]
  },
  {
   "cell_type": "markdown",
   "metadata": {},
   "source": [
    "## Introduction \n",
    "\n",
    "SOCIB API is a door users can knock-on in order to get information about the Balearic Islands Coastal Ocean Observing and Forecast System (SOCIB). SOCIB API is represented by an generic url (SOCIB API url). The elements that trigger a response when added to the generic API url are called `ENDPOINTS`.\n",
    "Among the present posibilities:\n",
    "<ul>\n",
    "    <li>measured variables (<span class=\"alert-info\">/standard-variables/</span>)</li>\n",
    "    <li>stock of instruments (<span class=\"alert-info\">/instrument-types/</span>) and platforms(<span class=\"alert-info\">/platform-types/</span>), \n",
    "</li>\n",
    "    <li>data maturity (<span class=\"alert-info\">/processing-levels/</span> and <span class=\"alert-info\">/data-modes/</span>)</li>\n",
    "    <li>kind of data (<span class=\"alert-info\">/feature-types/</span>)</li>\n",
    "    <li>data entities (<span class=\"alert-info\">/entries/</span>, <span class=\"alert-info\">/data-sources/</span>, <span class=\"alert-info\">/instruments/</span>, <span class=\"alert-info\">/platforms/</span>, <span class=\"alert-info\">/data-products/</span>)\n",
    "    </li>\n",
    "\n",
    "</ul>\n",
    "\n",
    "<br>This notebook will focus then on briefly introduce SOCIB API capabilities/usability."
   ]
  },
  {
   "cell_type": "markdown",
   "metadata": {},
   "source": [
    "---"
   ]
  },
  {
   "cell_type": "markdown",
   "metadata": {},
   "source": [
    "## Setup"
   ]
  },
  {
   "cell_type": "markdown",
   "metadata": {},
   "source": [
    "### Importing modules"
   ]
  },
  {
   "cell_type": "markdown",
   "metadata": {},
   "source": [
    "We will relly on a set of python modules to deal with SOCIB API next.<br> `Please run the next cell` so that they can be used by the present Jupyter Notebook:"
   ]
  },
  {
   "cell_type": "code",
   "execution_count": null,
   "metadata": {},
   "outputs": [],
   "source": [
    "import warnings\n",
    "warnings.filterwarnings(\"ignore\")\n",
    "\n",
    "import json\n",
    "import pandas\n",
    "import requests\n",
    "import IPython\n",
    "from json2html import *"
   ]
  },
  {
   "cell_type": "markdown",
   "metadata": {},
   "source": [
    "<div class=\"alert alert-block alert-warning\" style=\"margin-left: 2em\">\n",
    "<b>Tip!</b>\n",
    "    \n",
    "***  \n",
    "If any of them raises any error please run prior to load it and in a dedicated cell, either:<ul><li> <i>`!conda install packageName --yes`</i></li> or <li><i>`!pip install packageName --yes`</i></li></ul>"
   ]
  },
  {
   "cell_type": "markdown",
   "metadata": {},
   "source": [
    "### API token"
   ]
  },
  {
   "cell_type": "markdown",
   "metadata": {},
   "source": [
    "To be able to query SOCIB API you will need first a <i>token</i> (api key).<br>To get one please visit the [API home page](http://api.socib.es/home/) and fill-in the form at bottom. An email will be sent to you with such <i>token</i>."
   ]
  },
  {
   "cell_type": "markdown",
   "metadata": {},
   "source": [
    "`Please run the next cell if you wanna have a glimpse to API home page`:"
   ]
  },
  {
   "cell_type": "code",
   "execution_count": null,
   "metadata": {},
   "outputs": [],
   "source": [
    "IPython.display.HTML('<iframe src=\"http://api.socib.es/home/\"\" width=100% height=500></iframe>')"
   ]
  },
  {
   "cell_type": "markdown",
   "metadata": {},
   "source": [
    "`Please set in the next cell your api_key and run the cell below to load it in memory for later use`:"
   ]
  },
  {
   "cell_type": "code",
   "execution_count": null,
   "metadata": {},
   "outputs": [],
   "source": [
    "api_key = '' #write here the token emailed to you"
   ]
  },
  {
   "cell_type": "code",
   "execution_count": null,
   "metadata": {},
   "outputs": [],
   "source": [
    "api_url = 'http://api.socib.es'\n",
    "headers = {\n",
    "    'accept': 'application/vnd.socib+json',\n",
    "    'apikey': api_key,\n",
    "}"
   ]
  },
  {
   "cell_type": "markdown",
   "metadata": {},
   "source": [
    "<div class=\"alert alert-block alert-warning\" style=\"margin-left: 2em\">\n",
    "<b>Tip!</b>\n",
    "    \n",
    "***  \n",
    "If you do not remember your token or wanna ask for a new one please reach <i>data.center@socib.es</i> with the following `subject`: 'SOCIB API TOKEN: UPDATE/REMIND REQUEST'"
   ]
  },
  {
   "cell_type": "markdown",
   "metadata": {},
   "source": [
    "---"
   ]
  },
  {
   "cell_type": "markdown",
   "metadata": {},
   "source": [
    "## Using SOCIB API to discover available:"
   ]
  },
  {
   "cell_type": "markdown",
   "metadata": {},
   "source": [
    "### Variables"
   ]
  },
  {
   "cell_type": "markdown",
   "metadata": {},
   "source": [
    "SOCIB is/has been monitoring a wide range of metocean (meteorologic/ocenographic) variables. <br>Using the API we are able to get the list of such variables. "
   ]
  },
  {
   "cell_type": "markdown",
   "metadata": {},
   "source": [
    "`Run the next cell and see how`:"
   ]
  },
  {
   "cell_type": "code",
   "execution_count": null,
   "metadata": {},
   "outputs": [],
   "source": [
    "end_point = '/standard-variables/'\n",
    "url = '%s%s' % (api_url, end_point)\n",
    "standard_variables_request = requests.get(url, headers=headers)\n",
    "standard_variables_response = json.loads(standard_variables_request.text)        \n",
    "\n",
    "print('API Query : '+ url)\n",
    "print('SOCIB is monitoring a total of %s variables:'%(len(standard_variables_response)))\n",
    "pandas.DataFrame.from_dict(standard_variables_response)"
   ]
  },
  {
   "cell_type": "markdown",
   "metadata": {},
   "source": [
    "Let's have a detailed look of one of them (`run the next cell`):"
   ]
  },
  {
   "cell_type": "code",
   "execution_count": null,
   "metadata": {},
   "outputs": [],
   "source": [
    "code = 'wind_speed'\n",
    "select = [item for item in standard_variables_response if item['code']==code]\n",
    "IPython.display.HTML(json2html.convert(json=select))"
   ]
  },
  {
   "cell_type": "markdown",
   "metadata": {},
   "source": [
    "### Instrument types"
   ]
  },
  {
   "cell_type": "markdown",
   "metadata": {},
   "source": [
    "SOCIB is regularly deploying intruments anchored to platforms in order to monitor ocean state and variability.<br>\n",
    "To know more about which kind of instruments has been deployed by SOCIB since ever, `query the API by running the next cell`:"
   ]
  },
  {
   "cell_type": "code",
   "execution_count": null,
   "metadata": {},
   "outputs": [],
   "source": [
    "end_point = '/instrument-types/'\n",
    "url = '%s%s' % (api_url, end_point)\n",
    "instrument_types_request = requests.get(url, headers=headers)\n",
    "instrument_types_response = json.loads(instrument_types_request.text)        \n",
    "\n",
    "print('API Query : '+ url)\n",
    "print('SOCIB stock of instrument counts for %s:'%(len(instrument_types_response)))\n",
    "pandas.DataFrame.from_dict(instrument_types_response)"
   ]
  },
  {
   "cell_type": "markdown",
   "metadata": {},
   "source": [
    "### Platform types"
   ]
  },
  {
   "cell_type": "markdown",
   "metadata": {},
   "source": [
    "SOCIB is regularly deploying platforms with instruments attached in order to monitor ocean state and variability.<br>\n",
    "To know more about which kind of platforms has been deployed by SOCIB since ever, `query the API by running the next cell`:"
   ]
  },
  {
   "cell_type": "code",
   "execution_count": null,
   "metadata": {},
   "outputs": [],
   "source": [
    "end_point = '/platform-types/'\n",
    "url = '%s%s' % (api_url, end_point)\n",
    "platform_types_request = requests.get(url, headers=headers)\n",
    "platform_types_response = json.loads(platform_types_request.text)        \n",
    "\n",
    "print('API Query : '+ url)\n",
    "print('SOCIB stock of platform counts for %s:'%(len(platform_types_response)))\n",
    "pandas.DataFrame.from_dict(platform_types_response)"
   ]
  },
  {
   "cell_type": "markdown",
   "metadata": {},
   "source": [
    "### Processing levels"
   ]
  },
  {
   "cell_type": "markdown",
   "metadata": {},
   "source": [
    "SOCIB data can be classified according to its level of processing it has gone trough since collected. <br>\n",
    "To know more about these processing levels, `query the API by running the next cell`:"
   ]
  },
  {
   "cell_type": "code",
   "execution_count": null,
   "metadata": {},
   "outputs": [],
   "source": [
    "end_point = '/processing-levels/'\n",
    "url = '%s%s' % (api_url, end_point)\n",
    "processing_levels_request = requests.get(url, headers=headers)\n",
    "processing_levels_response = json.loads(processing_levels_request.text)        \n",
    "\n",
    "print('API Query : '+ url)\n",
    "print('SOCIB distributes its data in %s processing levels'%(len(processing_levels_response)))\n",
    "pandas.DataFrame.from_dict(processing_levels_response)"
   ]
  },
  {
   "cell_type": "markdown",
   "metadata": {},
   "source": [
    "### Data modes"
   ]
  },
  {
   "cell_type": "markdown",
   "metadata": {},
   "source": [
    "SOCIB data can be also classified according to its timeliness in different data modes.<br>\n",
    "To know more about these data modes, `query the API by running the next cell`:"
   ]
  },
  {
   "cell_type": "code",
   "execution_count": null,
   "metadata": {},
   "outputs": [],
   "source": [
    "end_point = '/data-modes/'\n",
    "url = '%s%s' % (api_url, end_point)\n",
    "data_modes_request = requests.get(url, headers=headers)\n",
    "data_modes_response = json.loads(data_modes_request.text)        \n",
    "\n",
    "print('API Query : '+ url)\n",
    "print('SOCIB distributes its data in %s data modes'%(len(data_modes_response)))\n",
    "pandas.DataFrame.from_dict(data_modes_response)"
   ]
  },
  {
   "cell_type": "markdown",
   "metadata": {},
   "source": [
    "### Feature types"
   ]
  },
  {
   "cell_type": "markdown",
   "metadata": {},
   "source": [
    "SOCIB data can be classified according to its shape in different feature types. <br>\n",
    "To know more about these feature types, `query the API by running the next cell`:"
   ]
  },
  {
   "cell_type": "code",
   "execution_count": null,
   "metadata": {},
   "outputs": [],
   "source": [
    "end_point = '/feature-types/'\n",
    "url = '%s%s' % (api_url, end_point)\n",
    "feature_types_request = requests.get(url, headers=headers)\n",
    "feature_types_response = json.loads(feature_types_request.text)        \n",
    "\n",
    "print('API Query : '+ url)\n",
    "print('SOCIB data comprisses %s different feature types'%(len(feature_types_response)))\n",
    "pandas.DataFrame.from_dict(feature_types_response)"
   ]
  },
  {
   "cell_type": "markdown",
   "metadata": {},
   "source": [
    "### Data entities"
   ]
  },
  {
   "cell_type": "markdown",
   "metadata": {},
   "source": [
    "Observations (variable values reported by instruments and platforms) are stored in netCDF files (format widely used by the MetOcean community for a number of advantages). These files constitute therefore the basic metocean data entity. Nevertheless, to ease data retrieval, some grouping of these files are enable as: data-products, data-platforms and data-sources. Here after a bit more:"
   ]
  },
  {
   "cell_type": "markdown",
   "metadata": {},
   "source": [
    "<ul><li><span class=\"alert-info\" style=\"font-size: large\"><b>/entries/</b></span></li></ul>"
   ]
  },
  {
   "cell_type": "markdown",
   "metadata": {},
   "source": [
    "**entries** represent these files containing the information gathered by the instruments and plaforms deployed by SOCIB. <br>`Run he next cell to see how many are available`:"
   ]
  },
  {
   "cell_type": "code",
   "execution_count": null,
   "metadata": {},
   "outputs": [],
   "source": [
    "end_point = '/entries/'\n",
    "url = '%s%s' % (api_url, end_point)\n",
    "entries_request = requests.get(url, headers=headers)\n",
    "entries_response = json.loads(entries_request.text)        \n",
    "\n",
    "print('API Query : '+ url)\n",
    "print('SOCIB data is availale trough %s netCDF files so far...'%(entries_response['count']))\n",
    "print('Find next a preview of the first %s ones'%(len(entries_response['results'])))\n",
    "pandas.DataFrame.from_dict(entries_response['results'])"
   ]
  },
  {
   "cell_type": "markdown",
   "metadata": {},
   "source": [
    "Let's have  a closer look to the first one (`run the next cell`):"
   ]
  },
  {
   "cell_type": "code",
   "execution_count": null,
   "metadata": {},
   "outputs": [],
   "source": [
    "entry = entries_response['results'][0]\n",
    "IPython.display.HTML(json2html.convert(json=entry))"
   ]
  },
  {
   "cell_type": "markdown",
   "metadata": {},
   "source": [
    "Or, using the API (`run the next cell`):"
   ]
  },
  {
   "cell_type": "code",
   "execution_count": null,
   "metadata": {},
   "outputs": [],
   "source": [
    "end_point = '/entries/'\n",
    "entry_id = entry['id']\n",
    "url = '%s%s%s' % (api_url, end_point, entry_id)\n",
    "entry_request = requests.get(url, headers=headers)\n",
    "entry_response = json.loads(entry_request.text)        \n",
    "\n",
    "print('API Query : '+ url)\n",
    "IPython.display.HTML(json2html.convert(json=entry))"
   ]
  },
  {
   "cell_type": "markdown",
   "metadata": {},
   "source": [
    "<div class=\"alert alert-block alert-success\" style=\"margin-left: 2em\">\n",
    "<b>More!</b>\n",
    "    \n",
    "***  \n",
    "To see way more about SOCIB files please check the `entries` dedicated notebooks:\n",
    "<ul>\n",
    "    <li><span><a href=\"02-entries/01-entries-query-details.ipynb\">01-entries-query-details</a></span></li>\n",
    "    <li><span><a href=\"02-entries/02-entry-viewers.ipynb\">02-entry-viewers</a></span></li>\n",
    "    <li><span><a href=\"02-entries/03-entry-services.ipynb\">03-entry-services</a></span></li>\n",
    "    <li><span><a href=\"02-entries/04-entry-data.ipynb\">04-entry-data</a></span></li>\n",
    "    <li><span><a href=\"02-entries/05-entry-data-subsetting.ipynb\">05-entry-data-subsetting</a></span></li>\n",
    "    <li><span><a href=\"02-entries/06-entry-data-resampling.ipynb\">06-entry-data-resampling</a></span></li>\n",
    "</ul>"
   ]
  },
  {
   "cell_type": "markdown",
   "metadata": {},
   "source": [
    "<ul><li><span class=\"alert-info\" style=\"font-size: large\"><b>/instruments/</b></span></li></ul>"
   ]
  },
  {
   "cell_type": "markdown",
   "metadata": {},
   "source": [
    "**instruments** represent measurinng devices deployed by SOCIB anchored to a fixed or mobile platform somewhere. <br>Above we saw already that there are many different types...Let's see now, `by running the next cell`, the details about each of the instruments composing these types:"
   ]
  },
  {
   "cell_type": "code",
   "execution_count": null,
   "metadata": {},
   "outputs": [],
   "source": [
    "end_point = '/instruments/'\n",
    "url = '%s%s' % (api_url, end_point)\n",
    "instruments_request = requests.get(url, headers=headers)\n",
    "instruments_response = json.loads(instruments_request.text)        \n",
    "\n",
    "print('API Query : '+ url)\n",
    "print('SOCIB network of instruments is composed by %s instruments (some of them no longer active)'%(instruments_response['count']))\n",
    "print('Find next a preview of the first %s ones'%(len(instruments_response['results'])))\n",
    "pandas.DataFrame.from_dict(instruments_response['results'])"
   ]
  },
  {
   "cell_type": "markdown",
   "metadata": {},
   "source": [
    "Let's have a closer look to the first one (`run the next cell`):"
   ]
  },
  {
   "cell_type": "code",
   "execution_count": null,
   "metadata": {},
   "outputs": [],
   "source": [
    "instrument = instruments_response['results'][0]\n",
    "IPython.display.HTML(json2html.convert(json=instrument))"
   ]
  },
  {
   "cell_type": "markdown",
   "metadata": {},
   "source": [
    "Or, using the API (`run the next cell`):"
   ]
  },
  {
   "cell_type": "code",
   "execution_count": null,
   "metadata": {},
   "outputs": [],
   "source": [
    "end_point = '/instruments/'\n",
    "instrument_id = instrument['id']\n",
    "url = '%s%s%s' % (api_url, end_point, instrument_id)\n",
    "instrument_request = requests.get(url, headers=headers)\n",
    "instrument_response = json.loads(instrument_request.text)        \n",
    "\n",
    "print('API Query : '+ url)\n",
    "IPython.display.HTML(json2html.convert(json=instrument))"
   ]
  },
  {
   "cell_type": "markdown",
   "metadata": {},
   "source": [
    "<div class=\"alert alert-block alert-success\" style=\"margin-left: 2em\">\n",
    "<b>More! - UNDERCONSTRUCTION...</b>\n",
    "    \n",
    "***  \n",
    "To see way more about SOCIB instruments please check the `instruments` dedicated notebooks:\n",
    "<ul>\n",
    "    <li><span><a href=\"03-instruments/01-instrument-details.ipynb\">01-instrument-details</a></span></li>\n",
    "    <li><span><a href=\"03-instruments/02-instrument-search.ipynb\">02-instrument-search</a></span></li>\n",
    "    <li><span><a href=\"03-instruments/03-instrument-composing-data-sources.ipynb\">03-instrument-composing-data-sources</a></span></li>\n",
    "    <li><span><a href=\"03-instruments/04-instrument-composing-entries.ipynb\">04-instrument-composing-entries</a></span></li>    \n",
    "</ul>"
   ]
  },
  {
   "cell_type": "markdown",
   "metadata": {},
   "source": [
    "<ul><li><span class=\"alert-info\" style=\"font-size: large\"><b>/platforms/</b></span></li></ul>"
   ]
  },
  {
   "cell_type": "markdown",
   "metadata": {},
   "source": [
    "**platforms** represent the structures deployed by SOCIB to anchor the different instruments and perform measurements somewhere. <br>Above we saw already that there are many different types...Let's see now, `by running the next cell`, the details about each of the platforms composing these types:"
   ]
  },
  {
   "cell_type": "code",
   "execution_count": null,
   "metadata": {},
   "outputs": [],
   "source": [
    "end_point = '/platforms/'\n",
    "url = '%s%s' % (api_url, end_point)\n",
    "platforms_request = requests.get(url, headers=headers)\n",
    "platforms_response = json.loads(platforms_request.text)        \n",
    "\n",
    "print('API Query : '+ url)\n",
    "print('SOCIB network of platforms is composed by %s platforms (some of them no longer active)'%(platforms_response['count']))\n",
    "print('Find next a preview of the first %s ones'%(len(platforms_response['results'])))\n",
    "pandas.DataFrame.from_dict(platforms_response['results'])"
   ]
  },
  {
   "cell_type": "markdown",
   "metadata": {},
   "source": [
    "Let's have a closer look to the first one (`run the next cell`):"
   ]
  },
  {
   "cell_type": "code",
   "execution_count": null,
   "metadata": {},
   "outputs": [],
   "source": [
    "platform = platforms_response['results'][0]\n",
    "IPython.display.HTML(json2html.convert(json=platform))"
   ]
  },
  {
   "cell_type": "markdown",
   "metadata": {},
   "source": [
    "Or, using the API (`run the next cell`):"
   ]
  },
  {
   "cell_type": "code",
   "execution_count": null,
   "metadata": {},
   "outputs": [],
   "source": [
    "end_point = '/platforms/'\n",
    "platform_id = platform['id']\n",
    "url = '%s%s%s' % (api_url, end_point, platform_id)\n",
    "platform_request = requests.get(url, headers=headers)\n",
    "platform_response = json.loads(platform_request.text)        \n",
    "\n",
    "print('API Query : '+ url)\n",
    "IPython.display.HTML(json2html.convert(json=platform))"
   ]
  },
  {
   "cell_type": "markdown",
   "metadata": {},
   "source": [
    "<div class=\"alert alert-block alert-success\" style=\"margin-left: 2em\">\n",
    "<b>More! - UNDERCONSTRUCTION...</b>\n",
    "    \n",
    "***  \n",
    "To see way more about SOCIB platforms please check the `platforms` dedicated notebooks:\n",
    "<ul>\n",
    "    <li><span><a href=\"04-platforms/01-platform-details.ipynb\">01-platform-details</a></span></li>\n",
    "    <li><span><a href=\"04-platforms/02-platform-search.ipynb\">02-platform-search</a></span></li>\n",
    "    <li><span><a href=\"04-platforms/03-platform-composing-data-sources.ipynb\">03-platform-composing-data-sources</a></span></li>\n",
    "    <li><span><a href=\"04-platforms/04-platform-composing-entries.ipynb\">04-platform-composing-entries</a></span></li>    \n",
    "</ul>"
   ]
  },
  {
   "cell_type": "markdown",
   "metadata": {},
   "source": [
    "<ul><li><span class=\"alert-info\" style=\"font-size: large\"><b>/data-sources/</b></span></li></ul>"
   ]
  },
  {
   "cell_type": "markdown",
   "metadata": {},
   "source": [
    "**data-sources** represent platforms and instrument enssembles deployed somewhere to obtain streams of data.<br>\n",
    "The endurance of these enssembles might vary due to bio-chemical constrains (i.e biofouling) or physical damage (storms, vandalism etc)\n",
    "<br>`Run he next cell to see how many are available`:"
   ]
  },
  {
   "cell_type": "code",
   "execution_count": null,
   "metadata": {},
   "outputs": [],
   "source": [
    "end_point = '/data-sources/'\n",
    "url = '%s%s' % (api_url, end_point)\n",
    "data_sources_request = requests.get(url, headers=headers)\n",
    "data_sources_response = json.loads(data_sources_request.text)        \n",
    "\n",
    "print('API Query : '+ url)\n",
    "print('So far SOCIB has procured a total of %s data-streams...'%(data_sources_response['count']))\n",
    "print('Find next a preview of the first %s ones'%(len(data_sources_response['results'])))\n",
    "pandas.DataFrame.from_dict(data_sources_response['results'])"
   ]
  },
  {
   "cell_type": "markdown",
   "metadata": {},
   "source": [
    "Let's have a closer look to the first one (`run the next cell`):"
   ]
  },
  {
   "cell_type": "code",
   "execution_count": null,
   "metadata": {},
   "outputs": [],
   "source": [
    "data_source = data_sources_response['results'][0]\n",
    "IPython.display.HTML(json2html.convert(json=data_source))"
   ]
  },
  {
   "cell_type": "markdown",
   "metadata": {},
   "source": [
    "Or, using the API (`run the next cell`):"
   ]
  },
  {
   "cell_type": "code",
   "execution_count": null,
   "metadata": {},
   "outputs": [],
   "source": [
    "end_point = '/data-sources/'\n",
    "data_source_id = data_source['id']\n",
    "url = '%s%s%s' % (api_url, end_point, data_source_id)\n",
    "data_source_request = requests.get(url, headers=headers)\n",
    "data_source_response = json.loads(data_source_request.text)        \n",
    "\n",
    "print('API Query : '+ url)\n",
    "IPython.display.HTML(json2html.convert(json=data_source))"
   ]
  },
  {
   "cell_type": "markdown",
   "metadata": {},
   "source": [
    "<div class=\"alert alert-block alert-success\" style=\"margin-left: 2em\">\n",
    "<b>More! - UNDERCONSTRUCTION...</b>\n",
    "    \n",
    "***  \n",
    "To see way more about SOCIB data-sources please check the `data-sources` dedicated notebooks:\n",
    "<ul>\n",
    "    <li><span><a href=\"02-data-sources/01-data-source-details.ipynb\">01-data-source-details</a></span></li>\n",
    "    <li><span><a href=\"02-data-sources/02-data-source-search.ipynb\">02-data-source-search</a></span></li>\n",
    "    <li><span><a href=\"02-data-sources/03-data-source-composing-entries.ipynb\">03-data-source-composing-entries</a></span></li>\n",
    "    <li><span><a href=\"02-data-sources/04-data-source-data-as-json.ipynb\">04-data-source-data-as-json</a></span></li>\n",
    "</ul>"
   ]
  },
  {
   "cell_type": "markdown",
   "metadata": {},
   "source": [
    "<ul><li><span class=\"alert-info\" style=\"font-size: large\"><b>/data-products/</b></span></li></ul>"
   ]
  },
  {
   "cell_type": "markdown",
   "metadata": {},
   "source": [
    "**data-products** are a collection of files (or collection of data-streams) tied together for Research purposes. <br>`Run the next cell to see all data-products offered so far`:"
   ]
  },
  {
   "cell_type": "code",
   "execution_count": null,
   "metadata": {},
   "outputs": [],
   "source": [
    "end_point = '/data-products/'\n",
    "url = '%s%s' % (api_url, end_point)\n",
    "data_products_request = requests.get(url, headers=headers)\n",
    "data_products_response = json.loads(data_products_request.text)        \n",
    "\n",
    "print('API Query : '+ url)\n",
    "print('There are %s data-products'%(data_products_response['count']))\n",
    "print('Find next a preview of the first %s ones'%(len(data_products_response['results'])))\n",
    "pandas.DataFrame.from_dict(data_products_response['results'])"
   ]
  },
  {
   "cell_type": "markdown",
   "metadata": {},
   "source": [
    "Let's have a closer look to the first one (`run the next cell`):"
   ]
  },
  {
   "cell_type": "code",
   "execution_count": null,
   "metadata": {},
   "outputs": [],
   "source": [
    "data_product = data_products_response['results'][0]\n",
    "IPython.display.HTML(json2html.convert(json=data_product))"
   ]
  },
  {
   "cell_type": "markdown",
   "metadata": {},
   "source": [
    "Or, using the API (`run the next cell`):"
   ]
  },
  {
   "cell_type": "code",
   "execution_count": null,
   "metadata": {},
   "outputs": [],
   "source": [
    "end_point = '/data-products/'\n",
    "data_product_id = data_product['id']\n",
    "url = '%s%s%s' % (api_url, end_point, data_product_id)\n",
    "data_product_request = requests.get(url, headers=headers)\n",
    "data_product_response = json.loads(data_product_request.text)        \n",
    "\n",
    "print('API Query : '+ url)\n",
    "IPython.display.HTML(json2html.convert(json=data_product))"
   ]
  },
  {
   "cell_type": "markdown",
   "metadata": {},
   "source": [
    "<div class=\"alert alert-block alert-success\" style=\"margin-left: 2em\">\n",
    "<b>More! - UNDERCONSTRUCTION...</b>\n",
    "    \n",
    "***  \n",
    "To see way more about SOCIB data-products please check the `data-products` dedicated notebooks:\n",
    "<ul>\n",
    "    <li><span><a href=\"05-data-products/01-data-products-details.ipynb\">01-data-product-details</a></span></li>\n",
    "    <li><span><a href=\"05-data-products/02-data-products-search.ipynb\">02-data-product-search</a></span></li>\n",
    "    <li><span><a href=\"05-data-products/03-data-products-composing-data-sources.ipynb\">03-data-product-composing-data-sources</a></span></li>\n",
    "    <li><span><a href=\"05-data-products/04-data-products-composing-entries.ipynb\">04-data-product-composing-entries</a></span></li>\n",
    "</ul>"
   ]
  }
 ],
 "metadata": {
  "finalized": {
   "timestamp": 1575909286099,
   "trusted": true
  },
  "kernelspec": {
   "display_name": "Python 3",
   "language": "python",
   "name": "python3"
  },
  "language_info": {
   "codemirror_mode": {
    "name": "ipython",
    "version": 3
   },
   "file_extension": ".py",
   "mimetype": "text/x-python",
   "name": "python",
   "nbconvert_exporter": "python",
   "pygments_lexer": "ipython3",
   "version": "3.7.4"
  },
  "toc": {
   "base_numbering": 1,
   "nav_menu": {},
   "number_sections": true,
   "sideBar": true,
   "skip_h1_title": true,
   "title_cell": "Table of Contents",
   "title_sidebar": "Contents",
   "toc_cell": true,
   "toc_position": {},
   "toc_section_display": true,
   "toc_window_display": false
  }
 },
 "nbformat": 4,
 "nbformat_minor": 2
}
