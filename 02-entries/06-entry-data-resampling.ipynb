{
 "cells": [
  {
   "cell_type": "markdown",
   "metadata": {},
   "source": [
    "![header](http://eurogoos.eu/wp-content/uploads/SOCIB-logo.jpg)"
   ]
  },
  {
   "cell_type": "markdown",
   "metadata": {},
   "source": [
    "# SOCIB API TRAINING\n",
    "<div style=\"text-align: right\"><i> 06-Part-one-out-of-06 </i></div>"
   ]
  },
  {
   "cell_type": "markdown",
   "metadata": {},
   "source": [
    "---"
   ]
  },
  {
   "cell_type": "markdown",
   "metadata": {
    "toc": true
   },
   "source": [
    "<h1>Table of Contents<span class=\"tocSkip\"></span></h1>\n",
    "<div class=\"toc\"><ul class=\"toc-item\">\n",
    "    <li><span><a href=\"#Introduction\" data-toc-modified-id=\"Introduction-1\">\n",
    "        <span class=\"toc-item-num\">1&nbsp;&nbsp;</span>Introduction</a></span>\n",
    "    </li>\n",
    "    <li><span><a href=\"#Setup\" data-toc-modified-id=\"Setup-2\">\n",
    "        <span class=\"toc-item-num\">2&nbsp;&nbsp;</span>Setup</a></span>\n",
    "        <ul class=\"toc-item\">\n",
    "            <li>\n",
    "                <span><a href=\"#Importing-modules\" data-toc-modified-id=\"Importing-modules-2.1\">\n",
    "                    <span class=\"toc-item-num\">2.1&nbsp;&nbsp;</span>Importing modules</a></span>\n",
    "            </li>\n",
    "            <li>\n",
    "                <span><a href=\"#API-token\" data-toc-modified-id=\"API-token-2.2\">\n",
    "                    <span class=\"toc-item-num\">2.2&nbsp;&nbsp;</span>API token</a></span>\n",
    "            </li>\n",
    "            <li>\n",
    "                <span><a href=\"#Auxiliary-functions\" data-toc-modified-id=\"Auxiliary-functions-2.3\">\n",
    "                    <span class=\"toc-item-num\">2.3&nbsp;&nbsp;</span>Auxiliary functions</a></span>\n",
    "            </li>\n",
    "        </ul>\n",
    "    <li>\n",
    "        <span><a href=\"#Resampling-a-given-entry/file-content-(data!)-with-SOCIB-API:\" data-toc-modified-id=\"Resampling-a-given-entry/file-content-(data!)-with-SOCIB-API:\"><span class=\"toc-item-num\">3&nbsp;&nbsp;</span>Resampling a given entry/file content (data!) with SOCIB API:</a></span>\n",
    "        <ul><li><span><a href=\"#Upsampling/Downsampling\" data-toc-modified-id=\"Upsampling/Downsampling\"><span class=\"toc-item-num\">3.1&nbsp;&nbsp;</span>Upsampling/Downsampling</a></span></li>\n",
    "        </ul>\n",
    "     </li>\n",
    "    <li><span><a href=\"#Next-tutorial\" data-toc-modified-id=\"Next-tutorial\">\n",
    "        <span class=\"toc-item-num\">4&nbsp;&nbsp;</span>Next tutorial</a></span></li>\n",
    "    </ul>\n",
    "</div>"
   ]
  },
  {
   "cell_type": "markdown",
   "metadata": {},
   "source": [
    "---"
   ]
  },
  {
   "cell_type": "markdown",
   "metadata": {},
   "source": [
    "# ENTRIES"
   ]
  },
  {
   "cell_type": "markdown",
   "metadata": {},
   "source": [
    "## Introduction \n",
    "\n",
    "SOCIB API is a door users can knock-on in order to get information about the Balearic Islands Coastal Ocean Observing and Forecast System (SOCIB). SOCIB API is represented by an generic url (SOCIB API url). The elements that trigger a response when added to the generic API url are called `ENDPOINTS`.\n",
    "Among the present posibilities:\n",
    "<ul>\n",
    "    <li>measured variables (<span class=\"alert-info\">/standard-variables/</span>)</li>\n",
    "    <li>stock of instruments (<span class=\"alert-info\">/instrument-types/</span>) and platforms(<span class=\"alert-info\">/platform-types/</span>), \n",
    "</li>\n",
    "    <li>data maturity (<span class=\"alert-info\">/processing-levels/</span> and <span class=\"alert-info\">/data-modes/</span>)</li>\n",
    "    <li>kind of data (<span class=\"alert-info\">/feature-types/</span>)</li>\n",
    "    <li>data entities (<span class=\"alert-success\"><b>/entries/<b></span>, <span class=\"alert-info\">/data-sources/</span>, <span class=\"alert-info\">/instruments/</span>,<span class=\"alert-info\">/platforms/</span>, <span class=\"alert-info\">/data-products/</span>)</li>\n",
    "\n",
    "</ul>\n",
    "\n",
    "<br>This notebook will focus then on the <span class=\"alert-success\" style=\"\"><b>/entries/</b></span> endpoint."
   ]
  },
  {
   "cell_type": "markdown",
   "metadata": {},
   "source": [
    "---"
   ]
  },
  {
   "cell_type": "markdown",
   "metadata": {},
   "source": [
    "## Setup"
   ]
  },
  {
   "cell_type": "markdown",
   "metadata": {},
   "source": [
    "### Importing modules"
   ]
  },
  {
   "cell_type": "markdown",
   "metadata": {},
   "source": [
    "We will relly on a set of python modules to deal with SOCIB API next.<br> `Please run the next cells` so that they can be used by the present Jupyter Notebook:"
   ]
  },
  {
   "cell_type": "code",
   "execution_count": null,
   "metadata": {},
   "outputs": [],
   "source": [
    "import warnings\n",
    "warnings.filterwarnings(\"ignore\")\n",
    "\n",
    "import json\n",
    "import pandas\n",
    "import requests\n",
    "import IPython\n",
    "from json2html import *"
   ]
  },
  {
   "cell_type": "code",
   "execution_count": null,
   "metadata": {},
   "outputs": [],
   "source": [
    "import matplotlib.pyplot as plt\n",
    "import datetime"
   ]
  },
  {
   "cell_type": "markdown",
   "metadata": {},
   "source": [
    "<div class=\"alert alert-block alert-warning\" style=\"margin-left: 2em\">\n",
    "<b>Tip!</b>\n",
    "    \n",
    "***  \n",
    "If any of them raises any error please run prior to load it and in a dedicated cell, either:<ul><li> <i>`!conda install packageName --yes`</i></li> or <li><i>`!pip install packageName --yes`</i></li></ul>"
   ]
  },
  {
   "cell_type": "markdown",
   "metadata": {},
   "source": [
    "### API token"
   ]
  },
  {
   "cell_type": "markdown",
   "metadata": {},
   "source": [
    "To be able to query SOCIB API you will need first a <i>token</i> (api key).<br>To get one please visit the [API home page](http://api.socib.es/home/) and fill-in the form at bottom. An email will be sent to you with such <i>token</i>."
   ]
  },
  {
   "cell_type": "markdown",
   "metadata": {},
   "source": [
    "`Please run the next cell if you wanna have a glimpse to API home page`:"
   ]
  },
  {
   "cell_type": "code",
   "execution_count": null,
   "metadata": {
    "scrolled": true
   },
   "outputs": [],
   "source": [
    "IPython.display.HTML('<iframe src=\"http://api.socib.es/home/\"\" width=100% height=500></iframe>')"
   ]
  },
  {
   "cell_type": "markdown",
   "metadata": {},
   "source": [
    "`Please set in the next cell your api_key and run the cell below to load it in memory for later use`:"
   ]
  },
  {
   "cell_type": "code",
   "execution_count": null,
   "metadata": {},
   "outputs": [],
   "source": [
    "api_key = '' #write here the token emailed to you"
   ]
  },
  {
   "cell_type": "code",
   "execution_count": null,
   "metadata": {},
   "outputs": [],
   "source": [
    "api_url = 'http://api.socib.es'\n",
    "headers = {\n",
    "    'accept': 'application/vnd.socib+json',\n",
    "    'apikey': api_key,\n",
    "}"
   ]
  },
  {
   "cell_type": "markdown",
   "metadata": {},
   "source": [
    "<div class=\"alert alert-block alert-warning\" style=\"margin-left: 2em\">\n",
    "<b>Tip!</b>\n",
    "    \n",
    "***  \n",
    "If you do not remember your token or wanna ask for a new one please reach <i>data.center@socib.es</i> with the following `subject`: 'SOCIB API TOKEN: UPDATE/REMIND REQUEST'"
   ]
  },
  {
   "cell_type": "markdown",
   "metadata": {},
   "source": [
    "### Auxiliary functions"
   ]
  },
  {
   "cell_type": "code",
   "execution_count": null,
   "metadata": {},
   "outputs": [],
   "source": [
    "def timeSeriePlot(feature, param_name,label,title):\n",
    "    data = {}\n",
    "    data[label] = [variable for variable in feature[0]['variables'] if variable['param_name']==param_name][0]['data']\n",
    "    times = [timestamp for timestamp in feature[0]['coordinates']['time']['data']]\n",
    "    df = pandas.DataFrame(data=data,index=times)\n",
    "    ax = df.plot(grid=True,figsize=(12,5), title=title, marker='o', linestyle='-')\n",
    "    ax.set_xlabel(\"TIME\") , ax.set_ylabel(label)\n",
    "    plt.xticks(rotation=45,horizontalalignment='right',fontweight='light',fontsize='medium')"
   ]
  },
  {
   "cell_type": "markdown",
   "metadata": {},
   "source": [
    "---"
   ]
  },
  {
   "cell_type": "markdown",
   "metadata": {},
   "source": [
    "## Resampling a given entry/file content (data!) with SOCIB API:"
   ]
  },
  {
   "cell_type": "markdown",
   "metadata": {},
   "source": [
    "As we already saw in [05-entry-data.ipynb](05-entry-data.ipynb) SOCIB API enables to perform on-the-fly subsetting operations. Nevertheless, is it possible that users not only want to subset the data but also resampling: this is, to retrieve more or less values from the original set that matches the configured sampling interval of the instrument."
   ]
  },
  {
   "cell_type": "markdown",
   "metadata": {},
   "source": [
    "Let's use a sea water temperature Time Serie data to illustrate these operations:; ie from one of SOICB ocenographic buoys: Buoy_BahiaDePalma"
   ]
  },
  {
   "cell_type": "code",
   "execution_count": null,
   "metadata": {},
   "outputs": [],
   "source": [
    "platform_id = 'Buoy_BahiaDePalma'\n",
    "feature_type = 'TimeSeries'\n",
    "standard_variable = 'air_pressure'"
   ]
  },
  {
   "cell_type": "code",
   "execution_count": null,
   "metadata": {},
   "outputs": [],
   "source": [
    "end_point = '/entries/'\n",
    "query_parameters = 'platform='+platform_id+'&feature_type='+feature_type+'&standard_variable='+standard_variable\n",
    "url = '%s%s?%s' % (api_url, end_point, query_parameters)\n",
    "entries_request = requests.get(url, headers=headers)\n",
    "entries_response = json.loads(entries_request.text)\n",
    "\n",
    "print('API custom query : '+ url)\n",
    "print('There are %s netCDFs/files produced involving such platform...'%(entries_response['count']))\n",
    "print('Find next a preview of the first %s ones'%(len(entries_response['results'])))\n",
    "pandas.DataFrame.from_dict(entries_response['results'])"
   ]
  },
  {
   "cell_type": "markdown",
   "metadata": {},
   "source": [
    "Let's work onwards with the first Time Serie:"
   ]
  },
  {
   "cell_type": "code",
   "execution_count": null,
   "metadata": {},
   "outputs": [],
   "source": [
    "entry_id = '2587f63c89'"
   ]
  },
  {
   "cell_type": "code",
   "execution_count": null,
   "metadata": {},
   "outputs": [],
   "source": [
    "end_point = '/entries/'+entry_id\n",
    "aux_endpoint = '/data/'\n",
    "query_parameters = 'standard_variable='+standard_variable\n",
    "url = '%s%s%s?%s' % (api_url, end_point, aux_endpoint, query_parameters)\n",
    "entry_data_request= requests.get(url, headers=headers)\n",
    "entry_data_response = json.loads(entry_data_request.text)\n",
    "\n",
    "print('API query: '+ url)\n",
    "print('Find next the preview:')\n",
    "pandas.DataFrame.from_dict(entry_data_response)"
   ]
  },
  {
   "cell_type": "code",
   "execution_count": null,
   "metadata": {},
   "outputs": [],
   "source": [
    "pandas.DataFrame.from_dict(entry_data_response[0]['variables'])"
   ]
  },
  {
   "cell_type": "markdown",
   "metadata": {},
   "source": [
    "Let's plot some data!:"
   ]
  },
  {
   "cell_type": "code",
   "execution_count": null,
   "metadata": {},
   "outputs": [],
   "source": [
    "param_name, label = 'AIRP', 'AIR PRESSURE'\n",
    "title = label+' ('+param_name+') from '+ platform_id"
   ]
  },
  {
   "cell_type": "code",
   "execution_count": null,
   "metadata": {},
   "outputs": [],
   "source": [
    "timeSeriePlot(entry_data_response,param_name,label,title)"
   ]
  },
  {
   "cell_type": "markdown",
   "metadata": {},
   "source": [
    "Let's focus on the last 7 days of data:"
   ]
  },
  {
   "cell_type": "code",
   "execution_count": null,
   "metadata": {},
   "outputs": [],
   "source": [
    "today = datetime.datetime.strptime(times[-1],'%Y-%m-%dT%H:%M:%S')\n",
    "oneweekago = (today - datetime.timedelta(days=7)).strftime('%Y-%m-%dT%H:%M:%S')\n",
    "oneweekago"
   ]
  },
  {
   "cell_type": "code",
   "execution_count": null,
   "metadata": {},
   "outputs": [],
   "source": [
    "end_point = '/entries/'+entry_id\n",
    "aux_endpoint = '/data/'\n",
    "query_parameters = 'standard_variable='+standard_variable+'&initial_datetime='+oneweekago+'&end_datetime='+times[-1]\n",
    "url = '%s%s%s?%s' % (api_url, end_point, aux_endpoint, query_parameters)\n",
    "entry_data_time_range_subset_request= requests.get(url, headers=headers)\n",
    "entry_data_time_range_subset_response = json.loads(entry_data_time_range_subset_request.text)\n",
    "\n",
    "print('API query: '+ url)\n",
    "print('Find next the preview:')\n",
    "pandas.DataFrame.from_dict(entry_data_time_range_subset_response)"
   ]
  },
  {
   "cell_type": "code",
   "execution_count": null,
   "metadata": {},
   "outputs": [],
   "source": [
    "timeSeriePlot(entry_data_time_range_subset_response,param_name,label,title)"
   ]
  },
  {
   "cell_type": "markdown",
   "metadata": {},
   "source": [
    "#### Upsampling/Downsampling"
   ]
  },
  {
   "cell_type": "markdown",
   "metadata": {},
   "source": [
    "Let's image you want to either reduce (downsampling) or increment (upsampling) the number of measurements originally provided (matching the instrument sampling interval). SOCIB API enables this kind of operations by means of its `resample_how` and `resample_rule` and `platform` query parameters.\n",
    "<br>Here after some examples about how-to-use them: <br>"
   ]
  },
  {
   "cell_type": "markdown",
   "metadata": {},
   "source": [
    "<ul><li>Upsampling</li></ul>"
   ]
  },
  {
   "cell_type": "markdown",
   "metadata": {},
   "source": [
    "Let's image I want data every minute instead!:"
   ]
  },
  {
   "cell_type": "code",
   "execution_count": null,
   "metadata": {},
   "outputs": [],
   "source": [
    "how, rule = 'mean', '1min'"
   ]
  },
  {
   "cell_type": "code",
   "execution_count": null,
   "metadata": {
    "scrolled": true
   },
   "outputs": [],
   "source": [
    "end_point = '/entries/'+entry_id\n",
    "aux_endpoint = '/data/'\n",
    "query_parameters = 'resample_how='+how+'&resample_rule='+rule+'&standard_variable='+standard_variable+'&initial_datetime='+oneweekago+'&end_datetime='+times[-1]\n",
    "url = '%s%s%s?%s' % (api_url, end_point, aux_endpoint, query_parameters)\n",
    "entry_data_upsampling_request= requests.get(url, headers=headers)\n",
    "entry_data_upsampling_response = json.loads(entry_data_upsampling_request.text)\n",
    "\n",
    "print('API query: '+ url)\n",
    "print('Find next the preview:')\n",
    "pandas.DataFrame.from_dict(entry_data_upsampling_response)"
   ]
  },
  {
   "cell_type": "code",
   "execution_count": null,
   "metadata": {},
   "outputs": [],
   "source": [
    "timeSeriePlot(entry_data_upsampling_response,param_name,label,title)"
   ]
  },
  {
   "cell_type": "markdown",
   "metadata": {},
   "source": [
    "<ul><li>Downsampling</li></ul>"
   ]
  },
  {
   "cell_type": "markdown",
   "metadata": {},
   "source": [
    "Let's image we want just one value per day instead: i.e the daily mean!"
   ]
  },
  {
   "cell_type": "code",
   "execution_count": null,
   "metadata": {},
   "outputs": [],
   "source": [
    "how, rule = 'mean', '1d'"
   ]
  },
  {
   "cell_type": "code",
   "execution_count": null,
   "metadata": {},
   "outputs": [],
   "source": [
    "end_point = '/entries/'+entry_id\n",
    "aux_endpoint = '/data/'\n",
    "query_parameters = 'resample_how='+how+'&resample_rule='+rule+'&standard_variable='+standard_variable+'&initial_datetime='+oneweekago+'&end_datetime='+times[-1]\n",
    "url = '%s%s%s?%s' % (api_url, end_point, aux_endpoint, query_parameters)\n",
    "entry_data_downsampling_request= requests.get(url, headers=headers)\n",
    "entry_data_downsampling_response = json.loads(entry_data_downsampling_request.text)\n",
    "\n",
    "print('API query: '+ url)\n",
    "print('Find next the preview:')\n",
    "pandas.DataFrame.from_dict(entry_data_downsampling_response)"
   ]
  },
  {
   "cell_type": "code",
   "execution_count": null,
   "metadata": {},
   "outputs": [],
   "source": [
    "timeSeriePlot(entry_data_downsampling_response,param_name,label,title)"
   ]
  },
  {
   "cell_type": "markdown",
   "metadata": {},
   "source": [
    "---"
   ]
  },
  {
   "cell_type": "markdown",
   "metadata": {},
   "source": [
    "## Next tutorial"
   ]
  },
  {
   "cell_type": "markdown",
   "metadata": {},
   "source": [
    "<div class=\"alert alert-block alert-success\" style=\"margin-left: 2em\">\n",
    "<b>More! - UNDERCONSTRUCTION...</b>\n",
    "    \n",
    "***  \n",
    "Discover now SOCIB instruments trough the `instruments` dedicated notebooks:\n",
    "<ul>\n",
    "    <li><span><a href=\"03-instruments/01-instrument-details.ipynb\">01-instrument-details</a></span></li>\n",
    "    <li><span><a href=\"03-instruments/02-instrument-search.ipynb\">02-instrument-search</a></span></li>\n",
    "    <li><span><a href=\"03-instruments/03-instrument-composing-data-sources.ipynb\">03-instrument-composing-data-sources</a></span></li>\n",
    "    <li><span><a href=\"03-instruments/04-instrument-composing-entries.ipynb\">04-instrument-composing-entries</a></span></li>    \n",
    "</ul>"
   ]
  }
 ],
 "metadata": {
  "finalized": {
   "timestamp": 1575909286099,
   "trusted": true
  },
  "kernelspec": {
   "display_name": "Python 3",
   "language": "python",
   "name": "python3"
  },
  "language_info": {
   "codemirror_mode": {
    "name": "ipython",
    "version": 3
   },
   "file_extension": ".py",
   "mimetype": "text/x-python",
   "name": "python",
   "nbconvert_exporter": "python",
   "pygments_lexer": "ipython3",
   "version": "3.7.4"
  },
  "toc": {
   "base_numbering": 1,
   "nav_menu": {},
   "number_sections": true,
   "sideBar": true,
   "skip_h1_title": true,
   "title_cell": "Table of Contents",
   "title_sidebar": "Contents",
   "toc_cell": true,
   "toc_position": {},
   "toc_section_display": true,
   "toc_window_display": false
  }
 },
 "nbformat": 4,
 "nbformat_minor": 2
}
