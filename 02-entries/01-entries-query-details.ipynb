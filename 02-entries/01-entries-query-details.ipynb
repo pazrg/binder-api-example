{
 "cells": [
  {
   "cell_type": "markdown",
   "metadata": {},
   "source": [
    "![header](http://eurogoos.eu/wp-content/uploads/SOCIB-logo.jpg)"
   ]
  },
  {
   "cell_type": "markdown",
   "metadata": {},
   "source": [
    "# SOCIB API TRAINING\n",
    "<div style=\"text-align: right\"><i> 01-Part-one-out-of-04 </i></div>"
   ]
  },
  {
   "cell_type": "markdown",
   "metadata": {},
   "source": [
    "---"
   ]
  },
  {
   "cell_type": "markdown",
   "metadata": {
    "toc": true
   },
   "source": [
    "<h1>Table of Contents<span class=\"tocSkip\"></span></h1>\n",
    "<div class=\"toc\"><ul class=\"toc-item\">\n",
    "    <li><span><a href=\"#Introduction\" data-toc-modified-id=\"Introduction-1\">\n",
    "        <span class=\"toc-item-num\">1&nbsp;&nbsp;</span>Introduction</a></span>\n",
    "    </li>\n",
    "    <li><span><a href=\"#Setup\" data-toc-modified-id=\"Setup-2\">\n",
    "        <span class=\"toc-item-num\">2&nbsp;&nbsp;</span>Setup</a></span>\n",
    "        <ul class=\"toc-item\">\n",
    "            <li>\n",
    "                <span><a href=\"#Importing-modules\" data-toc-modified-id=\"Importing-modules-2.1\">\n",
    "                    <span class=\"toc-item-num\">2.1&nbsp;&nbsp;</span>Importing modules</a></span>\n",
    "            </li>\n",
    "            <li>\n",
    "                <span><a href=\"#API-token\" data-toc-modified-id=\"API-token-2.2\">\n",
    "                    <span class=\"toc-item-num\">2.2&nbsp;&nbsp;</span>API token</a></span>\n",
    "            </li>\n",
    "        </ul>\n",
    "    <li>\n",
    "        <span><a href=\"#Query-SOCIB-API-for-entries/files:\" data-toc-modified-id=\"Query-SOCIB-API-for-entries/files:\"><span class=\"toc-item-num\">3&nbsp;&nbsp;</span>Querying SOCIB API for entries/files:</a></span>\n",
    "        <ul>\n",
    "            <li><span><a href=\"#Generic-query\" data-toc-modified-id=\"Generic-query\"><span class=\"toc-item-num\">3.1&nbsp;&nbsp;</span>Generic query</a></span></li>\n",
    "            <li><span><a href=\"#Custom-query\" data-toc-modified-id=\"Custom-query\"><span class=\"toc-item-num\">3.2&nbsp;&nbsp;</span>Custom query</a></span></li>\n",
    "                <ul>\n",
    "                    <li><span><a href=\"#Time-range\" data-toc-modified-id=\"Time-range\"><span class=\"toc-item-num\">3.2.1&nbsp;&nbsp;</span>Time range</a></span></li>\n",
    "                    <li><span><a href=\"#Update-time\" data-toc-modified-id=\"Update-time\"><span class=\"toc-item-num\">3.2.2&nbsp;&nbsp;</span>Update time</a></span></li>\n",
    "                    <li><span><a href=\"#Version-datetime\" data-toc-modified-id=\"Version-datetime\"><span class=\"toc-item-num\">3.2.3&nbsp;&nbsp;</span>Version datetime</a></span></li>\n",
    "                    <li><span><a href=\"#Processing-level\" data-toc-modified-id=\"Processing-level\"><span class=\"toc-item-num\">3.2.4&nbsp;&nbsp;</span>Processing-level</a></span></li>\n",
    "                    <li><span><a href=\"#Data-mode\" data-toc-modified-id=\"Data-mode\"><span class=\"toc-item-num\">3.2.5&nbsp;&nbsp;</span>Data-mode</a></span></li>\n",
    "                    <li><span><a href=\"#Feature-type\" data-toc-modified-id=\"Feature-type\"><span class=\"toc-item-num\">3.2.6&nbsp;&nbsp;</span>Feature-type</a></span></li>\n",
    "                    <li><span><a href=\"#Instrument-type\" data-toc-modified-id=\"Instrument-type\"><span class=\"toc-item-num\">3.2.7&nbsp;&nbsp;</span>Instrument-type</a></span></li>\n",
    "                    <li><span><a href=\"#Platform-type\" data-toc-modified-id=\"Platform-type\"><span class=\"toc-item-num\">3.2.8&nbsp;&nbsp;</span>Platform-type</a></span></li>\n",
    "                    <li><span><a href=\"#Data-entity\" data-toc-modified-id=\"Data-entity\"><span class=\"toc-item-num\">3.2.9&nbsp;&nbsp;</span>Data entity</a></span></li></ul>\n",
    "        </ul>\n",
    "     </li>\n",
    "    <li><span><a href=\"#Next-tutorial\" data-toc-modified-id=\"Next-tutorial\">\n",
    "        <span class=\"toc-item-num\">4&nbsp;&nbsp;</span>Next tutorial</a></span></li>\n",
    "    </ul>\n",
    "</div>"
   ]
  },
  {
   "cell_type": "markdown",
   "metadata": {},
   "source": [
    "---"
   ]
  },
  {
   "cell_type": "markdown",
   "metadata": {},
   "source": [
    "# ENTRIES"
   ]
  },
  {
   "cell_type": "markdown",
   "metadata": {},
   "source": [
    "## Introduction \n",
    "\n",
    "SOCIB API is a door users can knock-on in order to get information about the Balearic Islands Coastal Ocean Observing and Forecast System (SOCIB). SOCIB API is represented by an generic url (SOCIB API url). The elements that trigger a response when added to the generic API url are called `ENDPOINTS`.\n",
    "Among the present posibilities:\n",
    "<ul>\n",
    "    <li>measured variables (<span class=\"alert-info\">/standard-variables/</span>)</li>\n",
    "    <li>stock of instruments (<span class=\"alert-info\">/instrument-types/</span>) and platforms(<span class=\"alert-info\">/platform-types/</span>), \n",
    "</li>\n",
    "    <li>data maturity (<span class=\"alert-info\">/processing-levels/</span> and <span class=\"alert-info\">/data-modes/</span>)</li>\n",
    "    <li>kind of data (<span class=\"alert-info\">/feature-types/</span>)</li>\n",
    "    <li>data entities (<span class=\"alert-success\"><b>/entries/<b></span>, <span class=\"alert-info\">/data-sources/</span>, <span class=\"alert-info\">/instruments/</span>,<span class=\"alert-info\">/platforms/</span>, <span class=\"alert-info\">/data-products/</span>)</li>\n",
    "\n",
    "</ul>\n",
    "\n",
    "<br>This notebook will focus then on the <span class=\"alert-success\" style=\"\"><b>/entries/</b></span> endpoint."
   ]
  },
  {
   "cell_type": "markdown",
   "metadata": {},
   "source": [
    "---"
   ]
  },
  {
   "cell_type": "markdown",
   "metadata": {},
   "source": [
    "## Setup"
   ]
  },
  {
   "cell_type": "markdown",
   "metadata": {},
   "source": [
    "### Importing modules"
   ]
  },
  {
   "cell_type": "markdown",
   "metadata": {},
   "source": [
    "We will relly on a set of python modules to deal with SOCIB API next.<br> `Please run the next cell` so that they can be used by the present Jupyter Notebook:"
   ]
  },
  {
   "cell_type": "code",
   "execution_count": null,
   "metadata": {},
   "outputs": [],
   "source": [
    "import warnings\n",
    "warnings.filterwarnings(\"ignore\")\n",
    "\n",
    "import datetime\n",
    "import json\n",
    "import pandas\n",
    "import requests\n",
    "import IPython\n",
    "from json2html import *"
   ]
  },
  {
   "cell_type": "markdown",
   "metadata": {},
   "source": [
    "<div class=\"alert alert-block alert-warning\" style=\"margin-left: 2em\">\n",
    "<b>Tip!</b>\n",
    "    \n",
    "***  \n",
    "If any of them raises any error please run prior to load it and in a dedicated cell, either:<ul><li> <i>`!conda install packageName --yes`</i></li> or <li><i>`!pip install packageName --yes`</i></li></ul>"
   ]
  },
  {
   "cell_type": "markdown",
   "metadata": {},
   "source": [
    "### API token"
   ]
  },
  {
   "cell_type": "markdown",
   "metadata": {},
   "source": [
    "To be able to query SOCIB API you will need first a <i>token</i> (api key).<br>To get one please visit the [API home page](http://api.socib.es/home/) and fill-in the form at bottom. An email will be sent to you with such <i>token</i>."
   ]
  },
  {
   "cell_type": "markdown",
   "metadata": {},
   "source": [
    "`Please run the next cell if you wanna have a glimpse to API home page`:"
   ]
  },
  {
   "cell_type": "code",
   "execution_count": null,
   "metadata": {},
   "outputs": [],
   "source": [
    "IPython.display.HTML('<iframe src=\"http://api.socib.es/home/\"\" width=100% height=500></iframe>')"
   ]
  },
  {
   "cell_type": "markdown",
   "metadata": {},
   "source": [
    "`Please set in the next cell your api_key and run the cell below to load it in memory for later use`:"
   ]
  },
  {
   "cell_type": "code",
   "execution_count": null,
   "metadata": {},
   "outputs": [],
   "source": [
    "api_key = '' #write here the token emailed to you"
   ]
  },
  {
   "cell_type": "code",
   "execution_count": null,
   "metadata": {},
   "outputs": [],
   "source": [
    "api_url = 'http://api.socib.es'\n",
    "headers = {\n",
    "    'accept': 'application/vnd.socib+json',\n",
    "    'apikey': api_key,\n",
    "}"
   ]
  },
  {
   "cell_type": "markdown",
   "metadata": {},
   "source": [
    "<div class=\"alert alert-block alert-warning\" style=\"margin-left: 2em\">\n",
    "<b>Tip!</b>\n",
    "    \n",
    "***  \n",
    "If you do not remember your token or wanna ask for a new one please reach <i>data.center@socib.es</i> with the following `subject`: 'SOCIB API TOKEN: UPDATE/REMIND REQUEST'"
   ]
  },
  {
   "cell_type": "markdown",
   "metadata": {},
   "source": [
    "---"
   ]
  },
  {
   "cell_type": "markdown",
   "metadata": {},
   "source": [
    "## Querying SOCIB API for entries/files"
   ]
  },
  {
   "cell_type": "markdown",
   "metadata": {},
   "source": [
    "### Generic query"
   ]
  },
  {
   "cell_type": "markdown",
   "metadata": {},
   "source": [
    "On [Getting Started](../01-GettingStarted) we already saw how to query SOCIB API for netCDF files (basic metocean observation storage entity). Let's `run the next cell` to recall the exact url to aim : "
   ]
  },
  {
   "cell_type": "code",
   "execution_count": null,
   "metadata": {},
   "outputs": [],
   "source": [
    "end_point = '/entries/'\n",
    "url = '%s%s' % (api_url, end_point)\n",
    "entries_request = requests.get(url, headers=headers)\n",
    "entries_response = json.loads(entries_request.text)\n",
    "print('API generic query url for entries: '+ url)"
   ]
  },
  {
   "cell_type": "markdown",
   "metadata": {},
   "source": [
    "The reponse layout for any data entity (entries, data-sources, platforms and data-products) is more complex than the plain response of the other API endpoints: the response of the data entities queries must be paginated because of the large amount of elements in the response. This way, the response of such ENDPOINTS is actually an object with 4 main fields:"
   ]
  },
  {
   "cell_type": "code",
   "execution_count": null,
   "metadata": {},
   "outputs": [],
   "source": [
    "pandas.DataFrame.from_dict([entries_response])"
   ]
  },
  {
   "cell_type": "markdown",
   "metadata": {},
   "source": [
    "- **count** - <i>containing the total number of files/netCDFs</i>\n",
    "- **results** - <i>containing a list/array of 8 files/netCDFs </i>\n",
    "- **next** - <i>containing the api url to get the next 8 files/netCDFs from the total amount. None in the case of the last page.</i>\n",
    "- **previous** - <i>containing the api url to get the previous 8 files/netCDFs from the total amount. None in case of the first page.</i>"
   ]
  },
  {
   "cell_type": "markdown",
   "metadata": {},
   "source": [
    "To work with these endpoints users will need to loop over all pages (by subsequently querying the urls returned in **next**) to get the complete list of entries/files and not just a sample (8 per page). An example of a loop is given next:"
   ]
  },
  {
   "cell_type": "markdown",
   "metadata": {},
   "source": [
    "<div class=\"alert alert-block alert-warning\" style=\"margin-left: 2em\">\n",
    "<b>Warning!</b>\n",
    "    \n",
    "***  \n",
    "<b>Please do not run the loop below as it might take for ever</b>. To reduce the number of pages to loop over for getting the full list of entries/files `query parameters` must be provided. If you do not know what are `query parameter` check the next section (**custom query**)"
   ]
  },
  {
   "cell_type": "code",
   "execution_count": null,
   "metadata": {},
   "outputs": [],
   "source": [
    "end_point = '/entries/'\n",
    "url = '%s%s' % (api_url, end_point)\n",
    "entries_results_buffer = []\n",
    "while url != None:\n",
    "    print(url)\n",
    "    entries_request = requests.get(url, headers=headers)\n",
    "    entries_response = json.loads(entries_request.text)\n",
    "    entries_results_buffer = entries_results_buffer + entries_response['results']\n",
    "    url = entries_response['next']"
   ]
  },
  {
   "cell_type": "markdown",
   "metadata": {},
   "source": [
    "### Custom query"
   ]
  },
  {
   "cell_type": "markdown",
   "metadata": {},
   "source": [
    "So far, the API generic query for entries/netCDFs has been presented. Nevertheless, to enable searching for certain entries/netCDFS the generic query might be customized by using the so called `query parameters`. <br>The `query parameters` are key&value pairs that, when added to a given generic url, filter-out the elements of the generic response returning only the matching elements. Here after we will see the available ones:"
   ]
  },
  {
   "cell_type": "markdown",
   "metadata": {},
   "source": [
    "<div class=\"alert alert-block alert-warning\" style=\"margin-left: 2em\">\n",
    "<b>Warning!</b>\n",
    "    \n",
    "***  \n",
    "Next we will explain each of the available `query parameters` separately but, remember that you can mix all them in the same query."
   ]
  },
  {
   "cell_type": "markdown",
   "metadata": {},
   "source": [
    "#### Time range"
   ]
  },
  {
   "cell_type": "markdown",
   "metadata": {},
   "source": [
    "Let's imagine that our target are those entries/files covering a certain time range. In this case, the `initial_datetime` and `end_datetime` query parameters are to be used. <br>Here after an example about how to use them:"
   ]
  },
  {
   "cell_type": "code",
   "execution_count": null,
   "metadata": {},
   "outputs": [],
   "source": [
    "end_point = '/entries/'\n",
    "query_parameters = 'initial_datetime=2018-01-01T01:01:01&end_datetime=2018-12-31T23:59:59'\n",
    "url = '%s%s?%s' % (api_url, end_point, query_parameters)\n",
    "entries_request = requests.get(url, headers=headers)\n",
    "entries_response = json.loads(entries_request.text)\n",
    "\n",
    "print('API custom query : '+ url)\n",
    "print('There are %s netCDFs/files with data between the specified dates...'%(entries_response['count']))\n",
    "print('Find next a preview of the first %s ones'%(len(entries_response['results'])))\n",
    "pandas.DataFrame.from_dict(entries_response['results'])"
   ]
  },
  {
   "cell_type": "markdown",
   "metadata": {},
   "source": [
    "#### Update time"
   ]
  },
  {
   "cell_type": "markdown",
   "metadata": {},
   "source": [
    "Let's imagine that our target are those entries/files updated after a specific time. In this case, the `last_update_datetime` query parameter is to be used.\n",
    "<br>Here after an example about how-to-get all the entries updated since yesterday:"
   ]
  },
  {
   "cell_type": "code",
   "execution_count": null,
   "metadata": {},
   "outputs": [],
   "source": [
    "yesterday = (datetime.datetime.today() - datetime.timedelta(days=1)).strftime('%Y-%m-%dT%H:%M:%S')\n",
    "yesterday"
   ]
  },
  {
   "cell_type": "code",
   "execution_count": null,
   "metadata": {},
   "outputs": [],
   "source": [
    "end_point = '/entries/'\n",
    "query_parameters = 'last_update_datetime=%s'%(yesterday)\n",
    "url = '%s%s?%s' % (api_url, end_point, query_parameters)\n",
    "entries_request = requests.get(url, headers=headers)\n",
    "entries_response = json.loads(entries_request.text)\n",
    "\n",
    "print('API custom query : '+ url)\n",
    "print('There are %s netCDFs/files with data updated after %s'%(entries_response['count'], yesterday))\n",
    "print('Find next a preview of the first %s ones'%(len(entries_response['results'])))\n",
    "pandas.DataFrame.from_dict(entries_response['results'])"
   ]
  },
  {
   "cell_type": "markdown",
   "metadata": {},
   "source": [
    "#### Version datetime"
   ]
  },
  {
   "cell_type": "markdown",
   "metadata": {},
   "source": [
    "NetCDFs/files might be reprocessed at some point in order to correct errors produced in the real-time processing data-flow. When reprocessing is undertaken, a version is set for the affected netCDF/files. By default, the API is retourning the latest version of the files but, if an user would like to retrieve an older version, the `version_datetime` query parameter is to be used.\n",
    "<br>Here after an example about how- to-retrieve for a given time the valid version of the netCDFs/files back then:"
   ]
  },
  {
   "cell_type": "code",
   "execution_count": null,
   "metadata": {},
   "outputs": [],
   "source": [
    "oneyearago = (datetime.datetime.today() - datetime.timedelta(days=365)).strftime('%Y-%m-%dT%H:%M:%S')\n",
    "oneyearago"
   ]
  },
  {
   "cell_type": "code",
   "execution_count": null,
   "metadata": {},
   "outputs": [],
   "source": [
    "end_point = '/entries/'\n",
    "query_parameters = 'version_datetime=%s'%(oneyearago)\n",
    "url = '%s%s?%s' % (api_url, end_point, query_parameters)\n",
    "entries_request = requests.get(url, headers=headers)\n",
    "entries_response = json.loads(entries_request.text)\n",
    "\n",
    "print('API custom query : '+ url)\n",
    "print('There are %s netCDFs/files with data updated after %s'%(entries_response['count'], oneyearago))\n",
    "print('Find next a preview of the first %s ones'%(len(entries_response['results'])))\n",
    "pandas.DataFrame.from_dict(entries_response['results'])"
   ]
  },
  {
   "cell_type": "markdown",
   "metadata": {},
   "source": [
    "#### Processing level"
   ]
  },
  {
   "cell_type": "markdown",
   "metadata": {},
   "source": [
    "A explained in [Getting Started](../01-GettingStarted), SOCIB produces files in several processing levels. Let's imagine that our target is to solely retrieve entries/files with a certain level of processing. In this case, the `processing_level` query parameter is to be used.\n",
    "<br>Here after an example about how-to-retrieve only those entries matching a given processing level: <br>"
   ]
  },
  {
   "cell_type": "code",
   "execution_count": null,
   "metadata": {},
   "outputs": [],
   "source": [
    "end_point = '/entries/'\n",
    "query_parameters = 'processing_level=L1'\n",
    "url = '%s%s?%s' % (api_url, end_point, query_parameters)\n",
    "entries_request = requests.get(url, headers=headers)\n",
    "entries_response = json.loads(entries_request.text)\n",
    "\n",
    "print('API custom query : '+ url)\n",
    "print('There are %s netCDFs/files matching such processing level'%(entries_response['count']))\n",
    "print('Find next a preview of the first %s ones'%(len(entries_response['results'])))\n",
    "pandas.DataFrame.from_dict(entries_response['results'])"
   ]
  },
  {
   "cell_type": "markdown",
   "metadata": {},
   "source": [
    "#### Data mode"
   ]
  },
  {
   "cell_type": "markdown",
   "metadata": {},
   "source": [
    "As explained in [Getting Started](../01-GettingStarted), SOCIB produces files in several data-modes. Let's imagine that our target is to solely retrieve entries/files with a certain data-mode. In this case, the `data_mode` query parameter is to be used.\n",
    "<br>Here after an example about how-to-retrieve only those entries matching a given data mode: <br>"
   ]
  },
  {
   "cell_type": "code",
   "execution_count": null,
   "metadata": {},
   "outputs": [],
   "source": [
    "end_point = '/entries/'\n",
    "query_parameters = 'data_mode=dt'\n",
    "url = '%s%s?%s' % (api_url, end_point, query_parameters)\n",
    "entries_request = requests.get(url, headers=headers)\n",
    "entries_response = json.loads(entries_request.text)\n",
    "\n",
    "print('API custom query : '+ url)\n",
    "print('There are %s netCDFs/files matching such data mode'%(entries_response['count']))\n",
    "print('Find next a preview of the first %s ones'%(len(entries_response['results'])))\n",
    "pandas.DataFrame.from_dict(entries_response['results'])"
   ]
  },
  {
   "cell_type": "markdown",
   "metadata": {},
   "source": [
    "#### Feature type"
   ]
  },
  {
   "cell_type": "markdown",
   "metadata": {},
   "source": [
    "As explained in [Getting Started](../01-GettingStarted), distinguishes different feature types or geometrical reprsentation of the data collected. Let's imagine that our target is to solely retrieve entries/files of a certain feature type. In this case, the `feature_type` query parameter is to be used.\n",
    "<br>Here after an example about how-to-retrieve only those entries matching a given feature_type: <br>"
   ]
  },
  {
   "cell_type": "code",
   "execution_count": null,
   "metadata": {},
   "outputs": [],
   "source": [
    "end_point = '/entries/'\n",
    "query_parameters = 'feature_type=grid'\n",
    "url = '%s%s?%s' % (api_url, end_point, query_parameters)\n",
    "entries_request = requests.get(url, headers=headers)\n",
    "entries_response = json.loads(entries_request.text)\n",
    "\n",
    "print('API custom query : '+ url)\n",
    "print('There are %s netCDFs/files matching such instrument type'%(entries_response['count']))\n",
    "print('Find next a preview of the first %s ones'%(len(entries_response['results'])))\n",
    "pandas.DataFrame.from_dict(entries_response['results'])"
   ]
  },
  {
   "cell_type": "markdown",
   "metadata": {},
   "source": [
    "#### Instrument type"
   ]
  },
  {
   "cell_type": "markdown",
   "metadata": {},
   "source": [
    "As explained in [Getting Started](../01-GettingStarted), the data in the netCDFS has been reported by a certain instrument and platform emssemble. Let's imagine that we are interested in retrieveing only those entries/files that contains data involving a certain type of instrument. In this case, the `instrument_type` query parameter is to be used.\n",
    "<br>Here after an example about how-to-retrieve only those entries with data involving a certain instrument type: <br>"
   ]
  },
  {
   "cell_type": "code",
   "execution_count": null,
   "metadata": {},
   "outputs": [],
   "source": [
    "end_point = '/entries/'\n",
    "query_parameters = 'instrument_type=Currentmeter'\n",
    "url = '%s%s?%s' % (api_url, end_point, query_parameters)\n",
    "entries_request = requests.get(url, headers=headers)\n",
    "entries_response = json.loads(entries_request.text)\n",
    "\n",
    "print('API custom query : '+ url)\n",
    "print('There are %s netCDFs/files matching such instrument type'%(entries_response['count']))\n",
    "print('Find next a preview of the first %s ones'%(len(entries_response['results'])))\n",
    "pandas.DataFrame.from_dict(entries_response['results'])"
   ]
  },
  {
   "cell_type": "markdown",
   "metadata": {},
   "source": [
    "#### Platform type"
   ]
  },
  {
   "cell_type": "markdown",
   "metadata": {},
   "source": [
    "As explained in [Getting Started](../01-GettingStarted), the data in the netCDFS has been reported by a certain instrument and platform emssemble. Let's imagine that we are interested in retrieveing only those entries/files that contains data involving a certain type of platform. In this case, the `platform_type` query parameter is to be used.\n",
    "<br>Here after an example about how-to-retrieve only those entries with data involving a certain platform type: <br>"
   ]
  },
  {
   "cell_type": "code",
   "execution_count": null,
   "metadata": {},
   "outputs": [],
   "source": [
    "end_point = '/entries/'\n",
    "query_parameters = 'platform_type=Weather Station'\n",
    "url = '%s%s?%s' % (api_url, end_point, query_parameters)\n",
    "entries_request = requests.get(url, headers=headers)\n",
    "entries_response = json.loads(entries_request.text)\n",
    "\n",
    "print('API custom query : '+ url)\n",
    "print('There are %s netCDFs/files matching such platform type'%(entries_response['count']))\n",
    "print('Find next a preview of the first %s ones'%(len(entries_response['results'])))\n",
    "pandas.DataFrame.from_dict(entries_response['results'])"
   ]
  },
  {
   "cell_type": "markdown",
   "metadata": {},
   "source": [
    "#### Data entity"
   ]
  },
  {
   "cell_type": "markdown",
   "metadata": {},
   "source": [
    "As explained in [Getting Started](../01-GettingStarted), the netCDFS can be grouped in collections for a better management  as data-products (sharing the same research audience), data-sources (sharing the same instrument&platform enssemble) or platforms (sharing the same platform). In this case, the `data_product`, `data_source` and `platform` query parameters are to be used, passing the ID of the entity as value the ID.\n",
    "<br>Here after an example about how-to-retrieve only those entries with data involving a certain platform: <br>"
   ]
  },
  {
   "cell_type": "code",
   "execution_count": null,
   "metadata": {
    "scrolled": true
   },
   "outputs": [],
   "source": [
    "end_point = '/entries/'\n",
    "query_parameters = 'platform=Buoy_CanalDeIbiza'\n",
    "url = '%s%s?%s' % (api_url, end_point, query_parameters)\n",
    "entries_request = requests.get(url, headers=headers)\n",
    "entries_response = json.loads(entries_request.text)\n",
    "\n",
    "print('API custom query : '+ url)\n",
    "print('There are %s netCDFs/files matching such platform type'%(entries_response['count']))\n",
    "print('Find next a preview of the first %s ones'%(len(entries_response['results'])))\n",
    "pandas.DataFrame.from_dict(entries_response['results'])"
   ]
  },
  {
   "cell_type": "markdown",
   "metadata": {},
   "source": [
    "---"
   ]
  },
  {
   "cell_type": "markdown",
   "metadata": {},
   "source": [
    "## Next tutorial"
   ]
  },
  {
   "cell_type": "markdown",
   "metadata": {},
   "source": [
    "<div class=\"alert alert-block alert-success\" style=\"margin-left: 2em\">\n",
    "<b>More!</b>\n",
    "    \n",
    "***  \n",
    "To see way more about SOCIB entries next dedicated notebooks:\n",
    "<ul>\n",
    "    <li><span><a href=\"02-entry-viewers.ipynb\">02-entry-viewers</a></span></li>\n",
    "    <li><span><a href=\"03-entry-services.ipynb\">03-entry-services</a></span></li>\n",
    "    <li><span><a href=\"04-entry-data.ipynb\">04-entry-data</a></span></li>\n",
    "</ul>"
   ]
  }
 ],
 "metadata": {
  "finalized": {
   "timestamp": 1575909286099,
   "trusted": true
  },
  "kernelspec": {
   "display_name": "Python 3",
   "language": "python",
   "name": "python3"
  },
  "language_info": {
   "codemirror_mode": {
    "name": "ipython",
    "version": 3
   },
   "file_extension": ".py",
   "mimetype": "text/x-python",
   "name": "python",
   "nbconvert_exporter": "python",
   "pygments_lexer": "ipython3",
   "version": "3.7.3"
  },
  "toc": {
   "base_numbering": 1,
   "nav_menu": {},
   "number_sections": true,
   "sideBar": true,
   "skip_h1_title": true,
   "title_cell": "Table of Contents",
   "title_sidebar": "Contents",
   "toc_cell": true,
   "toc_position": {},
   "toc_section_display": true,
   "toc_window_display": false
  }
 },
 "nbformat": 4,
 "nbformat_minor": 2
}
