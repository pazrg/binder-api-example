{
 "cells": [
  {
   "cell_type": "markdown",
   "metadata": {},
   "source": [
    "![header](http://eurogoos.eu/wp-content/uploads/SOCIB-logo.jpg)"
   ]
  },
  {
   "cell_type": "markdown",
   "metadata": {},
   "source": [
    "# SOCIB API TRAINING\n",
    "<div style=\"text-align: right\"><i> 04-Part-one-out-of-06 </i></div>"
   ]
  },
  {
   "cell_type": "markdown",
   "metadata": {},
   "source": [
    "---"
   ]
  },
  {
   "cell_type": "markdown",
   "metadata": {
    "toc": true
   },
   "source": [
    "<h1>Table of Contents<span class=\"tocSkip\"></span></h1>\n",
    "<div class=\"toc\"><ul class=\"toc-item\">\n",
    "    <li><span><a href=\"#Introduction\" data-toc-modified-id=\"Introduction-1\">\n",
    "        <span class=\"toc-item-num\">1&nbsp;&nbsp;</span>Introduction</a></span>\n",
    "    </li>\n",
    "    <li><span><a href=\"#Setup\" data-toc-modified-id=\"Setup-2\">\n",
    "        <span class=\"toc-item-num\">2&nbsp;&nbsp;</span>Setup</a></span>\n",
    "        <ul class=\"toc-item\">\n",
    "            <li>\n",
    "                <span><a href=\"#Importing-modules\" data-toc-modified-id=\"Importing-modules-2.1\">\n",
    "                    <span class=\"toc-item-num\">2.1&nbsp;&nbsp;</span>Importing modules</a></span>\n",
    "            </li>\n",
    "            <li>\n",
    "                <span><a href=\"#API-token\" data-toc-modified-id=\"API-token-2.2\">\n",
    "                    <span class=\"toc-item-num\">2.2&nbsp;&nbsp;</span>API token</a></span>\n",
    "            </li>\n",
    "            <li>\n",
    "                <span><a href=\"#Auxiliary-functions\" data-toc-modified-id=\"Auxiliary-functions-2.3\">\n",
    "                    <span class=\"toc-item-num\">2.3&nbsp;&nbsp;</span>Auxiliary functions</a></span>\n",
    "            </li>\n",
    "        </ul>\n",
    "    <li>\n",
    "        <span><a href=\"#Querying-SOCIB-API-for-a-given-entry/file-content-(data!):\" data-toc-modified-id=\"Querying-SOCIB-API-for-a-given-entry/file-content-(data!):\"><span class=\"toc-item-num\">3&nbsp;&nbsp;</span>Querying SOCIB API for a given entry/file content (data!):</a></span>\n",
    "    <li><span><a href=\"#Next-tutorial\" data-toc-modified-id=\"Next-tutorial\">\n",
    "        <span class=\"toc-item-num\">4&nbsp;&nbsp;</span>Next tutorial</a></span></li>\n",
    "    </ul>\n",
    "</div>"
   ]
  },
  {
   "cell_type": "markdown",
   "metadata": {},
   "source": [
    "---"
   ]
  },
  {
   "cell_type": "markdown",
   "metadata": {},
   "source": [
    "# ENTRIES"
   ]
  },
  {
   "cell_type": "markdown",
   "metadata": {},
   "source": [
    "## Introduction \n",
    "\n",
    "SOCIB API is a door users can knock-on in order to get information about the Balearic Islands Coastal Ocean Observing and Forecast System (SOCIB). SOCIB API is represented by an generic url (SOCIB API url). The elements that trigger a response when added to the generic API url are called `ENDPOINTS`.\n",
    "Among the present posibilities:\n",
    "<ul>\n",
    "    <li>measured variables (<span class=\"alert-info\">/standard-variables/</span>)</li>\n",
    "    <li>stock of instruments (<span class=\"alert-info\">/instrument-types/</span>) and platforms(<span class=\"alert-info\">/platform-types/</span>), \n",
    "</li>\n",
    "    <li>data maturity (<span class=\"alert-info\">/processing-levels/</span> and <span class=\"alert-info\">/data-modes/</span>)</li>\n",
    "    <li>kind of data (<span class=\"alert-info\">/feature-types/</span>)</li>\n",
    "    <li>data entities (<span class=\"alert-success\"><b>/entries/<b></span>, <span class=\"alert-info\">/data-sources/</span>, <span class=\"alert-info\">/instruments/</span>,<span class=\"alert-info\">/platforms/</span>, <span class=\"alert-info\">/data-products/</span>)</li>\n",
    "\n",
    "</ul>\n",
    "\n",
    "<br>This notebook will focus then on the <span class=\"alert-success\" style=\"\"><b>/entries/</b></span> endpoint."
   ]
  },
  {
   "cell_type": "markdown",
   "metadata": {},
   "source": [
    "---"
   ]
  },
  {
   "cell_type": "markdown",
   "metadata": {},
   "source": [
    "## Setup"
   ]
  },
  {
   "cell_type": "markdown",
   "metadata": {},
   "source": [
    "### Importing modules"
   ]
  },
  {
   "cell_type": "markdown",
   "metadata": {},
   "source": [
    "We will relly on a set of python modules to deal with SOCIB API next.<br> `Please run the next cells` so that they can be used by the present Jupyter Notebook:"
   ]
  },
  {
   "cell_type": "code",
   "execution_count": 1,
   "metadata": {},
   "outputs": [],
   "source": [
    "import warnings\n",
    "warnings.filterwarnings(\"ignore\")\n",
    "\n",
    "import json\n",
    "import pandas\n",
    "import requests\n",
    "import IPython\n",
    "from json2html import *"
   ]
  },
  {
   "cell_type": "code",
   "execution_count": 2,
   "metadata": {},
   "outputs": [],
   "source": [
    "import numpy\n",
    "import matplotlib\n",
    "import matplotlib.pyplot as plt\n",
    "import folium\n",
    "from folium import plugins\n",
    "import cartopy\n",
    "import cartopy.crs as ccrs\n",
    "import cartopy.feature as cfeature\n",
    "from matplotlib.offsetbox import AnchoredText\n",
    "from mpl_toolkits.mplot3d import Axes3D\n",
    "from matplotlib import colors"
   ]
  },
  {
   "cell_type": "markdown",
   "metadata": {},
   "source": [
    "<div class=\"alert alert-block alert-warning\" style=\"margin-left: 2em\">\n",
    "<b>Tip!</b>\n",
    "    \n",
    "***  \n",
    "If any of them raises any error please run prior to load it and in a dedicated cell, either:<ul><li> <i>`!conda install packageName --yes`</i></li> or <li><i>`!pip install packageName --yes`</i></li></ul>"
   ]
  },
  {
   "cell_type": "markdown",
   "metadata": {},
   "source": [
    "### API token"
   ]
  },
  {
   "cell_type": "markdown",
   "metadata": {},
   "source": [
    "To be able to query SOCIB API you will need first a <i>token</i> (api key).<br>To get one please visit the [API home page](http://api.socib.es/home/) and fill-in the form at bottom. An email will be sent to you with such <i>token</i>."
   ]
  },
  {
   "cell_type": "markdown",
   "metadata": {},
   "source": [
    "`Please run the next cell if you wanna have a glimpse to API home page`:"
   ]
  },
  {
   "cell_type": "code",
   "execution_count": 3,
   "metadata": {
    "scrolled": true
   },
   "outputs": [
    {
     "data": {
      "text/html": [
       "<iframe src=\"http://api.socib.es/home/\"\" width=100% height=500></iframe>"
      ],
      "text/plain": [
       "<IPython.core.display.HTML object>"
      ]
     },
     "execution_count": 3,
     "metadata": {},
     "output_type": "execute_result"
    }
   ],
   "source": [
    "IPython.display.HTML('<iframe src=\"http://api.socib.es/home/\"\" width=100% height=500></iframe>')"
   ]
  },
  {
   "cell_type": "markdown",
   "metadata": {},
   "source": [
    "`Please set in the next cell your api_key and run the cell below to load it in memory for later use`:"
   ]
  },
  {
   "cell_type": "code",
   "execution_count": 4,
   "metadata": {},
   "outputs": [],
   "source": [
    "api_key = '' #write here the token emailed to you"
   ]
  },
  {
   "cell_type": "code",
   "execution_count": 5,
   "metadata": {},
   "outputs": [],
   "source": [
    "api_url = 'http://api.socib.es'\n",
    "headers = {\n",
    "    'accept': 'application/vnd.socib+json',\n",
    "    'apikey': api_key,\n",
    "}"
   ]
  },
  {
   "cell_type": "markdown",
   "metadata": {},
   "source": [
    "<div class=\"alert alert-block alert-warning\" style=\"margin-left: 2em\">\n",
    "<b>Tip!</b>\n",
    "    \n",
    "***  \n",
    "If you do not remember your token or wanna ask for a new one please reach <i>data.center@socib.es</i> with the following `subject`: 'SOCIB API TOKEN: UPDATE/REMIND REQUEST'"
   ]
  },
  {
   "cell_type": "markdown",
   "metadata": {},
   "source": [
    "### Auxiliary functions"
   ]
  },
  {
   "cell_type": "code",
   "execution_count": 6,
   "metadata": {},
   "outputs": [],
   "source": [
    "def CTD_sampling_points(feature, color, markersize, zoom, legend):\n",
    "    #coordinates\n",
    "    latitudes, longitudes = feature[0]['coordinates']['latitude']['data'],feature[0]['coordinates']['longitude']['data']\n",
    "    #bbox\n",
    "    lat_min,lat_max = min(latitudes)-zoom/2, max(latitudes)+zoom/2\n",
    "    lon_min,lon_max = min(longitudes)-zoom, max(longitudes)+zoom\n",
    "    bbox = [lon_min, lon_max, lat_min, lat_max]\n",
    "    #plot\n",
    "    fig = plt.figure(figsize=(10, 10))\n",
    "    ax = fig.add_subplot(111)\n",
    "    ax = plt.axes(projection=ccrs.Mercator())# Create Mercator projection\n",
    "    ax.set_extent(bbox, crs=ccrs.PlateCarree())\n",
    "    ocean_50m = cfeature.NaturalEarthFeature('physical', 'ocean', '50m',edgecolor='face', facecolor=cfeature.COLORS['water'])\n",
    "    ax.add_feature(ocean_50m)\n",
    "    # Create a feature for LAND at 1:10m from Natural Earth\n",
    "    land_10m = cfeature.NaturalEarthFeature('physical', 'land', '10m',edgecolor='face', facecolor=cfeature.COLORS['land'])\n",
    "    ax.add_feature(land_10m)\n",
    "    # Add the sampling points\n",
    "    for lat,lon in zip(latitudes,longitudes):# Set the map extent, making sure to specify the correct coordinate system\n",
    "        plt.plot(lon,lat,color=color, markersize=markersize, marker='o',transform=ccrs.PlateCarree(),)\n",
    "    # Add a text annotation at the bottom right corner.\n",
    "    text = AnchoredText(legend,loc=4, prop={'size': 12}, frameon=True)\n",
    "    ax.add_artist(text)\n",
    "    plt.show()"
   ]
  },
  {
   "cell_type": "code",
   "execution_count": 7,
   "metadata": {},
   "outputs": [],
   "source": [
    "def CTD_profiles(feature, param_name, title, label):\n",
    "    #coordinates & variable\n",
    "    latitudes, longitudes = feature[0]['coordinates']['latitude']['data'],feature[0]['coordinates']['longitude']['data']\n",
    "    depths, times = feature[0]['coordinates']['depth']['data'],feature[0]['coordinates']['time']['data']\n",
    "    variable = [var for var in feature[0]['variables'] if var['param_name']==param_name][0]['data']\n",
    "    #setting color rules\n",
    "    cmap = plt.cm.Spectral_r\n",
    "    color_base =[var for var in variable[0] if var!=None]\n",
    "    norm = colors.Normalize(vmin=min(color_base), vmax=max(color_base))\n",
    "    #initializing the figure\n",
    "    fig = plt.figure(figsize=(10, 10))\n",
    "    ax = fig.add_subplot(111, projection='3d')\n",
    "    for a in range(0, len(times)):\n",
    "        lat, lon = latitudes[a], longitudes[a]\n",
    "        #skipping None values on profiles\n",
    "        depth_ = [(-1)*depth if depth != None else numpy.nan for depth,var in zip(depths[a],variable[a]) if var!=None]\n",
    "        var_ = [var for var in variable[a] if var!=None]\n",
    "        #ploting each profile\n",
    "        plt.scatter(lon*numpy.ones(len(depth_)), lat*numpy.ones(len(depth_)), zs=depth_, zdir='z', s=20, c=var_, edgecolor='None', cmap=cmap, norm=norm)\n",
    "    #Setting axes, title and colorbar legends\n",
    "    cbar = plt.colorbar(orientation=\"horizontal\", pad=0.02)\n",
    "    cbar.ax.set_xlabel(label)\n",
    "    ax.set_title(title, y=1.08)\n",
    "    ax.set_zlabel('depth', labelpad=20, rotation=90)\n",
    "    ax.set_ylabel('latitude', labelpad=20)\n",
    "    ax.set_xlabel('longitude', labelpad=20)"
   ]
  },
  {
   "cell_type": "code",
   "execution_count": 8,
   "metadata": {},
   "outputs": [],
   "source": [
    "def CTD_animation(feature,zoom):\n",
    "    #coordinates & variable\n",
    "    latitudes, longitudes = feature[0]['coordinates']['latitude']['data'],feature[0]['coordinates']['longitude']['data']\n",
    "    times = feature[0]['coordinates']['time']['data']\n",
    "    #geojson feature\n",
    "    ctd = {'type': 'Feature','geometry': {'type': 'LineString','coordinates': []},'properties': {'times': []}}\n",
    "    lat_mean, lon_mean = numpy.mean(latitudes), numpy.mean(longitudes)\n",
    "    #populating the geojson feature\n",
    "    for time, lat, lon in zip(times, latitudes, longitudes):\n",
    "        ctd['properties']['times'].append(time)\n",
    "        ctd['geometry']['coordinates'].append([lon, lat])\n",
    "    #map initialization\n",
    "    view = folium.Map(location=[lat_mean, lon_mean], zoom_start=zoom)\n",
    "    #timedimension layer creation\n",
    "    timedimension_layer = plugins.TimestampedGeoJson({\n",
    "        'type': 'FeatureCollection',\n",
    "        'features': [ctd],\n",
    "    }, add_last_point=True, loop=False).add_to(view)\n",
    "    #recentering map\n",
    "    return view"
   ]
  },
  {
   "cell_type": "markdown",
   "metadata": {},
   "source": [
    "---"
   ]
  },
  {
   "cell_type": "markdown",
   "metadata": {},
   "source": [
    "## Querying SOCIB API for a given entry/file content (data!):"
   ]
  },
  {
   "cell_type": "markdown",
   "metadata": {},
   "source": [
    "As we akready saw in [Getting Started]('../01-GettingStarted.ipynb'), the basic metocean entity are netCDF files, as this is the chosen format to store and distribute the data reported by instrument & platforms enssembles. Also, we have already seen on [03-entry-services]('03-entry-services.ipynb') that SOCIB provides a set of services for users to download and access such entries/files.<br>i.e: `run the next cell` to list the files from the vessel <i>\\\"Garcia del Cid\\\"</i> and coming form a <i>\"CTD\"</i>"
   ]
  },
  {
   "cell_type": "code",
   "execution_count": 9,
   "metadata": {},
   "outputs": [
    {
     "name": "stdout",
     "output_type": "stream",
     "text": [
      "API custom query : http://api.socib.es/entries/?platform=Garcia_del_cid&instrument_type=CTD\n",
      "There are 3 netCDFs/files produced involving such platform...\n",
      "Find next a preview of the first 3 ones\n"
     ]
    },
    {
     "data": {
      "text/html": [
       "<div>\n",
       "<style scoped>\n",
       "    .dataframe tbody tr th:only-of-type {\n",
       "        vertical-align: middle;\n",
       "    }\n",
       "\n",
       "    .dataframe tbody tr th {\n",
       "        vertical-align: top;\n",
       "    }\n",
       "\n",
       "    .dataframe thead th {\n",
       "        text-align: right;\n",
       "    }\n",
       "</style>\n",
       "<table border=\"1\" class=\"dataframe\">\n",
       "  <thead>\n",
       "    <tr style=\"text-align: right;\">\n",
       "      <th></th>\n",
       "      <th>id</th>\n",
       "      <th>name</th>\n",
       "      <th>platform</th>\n",
       "      <th>instrument</th>\n",
       "      <th>initial_datetime</th>\n",
       "      <th>end_datetime</th>\n",
       "      <th>data_mode</th>\n",
       "      <th>processing_level</th>\n",
       "      <th>last_update</th>\n",
       "      <th>variables</th>\n",
       "      <th>services</th>\n",
       "      <th>viewers</th>\n",
       "    </tr>\n",
       "  </thead>\n",
       "  <tbody>\n",
       "    <tr>\n",
       "      <td>0</td>\n",
       "      <td>31946d93de</td>\n",
       "      <td>data from 2018-05-06 02:16:39+00:00 to 2018-05...</td>\n",
       "      <td>http://api.socib.es/platforms/Garcia_del_Cid_RV</td>\n",
       "      <td>http://api.socib.es/instruments/UTM-SBE9001</td>\n",
       "      <td>2018-05-06T02:16:39Z</td>\n",
       "      <td>2018-05-16T15:24:19Z</td>\n",
       "      <td>rt</td>\n",
       "      <td>L0</td>\n",
       "      <td>2018-07-06T15:36:30Z</td>\n",
       "      <td>http://api.socib.es/entries/31946d93de/variables</td>\n",
       "      <td>{'http_file': {'url': 'http://thredds.socib.es...</td>\n",
       "      <td>{'jwebchart': {'url': 'http://www.socib.es/jwe...</td>\n",
       "    </tr>\n",
       "    <tr>\n",
       "      <td>1</td>\n",
       "      <td>e8eb92a337</td>\n",
       "      <td>data from 2018-05-06 02:16:39+00:00 to 2018-05...</td>\n",
       "      <td>http://api.socib.es/platforms/Garcia_del_Cid_RV</td>\n",
       "      <td>http://api.socib.es/instruments/UTM-SBE9001</td>\n",
       "      <td>2018-05-06T02:16:39Z</td>\n",
       "      <td>2018-05-16T15:24:19Z</td>\n",
       "      <td>rt</td>\n",
       "      <td>L1</td>\n",
       "      <td>2018-07-06T15:36:31Z</td>\n",
       "      <td>http://api.socib.es/entries/e8eb92a337/variables</td>\n",
       "      <td>{'http_file': {'url': 'http://thredds.socib.es...</td>\n",
       "      <td>{'jwebchart': {'url': 'http://www.socib.es/jwe...</td>\n",
       "    </tr>\n",
       "    <tr>\n",
       "      <td>2</td>\n",
       "      <td>94fcfc05e6</td>\n",
       "      <td>data from 2018-05-06 02:16:39+00:00 to 2018-05...</td>\n",
       "      <td>http://api.socib.es/platforms/Garcia_del_Cid_RV</td>\n",
       "      <td>http://api.socib.es/instruments/UTM-SBE9001</td>\n",
       "      <td>2018-05-06T02:16:39Z</td>\n",
       "      <td>2018-05-16T15:24:19Z</td>\n",
       "      <td>dm</td>\n",
       "      <td>L1_corr</td>\n",
       "      <td>2018-07-06T15:36:31Z</td>\n",
       "      <td>http://api.socib.es/entries/94fcfc05e6/variables</td>\n",
       "      <td>{'http_file': {'url': 'http://thredds.socib.es...</td>\n",
       "      <td>{'jwebchart': {'url': 'http://www.socib.es/jwe...</td>\n",
       "    </tr>\n",
       "  </tbody>\n",
       "</table>\n",
       "</div>"
      ],
      "text/plain": [
       "           id                                               name  \\\n",
       "0  31946d93de  data from 2018-05-06 02:16:39+00:00 to 2018-05...   \n",
       "1  e8eb92a337  data from 2018-05-06 02:16:39+00:00 to 2018-05...   \n",
       "2  94fcfc05e6  data from 2018-05-06 02:16:39+00:00 to 2018-05...   \n",
       "\n",
       "                                          platform  \\\n",
       "0  http://api.socib.es/platforms/Garcia_del_Cid_RV   \n",
       "1  http://api.socib.es/platforms/Garcia_del_Cid_RV   \n",
       "2  http://api.socib.es/platforms/Garcia_del_Cid_RV   \n",
       "\n",
       "                                    instrument      initial_datetime  \\\n",
       "0  http://api.socib.es/instruments/UTM-SBE9001  2018-05-06T02:16:39Z   \n",
       "1  http://api.socib.es/instruments/UTM-SBE9001  2018-05-06T02:16:39Z   \n",
       "2  http://api.socib.es/instruments/UTM-SBE9001  2018-05-06T02:16:39Z   \n",
       "\n",
       "           end_datetime data_mode processing_level           last_update  \\\n",
       "0  2018-05-16T15:24:19Z        rt               L0  2018-07-06T15:36:30Z   \n",
       "1  2018-05-16T15:24:19Z        rt               L1  2018-07-06T15:36:31Z   \n",
       "2  2018-05-16T15:24:19Z        dm          L1_corr  2018-07-06T15:36:31Z   \n",
       "\n",
       "                                          variables  \\\n",
       "0  http://api.socib.es/entries/31946d93de/variables   \n",
       "1  http://api.socib.es/entries/e8eb92a337/variables   \n",
       "2  http://api.socib.es/entries/94fcfc05e6/variables   \n",
       "\n",
       "                                            services  \\\n",
       "0  {'http_file': {'url': 'http://thredds.socib.es...   \n",
       "1  {'http_file': {'url': 'http://thredds.socib.es...   \n",
       "2  {'http_file': {'url': 'http://thredds.socib.es...   \n",
       "\n",
       "                                             viewers  \n",
       "0  {'jwebchart': {'url': 'http://www.socib.es/jwe...  \n",
       "1  {'jwebchart': {'url': 'http://www.socib.es/jwe...  \n",
       "2  {'jwebchart': {'url': 'http://www.socib.es/jwe...  "
      ]
     },
     "execution_count": 9,
     "metadata": {},
     "output_type": "execute_result"
    }
   ],
   "source": [
    "end_point = '/entries/'\n",
    "query_parameters = 'platform=Garcia_del_cid&instrument_type=CTD'\n",
    "url = '%s%s?%s' % (api_url, end_point, query_parameters)\n",
    "entries_request = requests.get(url, headers=headers)\n",
    "entries_response = json.loads(entries_request.text)\n",
    "\n",
    "print('API custom query : '+ url)\n",
    "print('There are %s netCDFs/files produced involving such platform...'%(entries_response['count']))\n",
    "print('Find next a preview of the first %s ones'%(len(entries_response['results'])))\n",
    "pandas.DataFrame.from_dict(entries_response['results'])"
   ]
  },
  {
   "cell_type": "markdown",
   "metadata": {},
   "source": [
    "Nevertheless, all these services pivot around a certain file format: the netCDF. The netCDF format is widely used and known among the MetOcena community but not so much beyond. Therefore Does an user have to master in reading netCDF files and other possible formats to be able to finally access the observations they are storing?. The answer is no! :D <br>SOCIB API acts as a layer of abstraction between users and the underlying file format storing the observations trough the  `/data/` auxiliary endpoint. Let's se how it works!"
   ]
  },
  {
   "cell_type": "markdown",
   "metadata": {},
   "source": [
    "Let's choose one of the above files by its identifier (<i>id</i>):"
   ]
  },
  {
   "cell_type": "code",
   "execution_count": 10,
   "metadata": {},
   "outputs": [],
   "source": [
    "entry_id = 'e8eb92a337'"
   ]
  },
  {
   "cell_type": "code",
   "execution_count": 11,
   "metadata": {},
   "outputs": [
    {
     "name": "stdout",
     "output_type": "stream",
     "text": [
      "API query: http://api.socib.es/entries/e8eb92a337\n",
      "Find next its preview:\n"
     ]
    },
    {
     "data": {
      "text/html": [
       "<div>\n",
       "<style scoped>\n",
       "    .dataframe tbody tr th:only-of-type {\n",
       "        vertical-align: middle;\n",
       "    }\n",
       "\n",
       "    .dataframe tbody tr th {\n",
       "        vertical-align: top;\n",
       "    }\n",
       "\n",
       "    .dataframe thead th {\n",
       "        text-align: right;\n",
       "    }\n",
       "</style>\n",
       "<table border=\"1\" class=\"dataframe\">\n",
       "  <thead>\n",
       "    <tr style=\"text-align: right;\">\n",
       "      <th></th>\n",
       "      <th>id</th>\n",
       "      <th>name</th>\n",
       "      <th>platform</th>\n",
       "      <th>instrument</th>\n",
       "      <th>initial_datetime</th>\n",
       "      <th>end_datetime</th>\n",
       "      <th>data_mode</th>\n",
       "      <th>processing_level</th>\n",
       "      <th>last_update</th>\n",
       "      <th>variables</th>\n",
       "      <th>services</th>\n",
       "      <th>viewers</th>\n",
       "    </tr>\n",
       "  </thead>\n",
       "  <tbody>\n",
       "    <tr>\n",
       "      <td>0</td>\n",
       "      <td>e8eb92a337</td>\n",
       "      <td>data from 2018-05-06 02:16:39+00:00 to 2018-05...</td>\n",
       "      <td>http://api.socib.es/platforms/Garcia_del_Cid_RV</td>\n",
       "      <td>http://api.socib.es/instruments/UTM-SBE9001</td>\n",
       "      <td>2018-05-06T02:16:39Z</td>\n",
       "      <td>2018-05-16T15:24:19Z</td>\n",
       "      <td>rt</td>\n",
       "      <td>L1</td>\n",
       "      <td>2018-07-06T15:36:31Z</td>\n",
       "      <td>http://api.socib.es/entries/e8eb92a337/variables</td>\n",
       "      <td>{'http_file': {'url': 'http://thredds.socib.es...</td>\n",
       "      <td>{'jwebchart': {'url': 'http://www.socib.es/jwe...</td>\n",
       "    </tr>\n",
       "  </tbody>\n",
       "</table>\n",
       "</div>"
      ],
      "text/plain": [
       "           id                                               name  \\\n",
       "0  e8eb92a337  data from 2018-05-06 02:16:39+00:00 to 2018-05...   \n",
       "\n",
       "                                          platform  \\\n",
       "0  http://api.socib.es/platforms/Garcia_del_Cid_RV   \n",
       "\n",
       "                                    instrument      initial_datetime  \\\n",
       "0  http://api.socib.es/instruments/UTM-SBE9001  2018-05-06T02:16:39Z   \n",
       "\n",
       "           end_datetime data_mode processing_level           last_update  \\\n",
       "0  2018-05-16T15:24:19Z        rt               L1  2018-07-06T15:36:31Z   \n",
       "\n",
       "                                          variables  \\\n",
       "0  http://api.socib.es/entries/e8eb92a337/variables   \n",
       "\n",
       "                                            services  \\\n",
       "0  {'http_file': {'url': 'http://thredds.socib.es...   \n",
       "\n",
       "                                             viewers  \n",
       "0  {'jwebchart': {'url': 'http://www.socib.es/jwe...  "
      ]
     },
     "execution_count": 11,
     "metadata": {},
     "output_type": "execute_result"
    }
   ],
   "source": [
    "end_point = '/entries/'+entry_id\n",
    "url = '%s%s' % (api_url, end_point)\n",
    "entry_detail_request = requests.get(url, headers=headers)\n",
    "entry_detail_response = json.loads(entry_detail_request.text)\n",
    "\n",
    "print('API query: '+ url)\n",
    "print('Find next its preview:')\n",
    "pandas.DataFrame.from_dict([entry_detail_response])"
   ]
  },
  {
   "cell_type": "markdown",
   "metadata": {},
   "source": [
    "Let's `run the next cell` to  retrieve the content of the above entry/file:"
   ]
  },
  {
   "cell_type": "code",
   "execution_count": 12,
   "metadata": {},
   "outputs": [
    {
     "name": "stdout",
     "output_type": "stream",
     "text": [
      "API query: http://api.socib.es/entries/e8eb92a337/data/\n",
      "Find next its preview:\n"
     ]
    },
    {
     "data": {
      "text/html": [
       "<div>\n",
       "<style scoped>\n",
       "    .dataframe tbody tr th:only-of-type {\n",
       "        vertical-align: middle;\n",
       "    }\n",
       "\n",
       "    .dataframe tbody tr th {\n",
       "        vertical-align: top;\n",
       "    }\n",
       "\n",
       "    .dataframe thead th {\n",
       "        text-align: right;\n",
       "    }\n",
       "</style>\n",
       "<table border=\"1\" class=\"dataframe\">\n",
       "  <thead>\n",
       "    <tr style=\"text-align: right;\">\n",
       "      <th></th>\n",
       "      <th>feature_type</th>\n",
       "      <th>variables</th>\n",
       "      <th>coordinates</th>\n",
       "      <th>data_mode</th>\n",
       "      <th>time_range</th>\n",
       "      <th>processing_level</th>\n",
       "    </tr>\n",
       "  </thead>\n",
       "  <tbody>\n",
       "    <tr>\n",
       "      <td>0</td>\n",
       "      <td>trajectoryProfileIrregular</td>\n",
       "      <td>[{'param_name': 'DPAR', 'axis_z_name': 'depth'...</td>\n",
       "      <td>{'latitude': {'units': 'degrees_north', 'long_...</td>\n",
       "      <td>rt</td>\n",
       "      <td>{'initial_datetime': '2018-05-06T02:16:39', 'e...</td>\n",
       "      <td>L1</td>\n",
       "    </tr>\n",
       "  </tbody>\n",
       "</table>\n",
       "</div>"
      ],
      "text/plain": [
       "                 feature_type  \\\n",
       "0  trajectoryProfileIrregular   \n",
       "\n",
       "                                           variables  \\\n",
       "0  [{'param_name': 'DPAR', 'axis_z_name': 'depth'...   \n",
       "\n",
       "                                         coordinates data_mode  \\\n",
       "0  {'latitude': {'units': 'degrees_north', 'long_...        rt   \n",
       "\n",
       "                                          time_range processing_level  \n",
       "0  {'initial_datetime': '2018-05-06T02:16:39', 'e...               L1  "
      ]
     },
     "execution_count": 12,
     "metadata": {},
     "output_type": "execute_result"
    }
   ],
   "source": [
    "end_point = '/entries/'+entry_id\n",
    "aux_endpoint = '/data/'\n",
    "url = '%s%s%s' % (api_url, end_point,aux_endpoint)\n",
    "entry_data_request = requests.get(url, headers=headers)\n",
    "entry_data_response = json.loads(entry_data_request.text)\n",
    "\n",
    "print('API query: '+ url)\n",
    "print('Find next its preview:')\n",
    "pandas.DataFrame.from_dict(entry_data_response)"
   ]
  },
  {
   "cell_type": "markdown",
   "metadata": {},
   "source": [
    "Let's explore the data reponse:"
   ]
  },
  {
   "cell_type": "markdown",
   "metadata": {},
   "source": [
    "<ul><li><i>Feature type</i> - data geometry shape</li></ul>"
   ]
  },
  {
   "cell_type": "code",
   "execution_count": 13,
   "metadata": {},
   "outputs": [
    {
     "data": {
      "text/plain": [
       "'trajectoryProfileIrregular'"
      ]
     },
     "execution_count": 13,
     "metadata": {},
     "output_type": "execute_result"
    }
   ],
   "source": [
    "entry_data_response[0]['feature_type']"
   ]
  },
  {
   "cell_type": "markdown",
   "metadata": {},
   "source": [
    "<ul><li><i>time range </i>- measurements' time coverage</li></ul>"
   ]
  },
  {
   "cell_type": "code",
   "execution_count": 14,
   "metadata": {},
   "outputs": [
    {
     "data": {
      "text/html": [
       "<div>\n",
       "<style scoped>\n",
       "    .dataframe tbody tr th:only-of-type {\n",
       "        vertical-align: middle;\n",
       "    }\n",
       "\n",
       "    .dataframe tbody tr th {\n",
       "        vertical-align: top;\n",
       "    }\n",
       "\n",
       "    .dataframe thead th {\n",
       "        text-align: right;\n",
       "    }\n",
       "</style>\n",
       "<table border=\"1\" class=\"dataframe\">\n",
       "  <thead>\n",
       "    <tr style=\"text-align: right;\">\n",
       "      <th></th>\n",
       "      <th>initial_datetime</th>\n",
       "      <th>end_datetime</th>\n",
       "    </tr>\n",
       "  </thead>\n",
       "  <tbody>\n",
       "    <tr>\n",
       "      <td>0</td>\n",
       "      <td>2018-05-06T02:16:39</td>\n",
       "      <td>2018-05-16T15:24:19</td>\n",
       "    </tr>\n",
       "  </tbody>\n",
       "</table>\n",
       "</div>"
      ],
      "text/plain": [
       "      initial_datetime         end_datetime\n",
       "0  2018-05-06T02:16:39  2018-05-16T15:24:19"
      ]
     },
     "execution_count": 14,
     "metadata": {},
     "output_type": "execute_result"
    }
   ],
   "source": [
    "time_range = entry_data_response[0]['time_range']\n",
    "pandas.DataFrame.from_dict([time_range])"
   ]
  },
  {
   "cell_type": "markdown",
   "metadata": {},
   "source": [
    "<ul><li><i>variables</i> - oceanographic properties measured </li></ul>"
   ]
  },
  {
   "cell_type": "code",
   "execution_count": 15,
   "metadata": {},
   "outputs": [
    {
     "data": {
      "text/html": [
       "<div>\n",
       "<style scoped>\n",
       "    .dataframe tbody tr th:only-of-type {\n",
       "        vertical-align: middle;\n",
       "    }\n",
       "\n",
       "    .dataframe tbody tr th {\n",
       "        vertical-align: top;\n",
       "    }\n",
       "\n",
       "    .dataframe thead th {\n",
       "        text-align: right;\n",
       "    }\n",
       "</style>\n",
       "<table border=\"1\" class=\"dataframe\">\n",
       "  <thead>\n",
       "    <tr style=\"text-align: right;\">\n",
       "      <th></th>\n",
       "      <th>param_name</th>\n",
       "      <th>axis_z_name</th>\n",
       "      <th>axis_x_name</th>\n",
       "      <th>precision</th>\n",
       "      <th>axis_t_name</th>\n",
       "      <th>long_name</th>\n",
       "      <th>standard_name</th>\n",
       "      <th>axis_y_name</th>\n",
       "      <th>data</th>\n",
       "      <th>units</th>\n",
       "    </tr>\n",
       "  </thead>\n",
       "  <tbody>\n",
       "    <tr>\n",
       "      <td>0</td>\n",
       "      <td>DPAR</td>\n",
       "      <td>depth</td>\n",
       "      <td>longitude</td>\n",
       "      <td>0.00001</td>\n",
       "      <td>time</td>\n",
       "      <td>PAR/ Irradiance</td>\n",
       "      <td>downwelling_photosynthetic_photon_flux_in_sea_...</td>\n",
       "      <td>latitude</td>\n",
       "      <td>[[-0.1085, -0.1085, -0.1084, -0.1086, -0.1075,...</td>\n",
       "      <td>NaN</td>\n",
       "    </tr>\n",
       "    <tr>\n",
       "      <td>1</td>\n",
       "      <td>WTR_TEM_01</td>\n",
       "      <td>depth</td>\n",
       "      <td>longitude</td>\n",
       "      <td>0.0001</td>\n",
       "      <td>time</td>\n",
       "      <td>Sea water temperature</td>\n",
       "      <td>sea_water_temperature</td>\n",
       "      <td>latitude</td>\n",
       "      <td>[[16.2009, 16.2016, 16.2033, 16.1453, 15.9306,...</td>\n",
       "      <td>C</td>\n",
       "    </tr>\n",
       "    <tr>\n",
       "      <td>2</td>\n",
       "      <td>WTR_PRE</td>\n",
       "      <td>depth</td>\n",
       "      <td>longitude</td>\n",
       "      <td>0.0001</td>\n",
       "      <td>time</td>\n",
       "      <td>Sea water pressure</td>\n",
       "      <td>sea_water_pressure</td>\n",
       "      <td>latitude</td>\n",
       "      <td>[[5.0, 10.0, 15.0, 20.0, 25.0, 30.0, 35.0, 40....</td>\n",
       "      <td>dbar</td>\n",
       "    </tr>\n",
       "    <tr>\n",
       "      <td>3</td>\n",
       "      <td>TURB</td>\n",
       "      <td>depth</td>\n",
       "      <td>longitude</td>\n",
       "      <td>0.0001</td>\n",
       "      <td>time</td>\n",
       "      <td>turbidity_of_sea_water - Turbidity of sea water</td>\n",
       "      <td>__NONE__</td>\n",
       "      <td>latitude</td>\n",
       "      <td>[[0.059, 0.062, 0.06, 0.062, 0.068, 0.064, 0.0...</td>\n",
       "      <td>NaN</td>\n",
       "    </tr>\n",
       "    <tr>\n",
       "      <td>4</td>\n",
       "      <td>CHLO</td>\n",
       "      <td>depth</td>\n",
       "      <td>longitude</td>\n",
       "      <td>0.0001</td>\n",
       "      <td>time</td>\n",
       "      <td>chl_a_fluorescence - chlorophyll A fluorescenc...</td>\n",
       "      <td>__NONE__</td>\n",
       "      <td>latitude</td>\n",
       "      <td>[[0.0466, 0.0458, 0.0469, 0.0463, 0.048, 0.049...</td>\n",
       "      <td>V</td>\n",
       "    </tr>\n",
       "    <tr>\n",
       "      <td>5</td>\n",
       "      <td>SALT_01</td>\n",
       "      <td>depth</td>\n",
       "      <td>longitude</td>\n",
       "      <td>0.0001</td>\n",
       "      <td>time</td>\n",
       "      <td>Sea water practical salinity</td>\n",
       "      <td>sea_water_practical_salinity</td>\n",
       "      <td>latitude</td>\n",
       "      <td>[[37.3218, 37.3221, 37.3254, 37.3418, 37.3606,...</td>\n",
       "      <td>psu</td>\n",
       "    </tr>\n",
       "    <tr>\n",
       "      <td>6</td>\n",
       "      <td>BEAM_ATTEN</td>\n",
       "      <td>depth</td>\n",
       "      <td>longitude</td>\n",
       "      <td>0.0001</td>\n",
       "      <td>time</td>\n",
       "      <td>Sea water beam attenuation</td>\n",
       "      <td>volume_beam_attenuation_coefficient_of_radiati...</td>\n",
       "      <td>latitude</td>\n",
       "      <td>[[0.0, 0.0, 0.0, 0.0, 0.0, 0.0, 0.0, 0.0, 0.0,...</td>\n",
       "      <td>m-1</td>\n",
       "    </tr>\n",
       "    <tr>\n",
       "      <td>7</td>\n",
       "      <td>OXY_CON</td>\n",
       "      <td>depth</td>\n",
       "      <td>longitude</td>\n",
       "      <td>0.0001</td>\n",
       "      <td>time</td>\n",
       "      <td>Oxygen in sea water</td>\n",
       "      <td>mass_concentration_of_oxygen_in_sea_water</td>\n",
       "      <td>latitude</td>\n",
       "      <td>[[7.4181, 7.4291, 7.4356, 7.4477, 7.4703, 7.47...</td>\n",
       "      <td>mg l-1</td>\n",
       "    </tr>\n",
       "    <tr>\n",
       "      <td>8</td>\n",
       "      <td>COND_01</td>\n",
       "      <td>depth</td>\n",
       "      <td>longitude</td>\n",
       "      <td>0.0001</td>\n",
       "      <td>time</td>\n",
       "      <td>sea water electrical conduvtivity</td>\n",
       "      <td>sea_water_electrical_conductivity</td>\n",
       "      <td>latitude</td>\n",
       "      <td>[[46.7057, 46.709, 46.7167, 46.6755, 46.4712, ...</td>\n",
       "      <td>mS cm-1</td>\n",
       "    </tr>\n",
       "  </tbody>\n",
       "</table>\n",
       "</div>"
      ],
      "text/plain": [
       "   param_name axis_z_name axis_x_name precision axis_t_name  \\\n",
       "0        DPAR       depth   longitude   0.00001        time   \n",
       "1  WTR_TEM_01       depth   longitude    0.0001        time   \n",
       "2     WTR_PRE       depth   longitude    0.0001        time   \n",
       "3        TURB       depth   longitude    0.0001        time   \n",
       "4        CHLO       depth   longitude    0.0001        time   \n",
       "5     SALT_01       depth   longitude    0.0001        time   \n",
       "6  BEAM_ATTEN       depth   longitude    0.0001        time   \n",
       "7     OXY_CON       depth   longitude    0.0001        time   \n",
       "8     COND_01       depth   longitude    0.0001        time   \n",
       "\n",
       "                                           long_name  \\\n",
       "0                                    PAR/ Irradiance   \n",
       "1                              Sea water temperature   \n",
       "2                                 Sea water pressure   \n",
       "3    turbidity_of_sea_water - Turbidity of sea water   \n",
       "4  chl_a_fluorescence - chlorophyll A fluorescenc...   \n",
       "5                      Sea water practical salinity    \n",
       "6                         Sea water beam attenuation   \n",
       "7                                Oxygen in sea water   \n",
       "8                  sea water electrical conduvtivity   \n",
       "\n",
       "                                       standard_name axis_y_name  \\\n",
       "0  downwelling_photosynthetic_photon_flux_in_sea_...    latitude   \n",
       "1                              sea_water_temperature    latitude   \n",
       "2                                 sea_water_pressure    latitude   \n",
       "3                                           __NONE__    latitude   \n",
       "4                                           __NONE__    latitude   \n",
       "5                       sea_water_practical_salinity    latitude   \n",
       "6  volume_beam_attenuation_coefficient_of_radiati...    latitude   \n",
       "7          mass_concentration_of_oxygen_in_sea_water    latitude   \n",
       "8                  sea_water_electrical_conductivity    latitude   \n",
       "\n",
       "                                                data    units  \n",
       "0  [[-0.1085, -0.1085, -0.1084, -0.1086, -0.1075,...      NaN  \n",
       "1  [[16.2009, 16.2016, 16.2033, 16.1453, 15.9306,...        C  \n",
       "2  [[5.0, 10.0, 15.0, 20.0, 25.0, 30.0, 35.0, 40....     dbar  \n",
       "3  [[0.059, 0.062, 0.06, 0.062, 0.068, 0.064, 0.0...      NaN  \n",
       "4  [[0.0466, 0.0458, 0.0469, 0.0463, 0.048, 0.049...        V  \n",
       "5  [[37.3218, 37.3221, 37.3254, 37.3418, 37.3606,...      psu  \n",
       "6  [[0.0, 0.0, 0.0, 0.0, 0.0, 0.0, 0.0, 0.0, 0.0,...      m-1  \n",
       "7  [[7.4181, 7.4291, 7.4356, 7.4477, 7.4703, 7.47...   mg l-1  \n",
       "8  [[46.7057, 46.709, 46.7167, 46.6755, 46.4712, ...  mS cm-1  "
      ]
     },
     "execution_count": 15,
     "metadata": {},
     "output_type": "execute_result"
    }
   ],
   "source": [
    "variables = entry_data_response[0]['variables']\n",
    "pandas.DataFrame.from_dict(variables)"
   ]
  },
  {
   "cell_type": "markdown",
   "metadata": {},
   "source": [
    "<ul><li>Coordinates</li></ul>"
   ]
  },
  {
   "cell_type": "code",
   "execution_count": 16,
   "metadata": {},
   "outputs": [
    {
     "data": {
      "text/html": [
       "<div>\n",
       "<style scoped>\n",
       "    .dataframe tbody tr th:only-of-type {\n",
       "        vertical-align: middle;\n",
       "    }\n",
       "\n",
       "    .dataframe tbody tr th {\n",
       "        vertical-align: top;\n",
       "    }\n",
       "\n",
       "    .dataframe thead th {\n",
       "        text-align: right;\n",
       "    }\n",
       "</style>\n",
       "<table border=\"1\" class=\"dataframe\">\n",
       "  <thead>\n",
       "    <tr style=\"text-align: right;\">\n",
       "      <th></th>\n",
       "      <th>latitude</th>\n",
       "      <th>depth</th>\n",
       "      <th>longitude</th>\n",
       "      <th>time</th>\n",
       "    </tr>\n",
       "  </thead>\n",
       "  <tbody>\n",
       "    <tr>\n",
       "      <td>units</td>\n",
       "      <td>degrees_north</td>\n",
       "      <td>m</td>\n",
       "      <td>degrees_east</td>\n",
       "      <td>NaN</td>\n",
       "    </tr>\n",
       "    <tr>\n",
       "      <td>long_name</td>\n",
       "      <td>Latitude coordinate</td>\n",
       "      <td>Depth coordinate</td>\n",
       "      <td>Longitude coordinate</td>\n",
       "      <td>NaN</td>\n",
       "    </tr>\n",
       "    <tr>\n",
       "      <td>axis</td>\n",
       "      <td>Y</td>\n",
       "      <td>Z</td>\n",
       "      <td>X</td>\n",
       "      <td>T</td>\n",
       "    </tr>\n",
       "    <tr>\n",
       "      <td>data</td>\n",
       "      <td>[38.32583, 38.41717, 38.50683, 38.59717, 38.68...</td>\n",
       "      <td>[[5.0, 10.0, 15.0, 20.0, 25.0, 30.0, 35.0, 40....</td>\n",
       "      <td>[3.4827, 3.4835, 3.4827, 3.4827, 3.4813, 3.481...</td>\n",
       "      <td>[2018-05-06T02:16:39, 2018-05-06T04:27:24, 201...</td>\n",
       "    </tr>\n",
       "    <tr>\n",
       "      <td>variable_name</td>\n",
       "      <td>latitude</td>\n",
       "      <td>depth</td>\n",
       "      <td>longitude</td>\n",
       "      <td>time</td>\n",
       "    </tr>\n",
       "  </tbody>\n",
       "</table>\n",
       "</div>"
      ],
      "text/plain": [
       "                                                        latitude  \\\n",
       "units                                              degrees_north   \n",
       "long_name                                    Latitude coordinate   \n",
       "axis                                                           Y   \n",
       "data           [38.32583, 38.41717, 38.50683, 38.59717, 38.68...   \n",
       "variable_name                                           latitude   \n",
       "\n",
       "                                                           depth  \\\n",
       "units                                                          m   \n",
       "long_name                                       Depth coordinate   \n",
       "axis                                                           Z   \n",
       "data           [[5.0, 10.0, 15.0, 20.0, 25.0, 30.0, 35.0, 40....   \n",
       "variable_name                                              depth   \n",
       "\n",
       "                                                       longitude  \\\n",
       "units                                               degrees_east   \n",
       "long_name                                   Longitude coordinate   \n",
       "axis                                                           X   \n",
       "data           [3.4827, 3.4835, 3.4827, 3.4827, 3.4813, 3.481...   \n",
       "variable_name                                          longitude   \n",
       "\n",
       "                                                            time  \n",
       "units                                                        NaN  \n",
       "long_name                                                    NaN  \n",
       "axis                                                           T  \n",
       "data           [2018-05-06T02:16:39, 2018-05-06T04:27:24, 201...  \n",
       "variable_name                                               time  "
      ]
     },
     "execution_count": 16,
     "metadata": {},
     "output_type": "execute_result"
    }
   ],
   "source": [
    "coordinates = entry_data_response[0]['coordinates']\n",
    "pandas.DataFrame.from_dict(coordinates)"
   ]
  },
  {
   "cell_type": "markdown",
   "metadata": {},
   "source": [
    "Let's have a look at the overall data:"
   ]
  },
  {
   "cell_type": "markdown",
   "metadata": {},
   "source": [
    "<ul><li>Sampling points</li></ul>"
   ]
  },
  {
   "cell_type": "code",
   "execution_count": 17,
   "metadata": {},
   "outputs": [
    {
     "data": {
      "image/png": "[encoded data removed]",
      "text/plain": [
       "<Figure size 720x720 with 1 Axes>"
      ]
     },
     "metadata": {
      "needs_background": "light"
     },
     "output_type": "display_data"
    }
   ],
   "source": [
    "CTD_sampling_points(entry_data_response, 'black',2,3, 'CTD sampling points - Garcia del Cid')"
   ]
  },
  {
   "cell_type": "markdown",
   "metadata": {},
   "source": [
    "<ul><li>Profiles</li></ul>"
   ]
  },
  {
   "cell_type": "code",
   "execution_count": 18,
   "metadata": {},
   "outputs": [
    {
     "data": {
      "image/png": "[encoded data removed]",
      "text/plain": [
       "<Figure size 720x720 with 2 Axes>"
      ]
     },
     "metadata": {
      "needs_background": "light"
     },
     "output_type": "display_data"
    }
   ],
   "source": [
    "CTD_profiles(entry_data_response, 'WTR_TEM_01','Temperature profiles - Garcia del Cid','TEMP')"
   ]
  },
  {
   "cell_type": "markdown",
   "metadata": {},
   "source": [
    "<ul><li>Animation</li></ul>"
   ]
  },
  {
   "cell_type": "code",
   "execution_count": 20,
   "metadata": {
    "scrolled": false
   },
   "outputs": [
    {
     "data": {
      "text/html": [
       "<div style=\"width:100%;\"><div style=\"position:relative;width:100%;height:0;padding-bottom:60%;\"><iframe src=\"data:text/html;charset=utf-8;base64,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\" style=\"position:absolute;width:100%;height:100%;left:0;top:0;border:none !important;\" allowfullscreen webkitallowfullscreen mozallowfullscreen></iframe></div></div>"
      ],
      "text/plain": [
       "<folium.folium.Map at 0x7fc6404189d0>"
      ]
     },
     "execution_count": 20,
     "metadata": {},
     "output_type": "execute_result"
    }
   ],
   "source": [
    "CTD_animation(entry_data_response,7)"
   ]
  },
  {
   "cell_type": "markdown",
   "metadata": {},
   "source": [
    "---"
   ]
  },
  {
   "cell_type": "markdown",
   "metadata": {},
   "source": [
    "## Next tutorial"
   ]
  },
  {
   "cell_type": "markdown",
   "metadata": {},
   "source": [
    "<div class=\"alert alert-block alert-success\" style=\"margin-left: 2em\">\n",
    "<b>More!</b>\n",
    "    \n",
    "***  \n",
    "To see way more about SOCIB entries next dedicated notebooks:\n",
    "<ul>\n",
    "    <li><span><a href=\"05-entry-data-subsetting.ipynb\">05-entry-data-subsetting</a></span></li>\n",
    "    <li><span><a href=\"06-entry-data-resampling.ipynb\">06-entry-data-resampling</a></span></li>\n",
    "</ul>"
   ]
  }
 ],
 "metadata": {
  "finalized": {
   "timestamp": 1575909286099,
   "trusted": true
  },
  "kernelspec": {
   "display_name": "Python 3",
   "language": "python",
   "name": "python3"
  },
  "language_info": {
   "codemirror_mode": {
    "name": "ipython",
    "version": 3
   },
   "file_extension": ".py",
   "mimetype": "text/x-python",
   "name": "python",
   "nbconvert_exporter": "python",
   "pygments_lexer": "ipython3",
   "version": "3.7.4"
  },
  "toc": {
   "base_numbering": 1,
   "nav_menu": {},
   "number_sections": true,
   "sideBar": true,
   "skip_h1_title": true,
   "title_cell": "Table of Contents",
   "title_sidebar": "Contents",
   "toc_cell": true,
   "toc_position": {},
   "toc_section_display": true,
   "toc_window_display": false
  }
 },
 "nbformat": 4,
 "nbformat_minor": 2
}
