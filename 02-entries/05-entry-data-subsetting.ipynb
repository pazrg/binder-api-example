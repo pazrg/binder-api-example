{
 "cells": [
  {
   "cell_type": "markdown",
   "metadata": {},
   "source": [
    "![header](http://eurogoos.eu/wp-content/uploads/SOCIB-logo.jpg)"
   ]
  },
  {
   "cell_type": "markdown",
   "metadata": {},
   "source": [
    "# SOCIB API TRAINING\n",
    "<div style=\"text-align: right\"><i> 05-Part-one-out-of-06 </i></div>"
   ]
  },
  {
   "cell_type": "markdown",
   "metadata": {},
   "source": [
    "---"
   ]
  },
  {
   "cell_type": "markdown",
   "metadata": {
    "toc": true
   },
   "source": [
    "<h1>Table of Contents<span class=\"tocSkip\"></span></h1>\n",
    "<div class=\"toc\"><ul class=\"toc-item\">\n",
    "    <li><span><a href=\"#Introduction\" data-toc-modified-id=\"Introduction-1\">\n",
    "        <span class=\"toc-item-num\">1&nbsp;&nbsp;</span>Introduction</a></span>\n",
    "    </li>\n",
    "    <li><span><a href=\"#Setup\" data-toc-modified-id=\"Setup-2\">\n",
    "        <span class=\"toc-item-num\">2&nbsp;&nbsp;</span>Setup</a></span>\n",
    "        <ul class=\"toc-item\">\n",
    "            <li>\n",
    "                <span><a href=\"#Importing-modules\" data-toc-modified-id=\"Importing-modules-2.1\">\n",
    "                    <span class=\"toc-item-num\">2.1&nbsp;&nbsp;</span>Importing modules</a></span>\n",
    "            </li>\n",
    "            <li>\n",
    "                <span><a href=\"#API-token\" data-toc-modified-id=\"API-token-2.2\">\n",
    "                    <span class=\"toc-item-num\">2.2&nbsp;&nbsp;</span>API token</a></span>\n",
    "            </li>\n",
    "            <li>\n",
    "                <span><a href=\"#Auxiliary-functions\" data-toc-modified-id=\"Auxiliary-functions-2.3\">\n",
    "                    <span class=\"toc-item-num\">2.3&nbsp;&nbsp;</span>Auxiliary functions</a></span>\n",
    "            </li>\n",
    "        </ul>\n",
    "    <li>\n",
    "        <span><a href=\"#Subsetting-a-given-entry/file-content-(data!)-with-SOCIB-API:\" data-toc-modified-id=\"Subsetting-a-given-entry/file-content-(data!)-with-SOCIB-API:\"><span class=\"toc-item-num\">3&nbsp;&nbsp;</span>Subsetting a given entry/file content (data!) with SOCIB API:</a></span>\n",
    "        <ul>\n",
    "                     <li><span><a href=\"#TQuality-Flags\" data-toc-modified-id=\"Quality-Flags\"><span class=\"toc-item-num\">3.1&nbsp;&nbsp;</span>Quality Flags</a></span></li>\n",
    "                    <li><span><a href=\"#Time-range\" data-toc-modified-id=\"Time-range\"><span class=\"toc-item-num\">3.2&nbsp;&nbsp;</span>Time range</a></span></li>\n",
    "                    <li><span><a href=\"#Geographical-bounding-box\" data-toc-modified-id=\"Geographical-bounding-box\"><span class=\"toc-item-num\">3.3&nbsp;&nbsp;</span>Geographical bounding-box</a></span></li>\n",
    "                    <li><span><a href=\"#Vertical-range\" data-toc-modified-id=\"Vertical-range\"><span class=\"toc-item-num\">3.4&nbsp;&nbsp;</span>Vertical range</a></span></li></ul>\n",
    "    <li><span><a href=\"#Next-tutorial\" data-toc-modified-id=\"Next-tutorial\">\n",
    "        <span class=\"toc-item-num\">4&nbsp;&nbsp;</span>Next tutorial</a></span></li>\n",
    "    </ul>\n",
    "</div>"
   ]
  },
  {
   "cell_type": "markdown",
   "metadata": {},
   "source": [
    "---"
   ]
  },
  {
   "cell_type": "markdown",
   "metadata": {},
   "source": [
    "# ENTRIES"
   ]
  },
  {
   "cell_type": "markdown",
   "metadata": {},
   "source": [
    "## Introduction \n",
    "\n",
    "SOCIB API is a door users can knock-on in order to get information about the Balearic Islands Coastal Ocean Observing and Forecast System (SOCIB). SOCIB API is represented by an generic url (SOCIB API url). The elements that trigger a response when added to the generic API url are called `ENDPOINTS`.\n",
    "Among the present posibilities:\n",
    "<ul>\n",
    "    <li>measured variables (<span class=\"alert-info\">/standard-variables/</span>)</li>\n",
    "    <li>stock of instruments (<span class=\"alert-info\">/instrument-types/</span>) and platforms(<span class=\"alert-info\">/platform-types/</span>), \n",
    "</li>\n",
    "    <li>data maturity (<span class=\"alert-info\">/processing-levels/</span> and <span class=\"alert-info\">/data-modes/</span>)</li>\n",
    "    <li>kind of data (<span class=\"alert-info\">/feature-types/</span>)</li>\n",
    "    <li>data entities (<span class=\"alert-success\"><b>/entries/<b></span>, <span class=\"alert-info\">/data-sources/</span>, <span class=\"alert-info\">/instruments/</span>,<span class=\"alert-info\">/platforms/</span>, <span class=\"alert-info\">/data-products/</span>)</li>\n",
    "\n",
    "</ul>\n",
    "\n",
    "<br>This notebook will focus then on the <span class=\"alert-success\" style=\"\"><b>/entries/</b></span> endpoint."
   ]
  },
  {
   "cell_type": "markdown",
   "metadata": {},
   "source": [
    "---"
   ]
  },
  {
   "cell_type": "markdown",
   "metadata": {},
   "source": [
    "## Setup"
   ]
  },
  {
   "cell_type": "markdown",
   "metadata": {},
   "source": [
    "### Importing modules"
   ]
  },
  {
   "cell_type": "markdown",
   "metadata": {},
   "source": [
    "We will relly on a set of python modules to deal with SOCIB API next.<br> `Please run the next cells` so that they can be used by the present Jupyter Notebook:"
   ]
  },
  {
   "cell_type": "code",
   "execution_count": null,
   "metadata": {},
   "outputs": [],
   "source": [
    "import warnings\n",
    "warnings.filterwarnings(\"ignore\")\n",
    "\n",
    "import json\n",
    "import pandas\n",
    "import requests\n",
    "import IPython\n",
    "from json2html import *"
   ]
  },
  {
   "cell_type": "code",
   "execution_count": null,
   "metadata": {},
   "outputs": [],
   "source": [
    "import numpy\n",
    "import matplotlib\n",
    "import matplotlib.pyplot as plt\n",
    "import folium\n",
    "from folium import plugins\n",
    "import cartopy\n",
    "import cartopy.crs as ccrs\n",
    "import cartopy.feature as cfeature\n",
    "from matplotlib.offsetbox import AnchoredText\n",
    "from mpl_toolkits.mplot3d import Axes3D\n",
    "from matplotlib import colors"
   ]
  },
  {
   "cell_type": "markdown",
   "metadata": {},
   "source": [
    "<div class=\"alert alert-block alert-warning\" style=\"margin-left: 2em\">\n",
    "<b>Tip!</b>\n",
    "    \n",
    "***  \n",
    "If any of them raises any error please run prior to load it and in a dedicated cell, either:<ul><li> <i>`!conda install packageName --yes`</i></li> or <li><i>`!pip install packageName --yes`</i></li></ul>"
   ]
  },
  {
   "cell_type": "markdown",
   "metadata": {},
   "source": [
    "### API token"
   ]
  },
  {
   "cell_type": "markdown",
   "metadata": {},
   "source": [
    "To be able to query SOCIB API you will need first a <i>token</i> (api key).<br>To get one please visit the [API home page](http://api.socib.es/home/) and fill-in the form at bottom. An email will be sent to you with such <i>token</i>."
   ]
  },
  {
   "cell_type": "markdown",
   "metadata": {},
   "source": [
    "`Please run the next cell if you wanna have a glimpse to API home page`:"
   ]
  },
  {
   "cell_type": "code",
   "execution_count": null,
   "metadata": {
    "scrolled": true
   },
   "outputs": [],
   "source": [
    "IPython.display.HTML('<iframe src=\"http://api.socib.es/home/\"\" width=100% height=500></iframe>')"
   ]
  },
  {
   "cell_type": "markdown",
   "metadata": {},
   "source": [
    "`Please set in the next cell your api_key and run the cell below to load it in memory for later use`:"
   ]
  },
  {
   "cell_type": "code",
   "execution_count": null,
   "metadata": {},
   "outputs": [],
   "source": [
    "api_key = '' #write here the token emailed to you"
   ]
  },
  {
   "cell_type": "code",
   "execution_count": null,
   "metadata": {},
   "outputs": [],
   "source": [
    "api_url = 'http://api.socib.es'\n",
    "headers = {\n",
    "    'accept': 'application/vnd.socib+json',\n",
    "    'apikey': api_key,\n",
    "}"
   ]
  },
  {
   "cell_type": "markdown",
   "metadata": {},
   "source": [
    "<div class=\"alert alert-block alert-warning\" style=\"margin-left: 2em\">\n",
    "<b>Tip!</b>\n",
    "    \n",
    "***  \n",
    "If you do not remember your token or wanna ask for a new one please reach <i>data.center@socib.es</i> with the following `subject`: 'SOCIB API TOKEN: UPDATE/REMIND REQUEST'"
   ]
  },
  {
   "cell_type": "markdown",
   "metadata": {},
   "source": [
    "### Auxiliary functions"
   ]
  },
  {
   "cell_type": "code",
   "execution_count": null,
   "metadata": {},
   "outputs": [],
   "source": [
    "def CTD_sampling_points(feature, color, markersize, zoom, legend):\n",
    "    #coordinates\n",
    "    latitudes, longitudes = feature[0]['coordinates']['latitude']['data'],feature[0]['coordinates']['longitude']['data']\n",
    "    #bbox\n",
    "    lat_min,lat_max = min(latitudes)-zoom/2, max(latitudes)+zoom/2\n",
    "    lon_min,lon_max = min(longitudes)-zoom, max(longitudes)+zoom\n",
    "    bbox = [lon_min, lon_max, lat_min, lat_max]\n",
    "    #plot\n",
    "    fig = plt.figure(figsize=(10, 10))\n",
    "    ax = fig.add_subplot(111)\n",
    "    ax = plt.axes(projection=ccrs.Mercator())# Create Mercator projection\n",
    "    ax.set_extent(bbox, crs=ccrs.PlateCarree())\n",
    "    ocean_50m = cfeature.NaturalEarthFeature('physical', 'ocean', '50m',edgecolor='face', facecolor=cfeature.COLORS['water'])\n",
    "    ax.add_feature(ocean_50m)\n",
    "    # Create a feature for LAND at 1:10m from Natural Earth\n",
    "    land_10m = cfeature.NaturalEarthFeature('physical', 'land', '10m',edgecolor='face', facecolor=cfeature.COLORS['land'])\n",
    "    ax.add_feature(land_10m)\n",
    "    # Add the sampling points\n",
    "    for lat,lon in zip(latitudes,longitudes):# Set the map extent, making sure to specify the correct coordinate system\n",
    "        plt.plot(lon,lat,color=color, markersize=markersize, marker='o',transform=ccrs.PlateCarree(),)\n",
    "    # Add a text annotation at the bottom right corner.\n",
    "    text = AnchoredText(legend,loc=4, prop={'size': 12}, frameon=True)\n",
    "    ax.add_artist(text)\n",
    "    plt.show()"
   ]
  },
  {
   "cell_type": "code",
   "execution_count": null,
   "metadata": {},
   "outputs": [],
   "source": [
    "def CTD_profiles(feature, param_name, title, label):\n",
    "    #coordinates & variable\n",
    "    latitudes, longitudes = feature[0]['coordinates']['latitude']['data'],feature[0]['coordinates']['longitude']['data']\n",
    "    depths, times = feature[0]['coordinates']['depth']['data'],feature[0]['coordinates']['time']['data']\n",
    "    variable = [var for var in feature[0]['variables'] if var['param_name']==param_name][0]['data']\n",
    "    #setting color rules\n",
    "    cmap = plt.cm.Spectral_r\n",
    "    color_base =[var for var in variable[0] if var!=None]\n",
    "    norm = colors.Normalize(vmin=min(color_base), vmax=max(color_base))\n",
    "    #initializing the figure\n",
    "    fig = plt.figure(figsize=(10, 10))\n",
    "    ax = fig.add_subplot(111, projection='3d')\n",
    "    for a in range(0, len(times)):\n",
    "        lat, lon = latitudes[a], longitudes[a]\n",
    "        #skipping None values on profiles\n",
    "        depth_ = [(-1)*depth if depth != None else numpy.nan for depth,var in zip(depths[a],variable[a]) if var!=None]\n",
    "        var_ = [var for var in variable[a] if var!=None]\n",
    "        #ploting each profile\n",
    "        plt.scatter(lon*numpy.ones(len(depth_)), lat*numpy.ones(len(depth_)), zs=depth_, zdir='z', s=20, c=var_, edgecolor='None', cmap=cmap, norm=norm)\n",
    "    #Setting axes, title and colorbar legends\n",
    "    cbar = plt.colorbar(orientation=\"horizontal\", pad=0.02)\n",
    "    cbar.ax.set_xlabel(label)\n",
    "    ax.set_title(title, y=1.08)\n",
    "    ax.set_zlabel('depth', labelpad=20, rotation=90)\n",
    "    ax.set_ylabel('latitude', labelpad=20)\n",
    "    ax.set_xlabel('longitude', labelpad=20)"
   ]
  },
  {
   "cell_type": "code",
   "execution_count": null,
   "metadata": {},
   "outputs": [],
   "source": [
    "def CTD_animation(feature,zoom):\n",
    "    #coordinates & variable\n",
    "    latitudes, longitudes = feature[0]['coordinates']['latitude']['data'],feature[0]['coordinates']['longitude']['data']\n",
    "    times = feature[0]['coordinates']['time']['data']\n",
    "    #geojson feature\n",
    "    ctd = {'type': 'Feature','geometry': {'type': 'LineString','coordinates': []},'properties': {'times': []}}\n",
    "    lat_mean, lon_mean = numpy.mean(latitudes), numpy.mean(longitudes)\n",
    "    #populating the geojson feature\n",
    "    for time, lat, lon in zip(times, latitudes, longitudes):\n",
    "        ctd['properties']['times'].append(time)\n",
    "        ctd['geometry']['coordinates'].append([lon, lat])\n",
    "    #map initialization\n",
    "    view = folium.Map(location=[lat_mean, lon_mean], zoom_start=zoom)\n",
    "    #timedimension layer creation\n",
    "    timedimension_layer = plugins.TimestampedGeoJson({\n",
    "        'type': 'FeatureCollection',\n",
    "        'features': [ctd],\n",
    "    }, add_last_point=True, loop=False).add_to(view)\n",
    "    #recentering map\n",
    "    return view"
   ]
  },
  {
   "cell_type": "markdown",
   "metadata": {},
   "source": [
    "---"
   ]
  },
  {
   "cell_type": "markdown",
   "metadata": {},
   "source": [
    "### Subsetting a given entry/file content (data!) with SOCIB API:"
   ]
  },
  {
   "cell_type": "markdown",
   "metadata": {},
   "source": [
    "So far, the API generic query for a given entry data has been presented (see [04-entry-data.ipynb](04-entry-data.ipynb)). Nevertheless, to enable subsetting or even searching for certain entries/netCDFS the generic query might be customized by using the so called `query parameters`. <br>The `query parameters` are key/value pairs that, when added to a given generic url, filter-out the elements of the generic response returning only the matching elements. "
   ]
  },
  {
   "cell_type": "markdown",
   "metadata": {},
   "source": [
    "<div class=\"alert alert-block alert-warning\" style=\"margin-left: 2em\">\n",
    "<b>Warning!</b>\n",
    "    \n",
    "***  \n",
    "Next we will explain each of the available `query parameters` separately but, remember that you can mix all them in the same query. This is done by concatenating them with the `&` character."
   ]
  },
  {
   "cell_type": "markdown",
   "metadata": {},
   "source": [
    "Let's work with the same data as we did in the previous notebook; do you remember it?"
   ]
  },
  {
   "cell_type": "code",
   "execution_count": null,
   "metadata": {},
   "outputs": [],
   "source": [
    "entry_id = 'e8eb92a337'"
   ]
  },
  {
   "cell_type": "code",
   "execution_count": null,
   "metadata": {},
   "outputs": [],
   "source": [
    "end_point = '/entries/'+entry_id\n",
    "aux_endpoint = '/data/'\n",
    "url = '%s%s%s' % (api_url, end_point,aux_endpoint)\n",
    "entry_data_request = requests.get(url, headers=headers)\n",
    "entry_data_response = json.loads(entry_data_request.text)\n",
    "\n",
    "print('API query: '+ url)\n",
    "print('Find next its preview:')\n",
    "pandas.DataFrame.from_dict(entry_data_response)"
   ]
  },
  {
   "cell_type": "code",
   "execution_count": null,
   "metadata": {},
   "outputs": [],
   "source": [
    "CTD_sampling_points(entry_data_response, 'black',2,3,\\\n",
    "    'CTD sampling points - Garcia del Cid \\n (%s-%s)'%\\\n",
    "        (entry_data_response[0]['time_range']['initial_datetime'],\\\n",
    "            entry_data_response[0]['time_range']['end_datetime']))"
   ]
  },
  {
   "cell_type": "code",
   "execution_count": null,
   "metadata": {},
   "outputs": [],
   "source": [
    "CTD_profiles(entry_data_response,'WTR_TEM_01','Temperature profiles - Garcia del Cid','TEMP')"
   ]
  },
  {
   "cell_type": "code",
   "execution_count": null,
   "metadata": {},
   "outputs": [],
   "source": [
    "CTD_animation(entry_data_response,7)"
   ]
  },
  {
   "cell_type": "markdown",
   "metadata": {},
   "source": [
    "#### Quality Flags"
   ]
  },
  {
   "cell_type": "markdown",
   "metadata": {},
   "source": [
    "Quality control variables stablish how reliable are each of the values present in a regular variable. These quality control variables are identified with a 'QC' bigram in the end: i.e temperature (regular variable) vs temperature_QC (QC variable). Users are told to use only the data form regular variables flagged as 1 ('Good data') or 2 ('Probably good data') for studies or validation.  "
   ]
  },
  {
   "cell_type": "markdown",
   "metadata": {},
   "source": [
    "Let's imagine therefore that we are only interested in retrieveing data with a specific Quality Flag. In this case, the `max_qc_value` query parameter is to be used. Here after an example about how to use it:"
   ]
  },
  {
   "cell_type": "code",
   "execution_count": null,
   "metadata": {},
   "outputs": [],
   "source": [
    "end_point = '/entries/'+entry_id\n",
    "aux_endpoint = '/data/'\n",
    "query_parameters = 'max_qc_value=1'\n",
    "url = '%s%s%s?%s' % (api_url, end_point, aux_endpoint, query_parameters)\n",
    "entry_data_qcmax_request= requests.get(url, headers=headers)\n",
    "entry_data_qcmax_response = json.loads(entry_data_qcmax_request.text)\n",
    "\n",
    "print('API query: '+ url)\n",
    "print('Find next the preview:')\n",
    "pandas.DataFrame.from_dict(entry_data_qcmax_response)"
   ]
  },
  {
   "cell_type": "code",
   "execution_count": null,
   "metadata": {},
   "outputs": [],
   "source": [
    "CTD_profiles(entry_data_qcmax_response,'WTR_TEM_01', \\\n",
    "    'CTD sampling points  - Garcia del Cid \\n (%s-%s m depth)'%('0','-200m'),\\\n",
    "             'TEMP')"
   ]
  },
  {
   "cell_type": "markdown",
   "metadata": {},
   "source": [
    "#### Time range"
   ]
  },
  {
   "cell_type": "markdown",
   "metadata": {},
   "source": [
    "Let's imagine that our target is just the data in between certain dates and not just the whole content of the netCDF file. In this case, the `initial_datetime` and `end_datetime` query parameters are to be used. Here after an example about how to use them:"
   ]
  },
  {
   "cell_type": "code",
   "execution_count": null,
   "metadata": {},
   "outputs": [],
   "source": [
    "end_point = '/entries/'+entry_id\n",
    "aux_endpoint = '/data/'\n",
    "query_parameters = 'initial_datetime=2018-05-06T01:00:00&end_datetime=2018-05-06T23:59:59'\n",
    "url = '%s%s%s?%s' % (api_url, end_point, aux_endpoint, query_parameters)\n",
    "entry_data_time_range_request= requests.get(url, headers=headers)\n",
    "entry_data_time_range_response = json.loads(entry_data_time_range_request.text)\n",
    "\n",
    "print('API query: '+ url)\n",
    "print('Find next the preview:')\n",
    "pandas.DataFrame.from_dict(entry_data_time_range_response)"
   ]
  },
  {
   "cell_type": "markdown",
   "metadata": {},
   "source": [
    "<br> Let's `run the next cell` to better look if the feature time_range has changed:"
   ]
  },
  {
   "cell_type": "code",
   "execution_count": null,
   "metadata": {},
   "outputs": [],
   "source": [
    "time_range = entry_data_time_range_response[0]['time_range']\n",
    "pandas.DataFrame.from_dict([time_range])"
   ]
  },
  {
   "cell_type": "markdown",
   "metadata": {},
   "source": [
    "<br> Let's `run the next cells` to visualize the time range subset on the data!:"
   ]
  },
  {
   "cell_type": "code",
   "execution_count": null,
   "metadata": {},
   "outputs": [],
   "source": [
    "CTD_sampling_points(entry_data_time_range_response, 'black',2,3, \\\n",
    "    'CTD sampling points - Garcia del Cid \\n (%s-%s)'%(time_range['initial_datetime'], time_range['end_datetime']))"
   ]
  },
  {
   "cell_type": "code",
   "execution_count": null,
   "metadata": {},
   "outputs": [],
   "source": [
    "CTD_profiles(entry_data_time_range_response, 'WTR_TEM_01', \\\n",
    "    'CTD sampling points - Garcia del Cid \\n (%s-%s)'%\\\n",
    "             (time_range['initial_datetime'], time_range['end_datetime']),'TEMP')"
   ]
  },
  {
   "cell_type": "code",
   "execution_count": null,
   "metadata": {},
   "outputs": [],
   "source": [
    "CTD_animation(entry_data_time_range_response,7)"
   ]
  },
  {
   "cell_type": "markdown",
   "metadata": {},
   "source": [
    "#### Geographical bounding-box"
   ]
  },
  {
   "cell_type": "markdown",
   "metadata": {},
   "source": [
    "Let's imagine that our target is only the data within an specified area (bounding box). In this case, the `bbox` query parameter is to be used. Here after an example about how to use it:"
   ]
  },
  {
   "cell_type": "code",
   "execution_count": null,
   "metadata": {},
   "outputs": [],
   "source": [
    "end_point = '/entries/'+entry_id\n",
    "aux_endpoint = '/data/'\n",
    "query_parameters = 'bbox=38.6,38.9,3.0,3.4'#min. lat., max. lat., min. lon., max. lon\n",
    "url = '%s%s%s?%s' % (api_url, end_point, aux_endpoint, query_parameters)\n",
    "entry_data_bbox_request= requests.get(url, headers=headers)\n",
    "entry_data_bbox_response = json.loads(entry_data_bbox_request.text)\n",
    "\n",
    "print('API query: '+ url)\n",
    "print('Find next the preview:')\n",
    "pandas.DataFrame.from_dict(entry_data_bbox_response)"
   ]
  },
  {
   "cell_type": "markdown",
   "metadata": {},
   "source": [
    "<br> Let's `run the next cells` to visualize the bbox subset on the data!:"
   ]
  },
  {
   "cell_type": "code",
   "execution_count": null,
   "metadata": {},
   "outputs": [],
   "source": [
    "CTD_sampling_points(entry_data_bbox_response, 'black',2,3, \\\n",
    "    'CTD sampling points - Garcia del Cid \\n (bbox %s)'%('38.6,38.9,2.4,3.4'))"
   ]
  },
  {
   "cell_type": "code",
   "execution_count": null,
   "metadata": {},
   "outputs": [],
   "source": [
    "CTD_profiles(entry_data_bbox_response,'WTR_TEM_01', \\\n",
    "    'CTD sampling points  - Garcia del Cid \\n (bbox %s)'%('38.6,38.9,2.4,3.4'),\\\n",
    "             'TEMP')"
   ]
  },
  {
   "cell_type": "code",
   "execution_count": null,
   "metadata": {},
   "outputs": [],
   "source": [
    "CTD_animation(entry_data_bbox_response,7)"
   ]
  },
  {
   "cell_type": "markdown",
   "metadata": {},
   "source": [
    "#### Vertical range"
   ]
  },
  {
   "cell_type": "markdown",
   "metadata": {},
   "source": [
    "Let's imagine that our target is only the data in between specific depths. In this case, the `elevation_range` query parameter is to be used. Here after an example about how to use it:"
   ]
  },
  {
   "cell_type": "code",
   "execution_count": null,
   "metadata": {},
   "outputs": [],
   "source": [
    "end_point = '/entries/'+entry_id\n",
    "aux_endpoint = '/data/'\n",
    "query_parameters = 'elevation_range=-200.0,0'#min.elevation., max.elevation\n",
    "url = '%s%s%s?%s' % (api_url, end_point, aux_endpoint, query_parameters)\n",
    "entry_data_elevation_range_request= requests.get(url, headers=headers)\n",
    "entry_data_elevation_range_response = json.loads(entry_data_elevation_range_request.text)\n",
    "\n",
    "print('API query: '+ url)\n",
    "print('Find next the preview:')\n",
    "pandas.DataFrame.from_dict(entry_data_elevation_range_response)"
   ]
  },
  {
   "cell_type": "markdown",
   "metadata": {},
   "source": [
    "<br> Let's `run the next cell` to visualize the elevation range subset on the data!:"
   ]
  },
  {
   "cell_type": "code",
   "execution_count": null,
   "metadata": {},
   "outputs": [],
   "source": [
    "CTD_profiles(entry_data_elevation_range_response,'WTR_TEM_01', \\\n",
    "    'CTD sampling points  - Garcia del Cid \\n (%s-%s m depth)'%('0','-200m'),\\\n",
    "             'TEMP')"
   ]
  },
  {
   "cell_type": "markdown",
   "metadata": {},
   "source": [
    "---"
   ]
  },
  {
   "cell_type": "markdown",
   "metadata": {},
   "source": [
    "## Next tutorial"
   ]
  },
  {
   "cell_type": "markdown",
   "metadata": {},
   "source": [
    "<div class=\"alert alert-block alert-success\" style=\"margin-left: 2em\">\n",
    "<b>More!</b>\n",
    "    \n",
    "***  \n",
    "To see way more about SOCIB entries next dedicated notebooks:\n",
    "<ul>\n",
    "    <li><span><a href=\"06-entry-data-resampling.ipynb\">06-entry-data-resampling</a></span></li>\n",
    "</ul>"
   ]
  }
 ],
 "metadata": {
  "finalized": {
   "timestamp": 1575909286099,
   "trusted": true
  },
  "kernelspec": {
   "display_name": "Python 3",
   "language": "python",
   "name": "python3"
  },
  "language_info": {
   "codemirror_mode": {
    "name": "ipython",
    "version": 3
   },
   "file_extension": ".py",
   "mimetype": "text/x-python",
   "name": "python",
   "nbconvert_exporter": "python",
   "pygments_lexer": "ipython3",
   "version": "3.7.4"
  },
  "toc": {
   "base_numbering": 1,
   "nav_menu": {},
   "number_sections": true,
   "sideBar": true,
   "skip_h1_title": true,
   "title_cell": "Table of Contents",
   "title_sidebar": "Contents",
   "toc_cell": true,
   "toc_position": {},
   "toc_section_display": true,
   "toc_window_display": false
  }
 },
 "nbformat": 4,
 "nbformat_minor": 2
}
