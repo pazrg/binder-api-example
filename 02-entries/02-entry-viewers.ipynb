{
 "cells": [
  {
   "cell_type": "markdown",
   "metadata": {},
   "source": [
    "![header](http://eurogoos.eu/wp-content/uploads/SOCIB-logo.jpg)"
   ]
  },
  {
   "cell_type": "markdown",
   "metadata": {},
   "source": [
    "# SOCIB API TRAINING\n",
    "<div style=\"text-align: right\"><i> 02-Part-one-out-of-05 </i></div>"
   ]
  },
  {
   "cell_type": "markdown",
   "metadata": {},
   "source": [
    "---"
   ]
  },
  {
   "cell_type": "markdown",
   "metadata": {
    "toc": true
   },
   "source": [
    "<h1>Table of Contents<span class=\"tocSkip\"></span></h1>\n",
    "<div class=\"toc\"><ul class=\"toc-item\">\n",
    "    <li><span><a href=\"#Introduction\" data-toc-modified-id=\"Introduction-1\">\n",
    "        <span class=\"toc-item-num\">1&nbsp;&nbsp;</span>Introduction</a></span>\n",
    "    </li>\n",
    "    <li><span><a href=\"#Setup\" data-toc-modified-id=\"Setup-2\">\n",
    "        <span class=\"toc-item-num\">2&nbsp;&nbsp;</span>Setup</a></span>\n",
    "        <ul class=\"toc-item\">\n",
    "            <li>\n",
    "                <span><a href=\"#Importing-modules\" data-toc-modified-id=\"Importing-modules-2.1\">\n",
    "                    <span class=\"toc-item-num\">2.1&nbsp;&nbsp;</span>Importing modules</a></span>\n",
    "            </li>\n",
    "            <li>\n",
    "                <span><a href=\"#API-token\" data-toc-modified-id=\"API-token-2.2\">\n",
    "                    <span class=\"toc-item-num\">2.2&nbsp;&nbsp;</span>API token</a></span>\n",
    "            </li>\n",
    "        </ul>\n",
    "    <li>\n",
    "        <span><a href=\"#Available-viewers-for-SOCIB-entries/files\" data-toc-modified-id=\"Available-viewers-for-SOCIB-entries/files\"><span class=\"toc-item-num\">3&nbsp;&nbsp;</span>Available viewers for SOCIB entries/files:</a></span>\n",
    "        <ul>\n",
    "            <li><span><a href=\"#Full-list-of-viewers\" data-toc-modified-id=\"Full-list-of-viewers\"><span class=\"toc-item-num\">3.1&nbsp;&nbsp;</span>Full list of viewers</a></span></li>\n",
    "            <li><span><a href=\"#Viewers-overview\" data-toc-modified-id=\"Viewers-overview\"><span class=\"toc-item-num\">3.2&nbsp;&nbsp;</span>Viewers overview</a></span></li>\n",
    "                <ul>\n",
    "                    <li><span><a href=\"#Dapp\" data-toc-modified-id=\"Dapp\"><span class=\"toc-item-num\">3.2.1&nbsp;&nbsp;</span>Dapp</a></span></li>\n",
    "                    <li><span><a href=\"#Jwebchart\" data-toc-modified-id=\"Jwebchart\"><span class=\"toc-item-num\">3.2.2&nbsp;&nbsp;</span>Jwebchart</a></span></li>\n",
    "                    <li><span><a href=\"#lw4nc2\" data-toc-modified-id=\"lw4nc2\"><span class=\"toc-item-num\">3.2.3&nbsp;&nbsp;</span>lw4nc2</a></span></li>\n",
    "                    <li><span><a href=\"#Profiler-viewer\" data-toc-modified-id=\"Profiler-viewer\"><span class=\"toc-item-num\">3.2.4&nbsp;&nbsp;</span>Profiler viewer</a></span></li>\n",
    "                </ul>\n",
    "        </ul>\n",
    "     </li>\n",
    "    <li><span><a href=\"#Next-tutorial\" data-toc-modified-id=\"Next-tutorial\">\n",
    "        <span class=\"toc-item-num\">4&nbsp;&nbsp;</span>Next tutorial</a></span></li>\n",
    "    </ul>\n",
    "</div>"
   ]
  },
  {
   "cell_type": "markdown",
   "metadata": {},
   "source": [
    "---"
   ]
  },
  {
   "cell_type": "markdown",
   "metadata": {},
   "source": [
    "# ENTRIES"
   ]
  },
  {
   "cell_type": "markdown",
   "metadata": {},
   "source": [
    "## Introduction \n",
    "\n",
    "SOCIB API is a door users can knock-on in order to get information about the Balearic Islands Coastal Ocean Observing and Forecast System (SOCIB). SOCIB API is represented by an generic url (SOCIB API url). The elements that trigger a response when added to the generic API url are called `ENDPOINTS`.\n",
    "Among the present posibilities:\n",
    "<ul>\n",
    "    <li>measured variables (<span class=\"alert-info\">/standard-variables/</span>)</li>\n",
    "    <li>stock of instruments (<span class=\"alert-info\">/instrument-types/</span>) and platforms(<span class=\"alert-info\">/platform-types/</span>), \n",
    "</li>\n",
    "    <li>data maturity (<span class=\"alert-info\">/processing-levels/</span> and <span class=\"alert-info\">/data-modes/</span>)</li>\n",
    "    <li>kind of data (<span class=\"alert-info\">/feature-types/</span>)</li>\n",
    "    <li>data entities (<span class=\"alert-success\"><b>/entries/<b></span>, <span class=\"alert-info\">/data-sources/</span>, <span class=\"alert-info\">/instruments/</span>,<span class=\"alert-info\">/platforms/</span>, <span class=\"alert-info\">/data-products/</span>)</li>\n",
    "</ul>\n",
    "\n",
    "<br>This notebook will focus then on the <span class=\"alert-success\" style=\"\"><b>/entries/</b></span> endpoint."
   ]
  },
  {
   "cell_type": "markdown",
   "metadata": {},
   "source": [
    "---"
   ]
  },
  {
   "cell_type": "markdown",
   "metadata": {},
   "source": [
    "## Setup"
   ]
  },
  {
   "cell_type": "markdown",
   "metadata": {},
   "source": [
    "### Importing modules"
   ]
  },
  {
   "cell_type": "markdown",
   "metadata": {},
   "source": [
    "We will relly on a set of python modules to deal with SOCIB API next.<br> `Please run the next cell` so that they can be used by the present Jupyter Notebook:"
   ]
  },
  {
   "cell_type": "code",
   "execution_count": null,
   "metadata": {},
   "outputs": [],
   "source": [
    "import warnings\n",
    "warnings.filterwarnings(\"ignore\")\n",
    "\n",
    "import json\n",
    "import pandas\n",
    "import requests\n",
    "import IPython\n",
    "from json2html import *"
   ]
  },
  {
   "cell_type": "markdown",
   "metadata": {},
   "source": [
    "<div class=\"alert alert-block alert-warning\" style=\"margin-left: 2em\">\n",
    "<b>Tip!</b>\n",
    "    \n",
    "***  \n",
    "If any of them raises any error please run prior to load it and in a dedicated cell, either:<ul><li> <i>`!conda install packageName --yes`</i></li> or <li><i>`!pip install packageName --yes`</i></li></ul>"
   ]
  },
  {
   "cell_type": "markdown",
   "metadata": {},
   "source": [
    "### API token"
   ]
  },
  {
   "cell_type": "markdown",
   "metadata": {},
   "source": [
    "To be able to query SOCIB API you will need first a <i>token</i> (api key).<br>To get one please visit the [API home page](http://api.socib.es/home/) and fill-in the form at bottom. An email will be sent to you with such <i>token</i>."
   ]
  },
  {
   "cell_type": "markdown",
   "metadata": {},
   "source": [
    "`Please run the next cell if you wanna have a glimpse to API home page`:"
   ]
  },
  {
   "cell_type": "code",
   "execution_count": null,
   "metadata": {},
   "outputs": [],
   "source": [
    "IPython.display.HTML('<iframe src=\"http://api.socib.es/home/\" width=100% height=500></iframe>')"
   ]
  },
  {
   "cell_type": "markdown",
   "metadata": {},
   "source": [
    "`Please set in the next cell your api_key and run the cell below to load it in memory for later use`:"
   ]
  },
  {
   "cell_type": "code",
   "execution_count": null,
   "metadata": {},
   "outputs": [],
   "source": [
    "api_key = '' #write here the token emailed to you"
   ]
  },
  {
   "cell_type": "code",
   "execution_count": null,
   "metadata": {},
   "outputs": [],
   "source": [
    "api_url = 'http://api.socib.es'\n",
    "headers = {\n",
    "    'accept': 'application/vnd.socib+json',\n",
    "    'apikey': api_key,\n",
    "}"
   ]
  },
  {
   "cell_type": "markdown",
   "metadata": {},
   "source": [
    "<div class=\"alert alert-block alert-warning\" style=\"margin-left: 2em\">\n",
    "<b>Tip!</b>\n",
    "    \n",
    "***  \n",
    "If you do not remember your token or wanna ask for a new one please reach <i>data.center@socib.es</i> with the following `subject`: 'SOCIB API TOKEN: UPDATE/REMIND REQUEST'"
   ]
  },
  {
   "cell_type": "markdown",
   "metadata": {},
   "source": [
    "---"
   ]
  },
  {
   "cell_type": "markdown",
   "metadata": {},
   "source": [
    "## Available viewers for SOCIB entries/files"
   ]
  },
  {
   "cell_type": "markdown",
   "metadata": {},
   "source": [
    "### Full list of viewers"
   ]
  },
  {
   "cell_type": "markdown",
   "metadata": {},
   "source": [
    "In order to ease data exploration there are a number of viewers available for checking the different entries/files produced by SOCIB. There are potentially 4 viewers in total and the full list can be obtained also by querying SOCIB API as follows:"
   ]
  },
  {
   "cell_type": "code",
   "execution_count": null,
   "metadata": {},
   "outputs": [],
   "source": [
    "end_point = '/entries-data-viewers/'\n",
    "url = '%s%s' % (api_url, end_point)\n",
    "viewers_request = requests.get(url, headers=headers)\n",
    "viewers_response = json.loads(viewers_request.text)\n",
    "print('API query url for viewers: '+ url)\n",
    "pandas.DataFrame.from_dict(viewers_response)"
   ]
  },
  {
   "cell_type": "markdown",
   "metadata": {},
   "source": [
    "Nevertheless, not all 4 are always available for visualizing a given entry/file. Indeed the feature type of the entry will determine which viewers are available for it. In the next section we will see the different cases:"
   ]
  },
  {
   "cell_type": "markdown",
   "metadata": {},
   "source": [
    "### Viewers overview"
   ]
  },
  {
   "cell_type": "markdown",
   "metadata": {},
   "source": [
    "#### Dapp"
   ]
  },
  {
   "cell_type": "markdown",
   "metadata": {},
   "source": [
    "This viewer enables to visualize SOCIB fleet. Gliders, Profilers, Vessels, Drifters and Turtles are the platforms whose track is showcased in such application. For each of these platforms it possible also to access useful charts and export trajectories among other actions. Let's see how it looks!"
   ]
  },
  {
   "cell_type": "markdown",
   "metadata": {},
   "source": [
    "Supose we wanna check a drifter track:"
   ]
  },
  {
   "cell_type": "code",
   "execution_count": null,
   "metadata": {},
   "outputs": [],
   "source": [
    "end_point = '/entries/?instrument_type=Surface drifter'\n",
    "url = '%s%s' % (api_url, end_point)\n",
    "entries_request = requests.get(url, headers=headers)\n",
    "entries_response = json.loads(entries_request.text)\n",
    "print('API query url: '+ url)\n",
    "print('Dapp viewer url for the first entry/file on list: ' + entries_response['results'][0]['viewers']['dapp']['url'])"
   ]
  },
  {
   "cell_type": "markdown",
   "metadata": {},
   "source": [
    "Let's check the above dapp-url in a iframe:"
   ]
  },
  {
   "cell_type": "code",
   "execution_count": null,
   "metadata": {},
   "outputs": [],
   "source": [
    "entry_dapp_url =  entries_response['results'][0]['viewers']['dapp']['url']\n",
    "IPython.display.HTML('<iframe src=\"'+entry_dapp_url+'\" width=100% height=500></iframe>')"
   ]
  },
  {
   "cell_type": "markdown",
   "metadata": {},
   "source": [
    "<div class=\"alert alert-block alert-warning\" style=\"margin-left: 4em\">\n",
    "<b>Tip!</b>\n",
    "    \n",
    "***  \n",
    "Scroll-right to see all available actions (i.e data charts display, track exportation etc) for the trajectory on display."
   ]
  },
  {
   "cell_type": "markdown",
   "metadata": {},
   "source": [
    "#### jwebchart"
   ]
  },
  {
   "cell_type": "markdown",
   "metadata": {},
   "source": [
    "This viewer enables to visualize Time Series like data; that is dircreete observations reported over time at specific depth and location (lat/lon) by an instrument anchored on a fixed-platform (i.e ocenographic buoys, weather stations etc). Let's see how it looks!"
   ]
  },
  {
   "cell_type": "markdown",
   "metadata": {},
   "source": [
    "Querying for time series...."
   ]
  },
  {
   "cell_type": "code",
   "execution_count": null,
   "metadata": {},
   "outputs": [],
   "source": [
    "end_point = '/entries/?feature_type=timeSeries'\n",
    "url = '%s%s' % (api_url, end_point)\n",
    "entries_request = requests.get(url, headers=headers)\n",
    "entries_response = json.loads(entries_request.text)\n",
    "print('API query url: '+ url)\n",
    "print('Jwebchart viewer url for the first entry/file on list: ' + entries_response['results'][0]['viewers']['jwebchart']['url'])"
   ]
  },
  {
   "cell_type": "markdown",
   "metadata": {},
   "source": [
    "Let's check the above jwebchart-url in a iframe:"
   ]
  },
  {
   "cell_type": "code",
   "execution_count": null,
   "metadata": {},
   "outputs": [],
   "source": [
    "entry_jwebchart_url =  entries_response['results'][0]['viewers']['jwebchart']['url']\n",
    "IPython.display.HTML('<iframe src=\"'+entry_jwebchart_url+'\" width=100% height=500></iframe>')"
   ]
  },
  {
   "cell_type": "markdown",
   "metadata": {},
   "source": [
    "<div class=\"alert alert-block alert-warning\" style=\"margin-left: 4em\">\n",
    "<b>Tip!</b>\n",
    "    \n",
    "***  \n",
    "Click on a specific parameter to display its evolution over time."
   ]
  },
  {
   "cell_type": "markdown",
   "metadata": {},
   "source": [
    "#### lw4nc2"
   ]
  },
  {
   "cell_type": "markdown",
   "metadata": {},
   "source": [
    "This viewer enables to visualize Gridded data, like the High Frequency radar observations. It enables also to get the information on a point, get transect-like plots, reset defaulting color scales/styles etc. Let's see how it looks!"
   ]
  },
  {
   "cell_type": "markdown",
   "metadata": {},
   "source": [
    "Querying for gridded data...."
   ]
  },
  {
   "cell_type": "code",
   "execution_count": null,
   "metadata": {},
   "outputs": [],
   "source": [
    "end_point = '/entries/?feature_type=grid'\n",
    "url = '%s%s' % (api_url, end_point)\n",
    "entries_request = requests.get(url, headers=headers)\n",
    "entries_response = json.loads(entries_request.text)\n",
    "print('API query url: '+ url)\n",
    "print('lw4nc2 viewer url for the first entry/file on list: ' + entries_response['results'][0]['viewers']['lw4nc2']['url'])"
   ]
  },
  {
   "cell_type": "markdown",
   "metadata": {},
   "source": [
    "Let's check the above lw4nc2-url in a iframe:"
   ]
  },
  {
   "cell_type": "code",
   "execution_count": null,
   "metadata": {},
   "outputs": [],
   "source": [
    "entry_lw4nc2_url =  entries_response['results'][0]['viewers']['lw4nc2']['url']\n",
    "IPython.display.HTML('<iframe src=\"'+entry_lw4nc2_url+'\" width=100% height=500></iframe>')"
   ]
  },
  {
   "cell_type": "markdown",
   "metadata": {},
   "source": [
    "<div class=\"alert alert-block alert-warning\" style=\"margin-left: 4em\">\n",
    "<b>Tip!</b>\n",
    "    \n",
    "***  \n",
    "Click on a specific parameter to display its field on the map."
   ]
  },
  {
   "cell_type": "markdown",
   "metadata": {},
   "source": [
    "#### Profiler viewer"
   ]
  },
  {
   "cell_type": "markdown",
   "metadata": {},
   "source": [
    "This viewer enables to visualize trajectory-profile like data, like the one reported by gliders, profilers and Vessel CTD casts. Let's see how it looks!"
   ]
  },
  {
   "cell_type": "markdown",
   "metadata": {},
   "source": [
    "Querying for trajectory-profile like data...."
   ]
  },
  {
   "cell_type": "code",
   "execution_count": null,
   "metadata": {},
   "outputs": [],
   "source": [
    "end_point = '/entries/?feature_type=trajectoryProfileIrregular'\n",
    "url = '%s%s' % (api_url, end_point)\n",
    "entries_request = requests.get(url, headers=headers)\n",
    "entries_response = json.loads(entries_request.text)\n",
    "\n",
    "print('API query url: '+ url)\n",
    "print('profiler viewer url for the first entry/file on list: ' + entries_response['results'][0]['viewers']['socib_profiles_viewer']['url'])"
   ]
  },
  {
   "cell_type": "markdown",
   "metadata": {},
   "source": [
    "Let's check the above lw4nc2-url in a iframe:"
   ]
  },
  {
   "cell_type": "code",
   "execution_count": null,
   "metadata": {},
   "outputs": [],
   "source": [
    "entry_profile_viewer_url =  entries_response['results'][0]['viewers']['socib_profiles_viewer']['url']\n",
    "IPython.display.HTML('<iframe src=\"'+entry_profile_viewer_url+'\" width=100% height=500></iframe>')"
   ]
  },
  {
   "cell_type": "markdown",
   "metadata": {},
   "source": [
    "---"
   ]
  },
  {
   "cell_type": "markdown",
   "metadata": {},
   "source": [
    "## Next tutorial"
   ]
  },
  {
   "cell_type": "markdown",
   "metadata": {},
   "source": [
    "<div class=\"alert alert-block alert-success\" style=\"margin-left: 2em\">\n",
    "<b>More!</b>\n",
    "    \n",
    "***  \n",
    "To see way more about SOCIB entries next dedicated notebooks:\n",
    "<ul>\n",
    "    <li><span><a href=\"03-entry-services.ipynb\">03-entry-services</a></span></li>\n",
    "    <li><span><a href=\"04-entry-data.ipynb\">04-entry-data</a></span></li>\n",
    "    <li><span><a href=\"05-entry-data-subsetting.ipynb\">05-entry-data-subsetting</a></span></li>\n",
    "</ul>"
   ]
  }
 ],
 "metadata": {
  "finalized": {
   "timestamp": 1575909286099,
   "trusted": true
  },
  "kernelspec": {
   "display_name": "Python 3",
   "language": "python",
   "name": "python3"
  },
  "language_info": {
   "codemirror_mode": {
    "name": "ipython",
    "version": 3
   },
   "file_extension": ".py",
   "mimetype": "text/x-python",
   "name": "python",
   "nbconvert_exporter": "python",
   "pygments_lexer": "ipython3",
   "version": "3.7.4"
  },
  "toc": {
   "base_numbering": 1,
   "nav_menu": {},
   "number_sections": true,
   "sideBar": true,
   "skip_h1_title": true,
   "title_cell": "Table of Contents",
   "title_sidebar": "Contents",
   "toc_cell": true,
   "toc_position": {},
   "toc_section_display": true,
   "toc_window_display": false
  }
 },
 "nbformat": 4,
 "nbformat_minor": 2
}
