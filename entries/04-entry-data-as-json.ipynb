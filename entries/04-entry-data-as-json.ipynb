{
 "cells": [
  {
   "cell_type": "markdown",
   "metadata": {},
   "source": [
    "![header](http://eurogoos.eu/wp-content/uploads/SOCIB-logo.jpg)"
   ]
  },
  {
   "cell_type": "markdown",
   "metadata": {},
   "source": [
    "# SOCIB API TRAINING\n",
    "<div style=\"text-align: right\"><i> 04-Part-one-out-of-04 </i></div>"
   ]
  },
  {
   "cell_type": "markdown",
   "metadata": {},
   "source": [
    "---"
   ]
  },
  {
   "cell_type": "markdown",
   "metadata": {
    "toc": true
   },
   "source": [
    "<h1>Table of Contents<span class=\"tocSkip\"></span></h1>\n",
    "<div class=\"toc\"><ul class=\"toc-item\">\n",
    "    <li><span><a href=\"#Introduction\" data-toc-modified-id=\"Introduction-1\">\n",
    "        <span class=\"toc-item-num\">1&nbsp;&nbsp;</span>Introduction</a></span>\n",
    "    </li>\n",
    "    <li><span><a href=\"#Setup\" data-toc-modified-id=\"Setup-2\">\n",
    "        <span class=\"toc-item-num\">2&nbsp;&nbsp;</span>Setup</a></span>\n",
    "        <ul class=\"toc-item\">\n",
    "            <li>\n",
    "                <span><a href=\"#Importing-modules\" data-toc-modified-id=\"Importing-modules-2.1\">\n",
    "                    <span class=\"toc-item-num\">2.1&nbsp;&nbsp;</span>Importing modules</a></span>\n",
    "            </li>\n",
    "            <li>\n",
    "                <span><a href=\"#API-token\" data-toc-modified-id=\"API-token-2.2\">\n",
    "                    <span class=\"toc-item-num\">2.2&nbsp;&nbsp;</span>API token</a></span>\n",
    "            </li>\n",
    "        </ul>\n",
    "    <li>\n",
    "        <span><a href=\"#Entry-data-as-json\" data-toc-modified-id=\"Entry-data-as-json\"><span class=\"toc-item-num\">3&nbsp;&nbsp;</span>Entry data as json:</a></span>\n",
    "        <!--<ul>\n",
    "            <li><span><a href=\"#Generic-query\" data-toc-modified-id=\"Generic-query\"><span class=\"toc-item-num\">3.1&nbsp;&nbsp;</span>Generic query</a></span></li>\n",
    "            <li><span><a href=\"#Custom-query\" data-toc-modified-id=\"Custom-query\"><span class=\"toc-item-num\">3.2&nbsp;&nbsp;</span>Custom query</a></span></li>\n",
    "            <ul>\n",
    "            <li><span><a href=\"#Subsetting-operations\" data-toc-modified-id=\"Subsetting-operations\"><span class=\"toc-item-num\">3.2.1&nbsp;&nbsp;</span>Subsetting operations</a></span></li>\n",
    "            <li><span><a href=\"#Resampling-operations\" data-toc-modified-id=\"Resampling-operatios\"><span class=\"toc-item-num\">3.2.2&nbsp;&nbsp;</span>Resampling operations</a></span></li>\n",
    "            </ul>-->\n",
    "        </ul>\n",
    "     </li>\n",
    "    </ul>\n",
    "</div>"
   ]
  },
  {
   "cell_type": "markdown",
   "metadata": {},
   "source": [
    "---"
   ]
  },
  {
   "cell_type": "markdown",
   "metadata": {},
   "source": [
    "# ENTRIES"
   ]
  },
  {
   "cell_type": "markdown",
   "metadata": {},
   "source": [
    "## Introduction \n",
    "\n",
    "SOCIB API is a door users can knock-on in order to get information about the Balearic Islands Coastal Ocean Observing and Forecast System (SOCIB). SOCIB API is represented by an generic url (SOCIB API url). The elements that trigger a response when added to the generic API url are called `ENDPOINTS`.\n",
    "Among the present posibilities:\n",
    "<ul>\n",
    "    <li>measured variables (<span class=\"alert-info\">/standard-variables/</span>)</li>\n",
    "    <li>stock of instruments (<span class=\"alert-info\">/instrument-types/</span>) and platforms(<span class=\"alert-info\">/platform-types/</span>), \n",
    "</li>\n",
    "    <li>data maturity (<span class=\"alert-info\">/processing-levels/</span> and <span class=\"alert-info\">/data-modes/</span>)</li>\n",
    "    <li>kind of data (<span class=\"alert-info\">/feature-types/</span>)</li>\n",
    "    <li>data entities (<span class=\"alert-success\"><b>/entries/<b></span>, <span class=\"alert-info\">/data-sources/</span>, <span class=\"alert-info\">/platforms/</span>, <span class=\"alert-info\">/data-products/</span>)\n",
    "    </li>\n",
    "\n",
    "</ul>\n",
    "\n",
    "<br>This notebook will focus then on the <span class=\"alert-success\" style=\"\"><b>/entries/</b></span> endpoint."
   ]
  },
  {
   "cell_type": "markdown",
   "metadata": {},
   "source": [
    "---"
   ]
  },
  {
   "cell_type": "markdown",
   "metadata": {},
   "source": [
    "## Setup"
   ]
  },
  {
   "cell_type": "markdown",
   "metadata": {},
   "source": [
    "### Importing modules"
   ]
  },
  {
   "cell_type": "markdown",
   "metadata": {},
   "source": [
    "We will relly on a set of python modules to deal with SOCIB API next.<br> `Please run the next cell` so that they can be used by the present Jupyter Notebook:"
   ]
  },
  {
   "cell_type": "code",
   "execution_count": null,
   "metadata": {},
   "outputs": [],
   "source": [
    "import warnings\n",
    "warnings.filterwarnings(\"ignore\")\n",
    "\n",
    "import datetime\n",
    "import json\n",
    "import requests\n",
    "import IPython\n",
    "import pandas\n",
    "from json2html import *\n",
    "%matplotlib inline"
   ]
  },
  {
   "cell_type": "markdown",
   "metadata": {},
   "source": [
    "<div class=\"alert alert-block alert-warning\" style=\"margin-left: 2em\">\n",
    "<b>Tip!</b>\n",
    "    \n",
    "***  \n",
    "If any of them raises any error please run prior to load it and in a dedicated cell, either:<ul><li> <i>`!conda install packageName --yes`</i></li> or <li><i>`!pip install packageName --yes`</i></li></ul>"
   ]
  },
  {
   "cell_type": "markdown",
   "metadata": {},
   "source": [
    "### API token"
   ]
  },
  {
   "cell_type": "markdown",
   "metadata": {},
   "source": [
    "To be able to query SOCIB API you will need first a <i>token</i> (api key).<br>To get one please visit the [API home page](http://api.socib.es/home/) and fill-in the form at bottom. An email will be sent to you with such <i>token</i>."
   ]
  },
  {
   "cell_type": "markdown",
   "metadata": {},
   "source": [
    "`Please run the next cell if you wanna have a glimpse to API home page`:"
   ]
  },
  {
   "cell_type": "code",
   "execution_count": null,
   "metadata": {},
   "outputs": [],
   "source": [
    "IPython.display.HTML('<iframe src=\"http://api.socib.es/home/\" width=100% height=500></iframe>')"
   ]
  },
  {
   "cell_type": "markdown",
   "metadata": {},
   "source": [
    "`Please set in the next cell your api_key and run the cell below to load it in memory for later use`:"
   ]
  },
  {
   "cell_type": "code",
   "execution_count": null,
   "metadata": {},
   "outputs": [],
   "source": [
    "api_key = '' #write here the token emailed to you"
   ]
  },
  {
   "cell_type": "code",
   "execution_count": null,
   "metadata": {},
   "outputs": [],
   "source": [
    "api_url = 'http://api.socib.es'\n",
    "headers = {\n",
    "    'accept': 'application/vnd.socib+json',\n",
    "    'apikey': api_key,\n",
    "}"
   ]
  },
  {
   "cell_type": "markdown",
   "metadata": {},
   "source": [
    "<div class=\"alert alert-block alert-warning\" style=\"margin-left: 2em\">\n",
    "<b>Tip!</b>\n",
    "    \n",
    "***  \n",
    "If you do not remember your token or wanna ask for a new one please reach <i>data.center@socib.es</i> with the following `subject`: 'SOCIB API TOKEN: UPDATE/REMIND REQUEST'"
   ]
  },
  {
   "cell_type": "markdown",
   "metadata": {},
   "source": [
    "---"
   ]
  },
  {
   "cell_type": "markdown",
   "metadata": {},
   "source": [
    "## Entry data as json"
   ]
  },
  {
   "cell_type": "markdown",
   "metadata": {},
   "source": [
    "As we akready saw in [Getting Started]('../01-GettingStarted.ipynb'), the basic metocean entity are netCDF files, as this is the chosen format to store and distribute the data reported by instrument & platforms enssembles. Also, we have already seen on [03-entry-services]('../03-entry-services.ipynb') that SOCIB provides a set of services for users to download and access such entries/files. i.e: <i>CTD data form the vessel \"Garcia del Cid\"</i>"
   ]
  },
  {
   "cell_type": "code",
   "execution_count": null,
   "metadata": {},
   "outputs": [],
   "source": [
    "end_point = '/entries/'\n",
    "query_parameters = '?platform_type=Oceanographic Buoy'\n",
    "url = '%s%s%s' % (api_url, end_point, query_parameters)\n",
    "entries_request = requests.get(url, headers=headers)\n",
    "entries_response = json.loads(entries_request.text)\n",
    "\n",
    "print('API query url: '+ url)\n",
    "print('Services for the first entry/file on list (id=%s) :'%(entries_response['results'][2]['id']))\n",
    "IPython.display.HTML(json2html.convert(json=entries_response['results'][0]))"
   ]
  },
  {
   "cell_type": "markdown",
   "metadata": {},
   "source": [
    "Nevertheless, all these services pivot around a certain file format: the netCDF. The netCDF format is widely used and known among the MetOcena community but not so much beyond. Do I have to master in reading netCDF files and other possible formats to finally retrieve the observations they are stoing?. <br>\n",
    "SOCIB API acts as a layer of abstraction between users and the underlying file format storing the observations trough the  `/data/` auxiliary endpoint. Let's se how it works!"
   ]
  },
  {
   "cell_type": "markdown",
   "metadata": {},
   "source": [
    "Let's request on day of data from one of the above variable in the entry/file using the auxiliary endpoint:"
   ]
  },
  {
   "cell_type": "code",
   "execution_count": null,
   "metadata": {},
   "outputs": [],
   "source": [
    "ini = entries_response['results'][0]['initial_datetime']\n",
    "ini"
   ]
  },
  {
   "cell_type": "code",
   "execution_count": null,
   "metadata": {},
   "outputs": [],
   "source": [
    "end = datetime.datetime.strftime(datetime.datetime.strptime(entries_response['results'][0]['initial_datetime'], '%Y-%m-%dT%H:%M:%SZ') + datetime.timedelta(days=1),'%Y-%m-%dT%H:%M:%SZ')\n",
    "end"
   ]
  },
  {
   "cell_type": "code",
   "execution_count": null,
   "metadata": {},
   "outputs": [],
   "source": [
    "var = 'sea_water_temperature'"
   ]
  },
  {
   "cell_type": "code",
   "execution_count": null,
   "metadata": {
    "scrolled": false
   },
   "outputs": [],
   "source": [
    "entry_id = entries_response['results'][0]['id']\n",
    "endpoint = '/entries/'\n",
    "aux_endpoint = '/data/'\n",
    "query_parameters = '?standard_variable=%s&initial_datetime=%s&end_datetime=%s'%(var,ini,end)\n",
    "url = '%s%s%s%s%s' % (api_url, end_point, entry_id, aux_endpoint, query_parameters)\n",
    "entry_request = requests.get(url, headers=headers)\n",
    "entry_response = json.loads(entry_request.text)\n",
    "\n",
    "print('API query url: '+ url)\n",
    "print('Data of the entry above (id=%s): '%(entry_id))\n",
    "IPython.display.HTML(json2html.convert(json=entry_response))"
   ]
  },
  {
   "cell_type": "markdown",
   "metadata": {},
   "source": [
    "---"
   ]
  },
  {
   "cell_type": "markdown",
   "metadata": {},
   "source": [
    "## Next tutorial"
   ]
  },
  {
   "cell_type": "markdown",
   "metadata": {},
   "source": [
    "<div class=\"alert alert-block alert-success\" style=\"margin-left: 2em\">\n",
    "<b>More!</b>\n",
    "    \n",
    "***  \n",
    "To see way more about SOCIB API, check next the `data-sources` dedicated notebooks:\n",
    "<ul>\n",
    "    <li><span><a href=\"../data-sources/01-data-source-details.ipynb\">01-data-source-details</a></span></li>\n",
    "    <li><span><a href=\"../data-sources/02-data-source-search.ipynb\">02-data-source-search</a></span></li>\n",
    "    <li><span><a href=\"../data-sources/03-data-source-composing-entries.ipynb\">03-data-source-composing-entries</a></span></li>\n",
    "    <li><span><a href=\"../data-sources/04-data-source-data-as-json.ipynb\">04-data-source-data-as-json</a></span></li>\n",
    "</ul>"
   ]
  }
 ],
 "metadata": {
  "finalized": {
   "timestamp": 1575909286099,
   "trusted": true
  },
  "kernelspec": {
   "display_name": "Python 3",
   "language": "python",
   "name": "python3"
  },
  "language_info": {
   "codemirror_mode": {
    "name": "ipython",
    "version": 3
   },
   "file_extension": ".py",
   "mimetype": "text/x-python",
   "name": "python",
   "nbconvert_exporter": "python",
   "pygments_lexer": "ipython3",
   "version": "3.7.3"
  },
  "toc": {
   "base_numbering": 1,
   "nav_menu": {},
   "number_sections": true,
   "sideBar": true,
   "skip_h1_title": true,
   "title_cell": "Table of Contents",
   "title_sidebar": "Contents",
   "toc_cell": true,
   "toc_position": {},
   "toc_section_display": true,
   "toc_window_display": false
  }
 },
 "nbformat": 4,
 "nbformat_minor": 2
}
