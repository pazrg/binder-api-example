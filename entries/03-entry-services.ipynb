{
 "cells": [
  {
   "cell_type": "markdown",
   "metadata": {},
   "source": [
    "![header](http://eurogoos.eu/wp-content/uploads/SOCIB-logo.jpg)"
   ]
  },
  {
   "cell_type": "markdown",
   "metadata": {},
   "source": [
    "# SOCIB API TRAINING\n",
    "<div style=\"text-align: right\"><i> 03-Part-one-out-of-04 </i></div>"
   ]
  },
  {
   "cell_type": "markdown",
   "metadata": {},
   "source": [
    "---"
   ]
  },
  {
   "cell_type": "markdown",
   "metadata": {
    "toc": true
   },
   "source": [
    "<h1>Table of Contents<span class=\"tocSkip\"></span></h1>\n",
    "<div class=\"toc\"><ul class=\"toc-item\">\n",
    "    <li><span><a href=\"#Introduction\" data-toc-modified-id=\"Introduction-1\">\n",
    "        <span class=\"toc-item-num\">1&nbsp;&nbsp;</span>Introduction</a></span>\n",
    "    </li>\n",
    "    <li><span><a href=\"#Setup\" data-toc-modified-id=\"Setup-2\">\n",
    "        <span class=\"toc-item-num\">2&nbsp;&nbsp;</span>Setup</a></span>\n",
    "        <ul class=\"toc-item\">\n",
    "            <li>\n",
    "                <span><a href=\"#Importing-modules\" data-toc-modified-id=\"Importing-modules-2.1\">\n",
    "                    <span class=\"toc-item-num\">2.1&nbsp;&nbsp;</span>Importing modules</a></span>\n",
    "            </li>\n",
    "            <li>\n",
    "                <span><a href=\"#API-token\" data-toc-modified-id=\"API-token-2.2\">\n",
    "                    <span class=\"toc-item-num\">2.2&nbsp;&nbsp;</span>API token</a></span>\n",
    "            </li>\n",
    "        </ul>\n",
    "    <li>\n",
    "        <span><a href=\"#Available-services-for-SOCIB-entries/files\" data-toc-modified-id=\"Available-services-for-SOCIB-entries/files\"><span class=\"toc-item-num\">3&nbsp;&nbsp;</span>Available services for SOCIB entries/files:</a></span>\n",
    "        <ul>\n",
    "            <li><span><a href=\"#Full-list-of-services\" data-toc-modified-id=\"Full-list-of-services\"><span class=\"toc-item-num\">3.1&nbsp;&nbsp;</span>Full list of services</a></span></li>\n",
    "            <li><span><a href=\"#Services-overview\" data-toc-modified-id=\"Services-overview\"><span class=\"toc-item-num\">3.2&nbsp;&nbsp;</span>Services overview</a></span></li>\n",
    "                <ul>\n",
    "                    <li><span><a href=\"#Dapp\" data-toc-modified-id=\"Dapp\"><span class=\"toc-item-num\">3.2.1&nbsp;&nbsp;</span>Dapp</a></span></li>\n",
    "                    <li><span><a href=\"#Jwebchart\" data-toc-modified-id=\"Jwebchart\"><span class=\"toc-item-num\">3.2.2&nbsp;&nbsp;</span>Jwebchart</a></span></li>\n",
    "                    <li><span><a href=\"#lw4nc2\" data-toc-modified-id=\"lw4nc2\"><span class=\"toc-item-num\">3.2.3&nbsp;&nbsp;</span>lw4nc2</a></span></li>\n",
    "                    <li><span><a href=\"#Profiler-viewer\" data-toc-modified-id=\"Profiler-viewer\"><span class=\"toc-item-num\">3.2.4&nbsp;&nbsp;</span>Profiler viewer</a></span></li>\n",
    "                </ul>\n",
    "        </ul>\n",
    "     </li>\n",
    "    </ul>\n",
    "</div>"
   ]
  },
  {
   "cell_type": "markdown",
   "metadata": {},
   "source": [
    "---"
   ]
  },
  {
   "cell_type": "markdown",
   "metadata": {},
   "source": [
    "# ENTRIES"
   ]
  },
  {
   "cell_type": "markdown",
   "metadata": {},
   "source": [
    "## Introduction \n",
    "\n",
    "SOCIB API is a door users can knock-on in order to get information about the Balearic Islands Coastal Ocean Observing and Forecast System (SOCIB). SOCIB API is represented by an generic url (SOCIB API url). The elements that trigger a response when added to the generic API url are called `ENDPOINTS`.\n",
    "Among the present posibilities:\n",
    "<ul>\n",
    "    <li>measured variables (<span class=\"alert-info\">/standard-variables/</span>)</li>\n",
    "    <li>stock of instruments (<span class=\"alert-info\">/instrument-types/</span>) and platforms(<span class=\"alert-info\">/platform-types/</span>), \n",
    "</li>\n",
    "    <li>data maturity (<span class=\"alert-info\">/processing-levels/</span> and <span class=\"alert-info\">/data-modes/</span>)</li>\n",
    "    <li>kind of data (<span class=\"alert-info\">/feature-types/</span>)</li>\n",
    "    <li>data entities (<span class=\"alert-success\"><b>/entries/<b></span>, <span class=\"alert-info\">/data-sources/</span>, <span class=\"alert-info\">/platforms/</span>, <span class=\"alert-info\">/data-products/</span>)\n",
    "    </li>\n",
    "\n",
    "</ul>\n",
    "\n",
    "<br>This notebook will focus then on the <span class=\"alert-success\" style=\"\"><b>/entries/</b></span> endpoint."
   ]
  },
  {
   "cell_type": "markdown",
   "metadata": {},
   "source": [
    "---"
   ]
  },
  {
   "cell_type": "markdown",
   "metadata": {},
   "source": [
    "## Setup"
   ]
  },
  {
   "cell_type": "markdown",
   "metadata": {},
   "source": [
    "### Importing modules"
   ]
  },
  {
   "cell_type": "markdown",
   "metadata": {},
   "source": [
    "We will relly on a set of python modules to deal with SOCIB API next.<br> `Please run the next cell` so that they can be used by the present Jupyter Notebook:"
   ]
  },
  {
   "cell_type": "code",
   "execution_count": null,
   "metadata": {},
   "outputs": [],
   "source": [
    "import warnings\n",
    "warnings.filterwarnings(\"ignore\")\n",
    "\n",
    "import folium\n",
    "from folium import plugins\n",
    "from owslib.wms import WebMapService\n",
    "import xmltodict\n",
    "import os\n",
    "import urllib\n",
    "import xarray\n",
    "import json\n",
    "import requests\n",
    "import IPython\n",
    "%matplotlib inline"
   ]
  },
  {
   "cell_type": "markdown",
   "metadata": {},
   "source": [
    "<div class=\"alert alert-block alert-warning\" style=\"margin-left: 2em\">\n",
    "<b>Tip!</b>\n",
    "    \n",
    "***  \n",
    "If any of them raises any error please run prior to load it and in a dedicated cell, either:<ul><li> <i>`!conda install packageName --yes`</i></li> or <li><i>`!pip install packageName --yes`</i></li></ul>"
   ]
  },
  {
   "cell_type": "markdown",
   "metadata": {},
   "source": [
    "### API token"
   ]
  },
  {
   "cell_type": "markdown",
   "metadata": {},
   "source": [
    "To be able to query SOCIB API you will need first a <i>token</i> (api key).<br>To get one please visit the [API home page](http://api.socib.es/home/) and fill-in the form at bottom. An email will be sent to you with such <i>token</i>."
   ]
  },
  {
   "cell_type": "markdown",
   "metadata": {},
   "source": [
    "`Please run the next cell if you wanna have a glimpse to API home page`:"
   ]
  },
  {
   "cell_type": "code",
   "execution_count": null,
   "metadata": {},
   "outputs": [],
   "source": [
    "IPython.display.HTML('<iframe src=\"http://api.socib.es/home/\" width=100% height=500></iframe>')"
   ]
  },
  {
   "cell_type": "markdown",
   "metadata": {},
   "source": [
    "`Please set in the next cell your api_key and run the cell below to load it in memory for later use`:"
   ]
  },
  {
   "cell_type": "code",
   "execution_count": null,
   "metadata": {},
   "outputs": [],
   "source": [
    "api_key = '' #write here the token emailed to you"
   ]
  },
  {
   "cell_type": "code",
   "execution_count": null,
   "metadata": {},
   "outputs": [],
   "source": [
    "api_url = 'http://api.socib.es'\n",
    "headers = {\n",
    "    'accept': 'application/vnd.socib+json',\n",
    "    'apikey': api_key,\n",
    "}"
   ]
  },
  {
   "cell_type": "markdown",
   "metadata": {},
   "source": [
    "<div class=\"alert alert-block alert-warning\" style=\"margin-left: 2em\">\n",
    "<b>Tip!</b>\n",
    "    \n",
    "***  \n",
    "If you do not remember your token or wanna ask for a new one please reach <i>data.center@socib.es</i> with the following `subject`: 'SOCIB API TOKEN: UPDATE/REMIND REQUEST'"
   ]
  },
  {
   "cell_type": "markdown",
   "metadata": {},
   "source": [
    "---"
   ]
  },
  {
   "cell_type": "markdown",
   "metadata": {},
   "source": [
    "## Available services for SOCIB entries/files"
   ]
  },
  {
   "cell_type": "markdown",
   "metadata": {},
   "source": [
    "### Full list of services"
   ]
  },
  {
   "cell_type": "markdown",
   "metadata": {},
   "source": [
    "In order to ease data exploration there are a number of services available for remote-access or download the different entries/files produced by SOCIB. There are potentially 4 services in total and the full list can be obtained also by querying SOCIB API as follows:"
   ]
  },
  {
   "cell_type": "code",
   "execution_count": null,
   "metadata": {},
   "outputs": [],
   "source": [
    "end_point = '/entries-data-services/'\n",
    "url = '%s%s' % (api_url, end_point)\n",
    "viewers_request = requests.get(url, headers=headers)\n",
    "viewers_response = json.loads(viewers_request.text)\n",
    "print('API query url for viewers: '+ url)\n",
    "pandas.DataFrame.from_dict(viewers_response)"
   ]
  },
  {
   "cell_type": "markdown",
   "metadata": {},
   "source": [
    "Nevertheless, not all 4 are always available for a given entry/file. Typically the first 3 services are guaranteed for every entry/file whereas the fourth applies only in case of gridded data. In the next section we will see the different cases:"
   ]
  },
  {
   "cell_type": "markdown",
   "metadata": {},
   "source": [
    "### Services overview"
   ]
  },
  {
   "cell_type": "markdown",
   "metadata": {},
   "source": [
    "#### Http_file"
   ]
  },
  {
   "cell_type": "markdown",
   "metadata": {},
   "source": [
    "This service enables the download of files. It is the basic service provided for entries/files produced and it is basically an url that via HTTP request trigger the download of the file. Try it out!"
   ]
  },
  {
   "cell_type": "markdown",
   "metadata": {},
   "source": [
    "Supose we wanna download data time serie data:"
   ]
  },
  {
   "cell_type": "code",
   "execution_count": null,
   "metadata": {},
   "outputs": [],
   "source": [
    "end_point = '/entries/?feature_type=timeSeries'\n",
    "url = '%s%s' % (api_url, end_point)\n",
    "entries_request = requests.get(url, headers=headers)\n",
    "entries_response = json.loads(entries_request.text)\n",
    "print('API query url: '+ url)\n",
    "print('Http_file service url for the first entry/file on list: ' + entries_response['results'][0]['services']['http_file']['url'])"
   ]
  },
  {
   "cell_type": "markdown",
   "metadata": {},
   "source": [
    "Click on the above url to perform the download manually or just run the code below for doing it programatically:"
   ]
  },
  {
   "cell_type": "code",
   "execution_count": null,
   "metadata": {},
   "outputs": [],
   "source": [
    "out_put_dir = os.getcwd() #Set the autput dir path. By default: current working directory"
   ]
  },
  {
   "cell_type": "code",
   "execution_count": null,
   "metadata": {},
   "outputs": [],
   "source": [
    "entry_http_file_url =  entries_response['results'][0]['services']['http_file']['url']\n",
    "filename = entry_http_file_url.split('/')[-1]\n",
    "filePath = os.path.join(out_put_dir,filename)\n",
    "urllib.request.urlretrieve(entry_http_file_url, filePath)"
   ]
  },
  {
   "cell_type": "markdown",
   "metadata": {},
   "source": [
    "<div class=\"alert alert-block alert-warning\" style=\"margin-left: 4em\">\n",
    "<b>Tip!</b>\n",
    "    \n",
    "***  \n",
    "Check the output directory to see the file downloaded."
   ]
  },
  {
   "cell_type": "markdown",
   "metadata": {},
   "source": [
    "#### opendap"
   ]
  },
  {
   "cell_type": "markdown",
   "metadata": {},
   "source": [
    "Opendap service allows users to access/explore files hosted in remore servers.\n",
    "Let's see how to use it!"
   ]
  },
  {
   "cell_type": "markdown",
   "metadata": {},
   "source": [
    "Querying for time series...."
   ]
  },
  {
   "cell_type": "code",
   "execution_count": null,
   "metadata": {},
   "outputs": [],
   "source": [
    "end_point = '/entries/?feature_type=timeSeries'\n",
    "url = '%s%s' % (api_url, end_point)\n",
    "entries_request = requests.get(url, headers=headers)\n",
    "entries_response = json.loads(entries_request.text)\n",
    "print('API query url: '+ url)\n",
    "print('opendap service url for the first entry/file on list: ' + entries_response['results'][0]['services']['opendap']['url'])"
   ]
  },
  {
   "cell_type": "markdown",
   "metadata": {},
   "source": [
    "Let's access the above file trough the opendap-url"
   ]
  },
  {
   "cell_type": "code",
   "execution_count": null,
   "metadata": {},
   "outputs": [],
   "source": [
    "entry_opendap_url =  entries_response['results'][0]['services']['opendap']['url']\n",
    "ds = xarray.open_dataset(entry_opendap_url)\n",
    "ds.close()\n",
    "ds"
   ]
  },
  {
   "cell_type": "markdown",
   "metadata": {},
   "source": [
    "Let's make also a quick plot of one of its variables:"
   ]
  },
  {
   "cell_type": "code",
   "execution_count": null,
   "metadata": {},
   "outputs": [],
   "source": [
    "ds['AIR_PRE'].plot()"
   ]
  },
  {
   "cell_type": "markdown",
   "metadata": {},
   "source": [
    "<div class=\"alert alert-block alert-warning\" style=\"margin-left: 4em\">\n",
    "<b>Tip!</b>\n",
    "    \n",
    "***\n",
    "Check [XARRAY documentation](http://xarray.pydata.org/en/stable/) for testing how to deal with netCDF files."
   ]
  },
  {
   "cell_type": "markdown",
   "metadata": {},
   "source": [
    "#### thredds_catalog"
   ]
  },
  {
   "cell_type": "markdown",
   "metadata": {},
   "source": [
    "Thredds_catalog service is actually pointing toward the file dedicated url in SOCIB Thredds Web Catalog for a troughout checking. Let's see how it looks!"
   ]
  },
  {
   "cell_type": "markdown",
   "metadata": {},
   "source": [
    "Again, for example querying for timeSerie data...."
   ]
  },
  {
   "cell_type": "code",
   "execution_count": null,
   "metadata": {},
   "outputs": [],
   "source": [
    "end_point = '/entries/?feature_type=timeSeries'\n",
    "url = '%s%s' % (api_url, end_point)\n",
    "entries_request = requests.get(url, headers=headers)\n",
    "entries_response = json.loads(entries_request.text)\n",
    "print('API query url: '+ url)\n",
    "print('thredds catalog service url for the first entry/file on list: ' + entries_response['results'][0]['services']['thredds_catalog']['url'])"
   ]
  },
  {
   "cell_type": "markdown",
   "metadata": {},
   "source": [
    "Let's check it above page in a iframe:"
   ]
  },
  {
   "cell_type": "code",
   "execution_count": null,
   "metadata": {},
   "outputs": [],
   "source": [
    "entry_thredds_catalog_url =  entries_response['results'][0]['services']['thredds_catalog']['url']\n",
    "IPython.display.HTML('<iframe src=\"'+entry_thredds_catalog_url+'\" width=100% height=500></iframe>')"
   ]
  },
  {
   "cell_type": "markdown",
   "metadata": {},
   "source": [
    "#### WMS"
   ]
  },
  {
   "cell_type": "markdown",
   "metadata": {},
   "source": [
    "WMS services are only avaialable for gridded like data. And enables retrieveing discrete information from such grid as well as map fields. Let's check it!"
   ]
  },
  {
   "cell_type": "markdown",
   "metadata": {},
   "source": [
    "Querying for grided like data...."
   ]
  },
  {
   "cell_type": "code",
   "execution_count": null,
   "metadata": {},
   "outputs": [],
   "source": [
    "end_point = '/entries/?feature_type=grid'\n",
    "url = '%s%s' % (api_url, end_point)\n",
    "entries_request = requests.get(url, headers=headers)\n",
    "entries_response = json.loads(entries_request.text)\n",
    "print('API query url: '+ url)\n",
    "print('WMS service url for the first entry/file on list: ' + entries_response['results'][0]['services']['wms']['url'])"
   ]
  },
  {
   "cell_type": "markdown",
   "metadata": {},
   "source": [
    "<ul><li><b>Map info</b></li></ul>"
   ]
  },
  {
   "cell_type": "code",
   "execution_count": null,
   "metadata": {},
   "outputs": [],
   "source": [
    "entry_wms_url = entries_response['results'][0]['services']['wms']['url']\n",
    "wms = WebMapService(entry_wms_url)\n",
    "for layer in wms.contents.keys():\n",
    "    print(layer + ' = ' + wms[layer].title)"
   ]
  },
  {
   "cell_type": "markdown",
   "metadata": {},
   "source": [
    "Let's choose one of the above variables and calculate the center of its bounding box: run the next cells"
   ]
  },
  {
   "cell_type": "code",
   "execution_count": null,
   "metadata": {},
   "outputs": [],
   "source": [
    "target = 'WSPE_ORG'\n",
    "lon = (wms[target].boundingBox[0] + wms[target].boundingBox[2]) / 2.\n",
    "lat = (wms[target].boundingBox[1] + wms[target].boundingBox[3]) / 2.\n",
    "center = lat, lon\n",
    "print(center)"
   ]
  },
  {
   "cell_type": "markdown",
   "metadata": {},
   "source": [
    "Let's now display the chosen variable on a map centered in the abobe lat,lon point: run the next cells"
   ]
  },
  {
   "cell_type": "markdown",
   "metadata": {},
   "source": [
    "<div class=\"alert alert-block alert-warning\" style=\"margin-left: 4em\">\n",
    "<b>Warning!</b>\n",
    "    \n",
    "***\n",
    "Be aware that internet explorer browsers won't render the below map. If you are using such browser for running the notebook please change to another (i.e chrome!)"
   ]
  },
  {
   "cell_type": "code",
   "execution_count": null,
   "metadata": {},
   "outputs": [],
   "source": [
    "#Style definition: first style available - try others by changing the value of the index\n",
    "style_index = 0\n",
    "style = [wms[target].styles[key]['title'] for key in wms[target].styles.keys()][style_index] \n",
    "print(style)"
   ]
  },
  {
   "cell_type": "code",
   "execution_count": null,
   "metadata": {},
   "outputs": [],
   "source": [
    "#legend definition: first legend available - try others by changing the value of the index\n",
    "legend_index = 0\n",
    "legend = [wms[target].styles[key]['legend'] for key in wms[target].styles.keys()][legend_index]\n",
    "print(legend)"
   ]
  },
  {
   "cell_type": "code",
   "execution_count": null,
   "metadata": {},
   "outputs": [],
   "source": [
    "ini = wms[target].timepositions[0].strip()\n",
    "end = wms[target].timepositions[-1].strip()\n",
    "time_coverage = (ini+'/'+end).split('/P')[0]\n",
    "print(time_coverage)"
   ]
  },
  {
   "cell_type": "code",
   "execution_count": null,
   "metadata": {},
   "outputs": [],
   "source": [
    "#Layer specification\n",
    "w = folium.raster_layers.WmsTileLayer(\n",
    "    url=url,\n",
    "    name=wms[target].title,\n",
    "    styles=style,\n",
    "    fmt='image/png',\n",
    "    transparent=True,\n",
    "    layers=target,\n",
    "    overlay=True,\n",
    ")\n",
    "time_layer = plugins.TimestampedWmsTileLayers(w,period='P1H',time_interval=time_coverage)"
   ]
  },
  {
   "cell_type": "code",
   "execution_count": null,
   "metadata": {},
   "outputs": [],
   "source": [
    "#layer display on map\n",
    "m = folium.Map(\n",
    "    location=center,\n",
    "    zoom_start=2,\n",
    "    control_scale=True\n",
    ")\n",
    "time_layer.add_to(m)\n",
    "#layer style\n",
    "legend_html = '<div style=\"position: fixed; bottom: 50px; right:0px; z-index:9999\"><img src=\"'+legend+'\"></div>'\n",
    "#add legend to map\n",
    "m.get_root().html.add_child(folium.Element(legend_html))\n",
    "#show map\n",
    "m"
   ]
  },
  {
   "cell_type": "markdown",
   "metadata": {},
   "source": [
    "<ul><li><b>Discrete info</b></li></ul>"
   ]
  },
  {
   "cell_type": "markdown",
   "metadata": {},
   "source": [
    "Let's choose a location: i.e the center of the layer"
   ]
  },
  {
   "cell_type": "code",
   "execution_count": null,
   "metadata": {},
   "outputs": [],
   "source": [
    "target = 'WSPE_ORG'\n",
    "lon = (wms[target].boundingBox[0] + wms[target].boundingBox[2]) / 2.\n",
    "lat = (wms[target].boundingBox[1] + wms[target].boundingBox[3]) / 2.\n",
    "center = lat, lon\n",
    "print(center)"
   ]
  },
  {
   "cell_type": "markdown",
   "metadata": {},
   "source": [
    "Let's choose a time range: i.e the whole time covered by the file"
   ]
  },
  {
   "cell_type": "code",
   "execution_count": null,
   "metadata": {},
   "outputs": [],
   "source": [
    "ini = wms[target].timepositions[0].strip()\n",
    "end = wms[target].timepositions[-1].strip()\n",
    "time_coverage = (ini+'/'+end).split('/P')[0]\n",
    "print(time_coverage)"
   ]
  },
  {
   "cell_type": "markdown",
   "metadata": {},
   "source": [
    "Let's get the rectangle whith such point as centroid:"
   ]
  },
  {
   "cell_type": "code",
   "execution_count": null,
   "metadata": {},
   "outputs": [],
   "source": [
    "#Remember, the grid_size of the product is 0.5\n",
    "lon_min = 0.8\n",
    "lon_max = 1\n",
    "lat_min = 38.6\n",
    "lat_max = 38.9\n",
    "bbox = ','.join([str(lon_min), str(lat_min), str(lon_max), str(lat_max)])"
   ]
  },
  {
   "cell_type": "markdown",
   "metadata": {},
   "source": [
    "Let's build the query to the WMS now:"
   ]
  },
  {
   "cell_type": "code",
   "execution_count": null,
   "metadata": {},
   "outputs": [],
   "source": [
    "query = entry_wms_url+'?'+\\\n",
    "'SERVICE=WMS&VERSION=1.1.1&REQUEST=GetFeatureInfo&HEIGHT=1&WIDTH=1&INFO_FORMAT=text/xml&SRS=EPSG:4326&X=0&Y=0'+\\\n",
    "'&TIME='+time_coverage+\\\n",
    "'&LAYERS='+target+\\\n",
    "'&QUERY_LAYERS='+target+\\\n",
    "'&BBOX='+bbox\n",
    "print(query)"
   ]
  },
  {
   "cell_type": "markdown",
   "metadata": {},
   "source": [
    "Let's make the query!:"
   ]
  },
  {
   "cell_type": "code",
   "execution_count": null,
   "metadata": {},
   "outputs": [],
   "source": [
    "response = requests.get(query)\n",
    "data = xmltodict.parse(response.content)\n",
    "print('Time serie at point: '+','.join([str(lat),str(lon)]))\n",
    "for info in data['FeatureInfoResponse']['FeatureInfo']:\n",
    "    print(info['time'])\n",
    "    print(info['value'])\n",
    "    print('------------')"
   ]
  },
  {
   "cell_type": "markdown",
   "metadata": {},
   "source": [
    "---"
   ]
  },
  {
   "cell_type": "markdown",
   "metadata": {},
   "source": [
    "## Next tutorial"
   ]
  },
  {
   "cell_type": "markdown",
   "metadata": {},
   "source": [
    "<div class=\"alert alert-block alert-success\" style=\"margin-left: 2em\">\n",
    "<b>More!</b>\n",
    "    \n",
    "***  \n",
    "To see way more about SOCIB entries next dedicated notebooks:\n",
    "<ul>\n",
    "    <li><span><a href=\"../entries/04-entry-data-as-json.ipynb\">04-entry-data-as-json</a></span></li>\n",
    "</ul>"
   ]
  }
 ],
 "metadata": {
  "finalized": {
   "timestamp": 1575909286099,
   "trusted": true
  },
  "kernelspec": {
   "display_name": "Python 3",
   "language": "python",
   "name": "python3"
  },
  "language_info": {
   "codemirror_mode": {
    "name": "ipython",
    "version": 3
   },
   "file_extension": ".py",
   "mimetype": "text/x-python",
   "name": "python",
   "nbconvert_exporter": "python",
   "pygments_lexer": "ipython3",
   "version": "3.7.3"
  },
  "toc": {
   "base_numbering": 1,
   "nav_menu": {},
   "number_sections": true,
   "sideBar": true,
   "skip_h1_title": true,
   "title_cell": "Table of Contents",
   "title_sidebar": "Contents",
   "toc_cell": true,
   "toc_position": {},
   "toc_section_display": true,
   "toc_window_display": false
  }
 },
 "nbformat": 4,
 "nbformat_minor": 2
}
