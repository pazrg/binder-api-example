{
 "cells": [
  {
   "cell_type": "code",
   "execution_count": null,
   "metadata": {},
   "outputs": [],
   "source": [
    "#PACKAGES\n",
    "import requests\n",
    "import json\n",
    "import pandas"
   ]
  },
  {
   "cell_type": "code",
   "execution_count": null,
   "metadata": {},
   "outputs": [],
   "source": [
    "#SOCIB API settings\n",
    "api_key = '' #write you SOCIB api_key => get it from http://api.socib.es/home/ (formulary at the bottom of the page)\n",
    "api_url = 'http://api.socib.es'\n",
    "headers = {\n",
    "    'accept': 'application/vnd.socib+json',\n",
    "    'apikey': api_key,\n",
    "}"
   ]
  },
  {
   "cell_type": "code",
   "execution_count": null,
   "metadata": {},
   "outputs": [],
   "source": [
    "#API QUERY ELEMENTS\n",
    "platform = 'Mobims_SonBou' #check for more ids at: http://api.socib.es/platforms/ ---> filter by passing a platform_type parameter if needed (see available codes at: http://api.socib.es/platform-types/)\n",
    "end_point = '/entries/?platform='+platform"
   ]
  },
  {
   "cell_type": "code",
   "execution_count": null,
   "metadata": {},
   "outputs": [],
   "source": [
    "#Getting raw array of netCDFs (entries) from a given platform -> the resulting array preserves defauting fields \n",
    "apiCache = {}\n",
    "entries = []\n",
    "url = '%s%s' % (api_url, end_point)\n",
    "while url != None:\n",
    "    request_ = requests.get(url, headers=headers)\n",
    "    response_ = json.loads(request_.text)\n",
    "    for entry in response_['results']:#loop over netCDFs (entries)\n",
    "        data = {}\n",
    "        data['id'] = entry['id']\n",
    "        data['netCDF_name'] = entry['services']['opendap']['url'].split('/')[-1]\n",
    "        data['processing_level'] = entry['processing_level']\n",
    "        data['data_mode'] = entry['data_mode']\n",
    "        data['initial_datetime'] = entry['initial_datetime']\n",
    "        data['end_datetime'] = entry['end_datetime']\n",
    "        data['variables'] = entry['variables']\n",
    "        data['opendap_url'] = entry['services']['opendap']['url']\n",
    "        data['http_url'] = entry['services']['http_file']['url']\n",
    "        data['catalog_url'] = entry['services']['thredds_catalog']['url']\n",
    "        if entry['instrument']!=None:\n",
    "            #instrument name\n",
    "            url = entry['instrument'].replace('data-','')\n",
    "            try:\n",
    "                response = apiCache[url]\n",
    "            except Exception as e:\n",
    "                request = requests.get(url, headers=headers)\n",
    "                apiCache[url] = json.loads(request.text)\n",
    "                response = apiCache[url]\n",
    "            data['instrument_name'] = response['name']\n",
    "            #instrument type and category\n",
    "            url = response['type']\n",
    "            try:\n",
    "                response = apiCache[url]\n",
    "            except Exception as e:\n",
    "                try:\n",
    "                    request = requests.get(url, headers=headers)\n",
    "                    apiCache[url] = json.loads(request.text)\n",
    "                    response = apiCache[url]\n",
    "                except:\n",
    "                    response['name'] = ''\n",
    "                    response['type'] = ''\n",
    "            data['instrument_type'] = response['name']\n",
    "            data['instrument_category'] = response['type']\n",
    "        else:\n",
    "            data['instrument_name'] = ''\n",
    "            data['instrument_type'] = ''\n",
    "            data['instrument_category'] = ''\n",
    "        entries.append(data)\n",
    "    url = response_['next']\n",
    "    print(url)"
   ]
  },
  {
   "cell_type": "code",
   "execution_count": null,
   "metadata": {},
   "outputs": [],
   "source": [
    "#Getting CSV -> ordering the ouput by date, isntrument type, instrument name and processing level\n",
    "csv_name = platform+'_netCDFs.csv'\n",
    "ordered_header = ['instrument_category', 'instrument_type', 'instrument_name', 'processing_level', 'data_mode', 'initial_datetime', 'end_datetime', 'variables', 'netCDF_name', 'id', 'opendap_url', 'http_url', 'catalog_url']\n",
    "nc_dataframe = pandas.DataFrame.from_dict(entries).sort_values(['instrument_category','instrument_type', 'processing_level', 'instrument_name', 'end_datetime'])\n",
    "nc_dataframe[ordered_header].to_csv(csv_name,index=False)"
   ]
  }
 ],
 "metadata": {
  "kernelspec": {
   "display_name": "Python 3",
   "language": "python",
   "name": "python3"
  },
  "language_info": {
   "codemirror_mode": {
    "name": "ipython",
    "version": 3
   },
   "file_extension": ".py",
   "mimetype": "text/x-python",
   "name": "python",
   "nbconvert_exporter": "python",
   "pygments_lexer": "ipython3",
   "version": "3.7.3"
  }
 },
 "nbformat": 4,
 "nbformat_minor": 2
}
